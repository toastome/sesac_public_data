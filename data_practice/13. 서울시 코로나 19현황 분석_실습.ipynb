{
 "cells": [
  {
   "cell_type": "code",
   "execution_count": null,
   "id": "a0e7265e",
   "metadata": {},
   "outputs": [],
   "source": [
    "import pandas as pd\n",
    "import matplotlib.pyplot as plt"
   ]
  },
  {
   "cell_type": "code",
   "execution_count": null,
   "id": "d0620a98",
   "metadata": {},
   "outputs": [],
   "source": [
    "plt.plot([1,2,3],[4,5,6])\n",
    "plt.title('그래프')\n",
    "plt.show()"
   ]
  },
  {
   "cell_type": "code",
   "execution_count": null,
   "id": "b5b7352a",
   "metadata": {},
   "outputs": [],
   "source": [
    "# 그래프를 노트북 안에 그리기 위해 설정\n",
    "%matplotlib inline\n",
    "\n",
    "# 필요한 패키지와 라이브러리 가져온다.\n",
    "import matplotlib as mpl\n",
    "import matplotlib.pyplot as plt\n",
    "import matplotlib.font_manager as fm\n",
    "\n",
    "# 그래프에서 마이너스 폰트 깨지는 문제에 대한 대처\n",
    "mpl.rcParams['axes.unicode_minus'] = False\n",
    "\n",
    "# 폰트 지정하기\n",
    "plt.rcParams['font.family'] = 'NanumGothic'"
   ]
  },
  {
   "cell_type": "code",
   "execution_count": null,
   "id": "b0701397",
   "metadata": {
    "scrolled": false
   },
   "outputs": [],
   "source": [
    "# 폰트 확인하기\n",
    "[f.name for f in fm.fontManager.ttflist if 'Nanum' in f.name]"
   ]
  },
  {
   "cell_type": "markdown",
   "id": "e40f2678",
   "metadata": {},
   "source": [
    "* 데이터 수집     \n",
    "https://data.seoul.go.kr/dataList/1/literacyView.do            \n",
    "파일을 utf-8로 변환하여 사용"
   ]
  },
  {
   "cell_type": "markdown",
   "id": "a108f1de",
   "metadata": {},
   "source": [
    "# 데이터 불러오기"
   ]
  },
  {
   "cell_type": "code",
   "execution_count": null,
   "id": "dec9aa69",
   "metadata": {
    "scrolled": true
   },
   "outputs": [],
   "source": []
  },
  {
   "cell_type": "code",
   "execution_count": null,
   "id": "5b1a7083",
   "metadata": {
    "scrolled": false
   },
   "outputs": [],
   "source": []
  },
  {
   "cell_type": "markdown",
   "id": "cffa5956",
   "metadata": {},
   "source": [
    "# 데이터 확인 및 전처리"
   ]
  },
  {
   "cell_type": "markdown",
   "id": "0dba6afa",
   "metadata": {},
   "source": [
    "## 컬럼별 데이터 확인"
   ]
  },
  {
   "cell_type": "code",
   "execution_count": null,
   "id": "ac016859",
   "metadata": {
    "scrolled": false
   },
   "outputs": [],
   "source": []
  },
  {
   "cell_type": "markdown",
   "id": "10928d71",
   "metadata": {},
   "source": [
    "## 불필요한 컬럼 삭제"
   ]
  },
  {
   "cell_type": "code",
   "execution_count": null,
   "id": "0f78a08d",
   "metadata": {
    "scrolled": true
   },
   "outputs": [],
   "source": []
  },
  {
   "cell_type": "code",
   "execution_count": null,
   "id": "f37d004e",
   "metadata": {},
   "outputs": [],
   "source": []
  },
  {
   "cell_type": "markdown",
   "id": "55196937",
   "metadata": {},
   "source": [
    "## 자료형 변환"
   ]
  },
  {
   "cell_type": "code",
   "execution_count": null,
   "id": "c4a16b31",
   "metadata": {
    "scrolled": false
   },
   "outputs": [],
   "source": [
    "# 자료형 확인"
   ]
  },
  {
   "cell_type": "code",
   "execution_count": null,
   "id": "4c963fb0",
   "metadata": {
    "scrolled": true
   },
   "outputs": [],
   "source": [
    "# 확진일 --> datetime"
   ]
  },
  {
   "cell_type": "code",
   "execution_count": null,
   "id": "9c93e30a",
   "metadata": {},
   "outputs": [],
   "source": []
  },
  {
   "cell_type": "code",
   "execution_count": null,
   "id": "c639791e",
   "metadata": {},
   "outputs": [],
   "source": [
    "# 지역의 공백 제거"
   ]
  },
  {
   "cell_type": "code",
   "execution_count": null,
   "id": "60061144",
   "metadata": {
    "scrolled": true
   },
   "outputs": [],
   "source": []
  },
  {
   "cell_type": "code",
   "execution_count": null,
   "id": "fafe6780",
   "metadata": {},
   "outputs": [],
   "source": []
  },
  {
   "cell_type": "code",
   "execution_count": null,
   "id": "e745d235",
   "metadata": {},
   "outputs": [],
   "source": []
  },
  {
   "cell_type": "code",
   "execution_count": null,
   "id": "a0e3b0e6",
   "metadata": {},
   "outputs": [],
   "source": []
  },
  {
   "cell_type": "code",
   "execution_count": null,
   "id": "4e4d105d",
   "metadata": {
    "scrolled": false
   },
   "outputs": [],
   "source": [
    "# 지역, 상태 --> category (지역의 공백 제거)"
   ]
  },
  {
   "cell_type": "code",
   "execution_count": null,
   "id": "8cb40d16",
   "metadata": {},
   "outputs": [],
   "source": []
  },
  {
   "cell_type": "code",
   "execution_count": null,
   "id": "89cfd442",
   "metadata": {
    "scrolled": false
   },
   "outputs": [],
   "source": [
    "# 정보"
   ]
  },
  {
   "cell_type": "markdown",
   "id": "3d52427b",
   "metadata": {},
   "source": [
    "## 결측치 분석"
   ]
  },
  {
   "cell_type": "code",
   "execution_count": null,
   "id": "8ffde96d",
   "metadata": {
    "scrolled": true
   },
   "outputs": [],
   "source": []
  },
  {
   "cell_type": "code",
   "execution_count": null,
   "id": "c9e19fbc",
   "metadata": {
    "scrolled": true
   },
   "outputs": [],
   "source": []
  },
  {
   "cell_type": "markdown",
   "id": "7d6471b2",
   "metadata": {},
   "source": [
    "# 구 별 확진자 동향"
   ]
  },
  {
   "cell_type": "markdown",
   "id": "0a0b3939",
   "metadata": {},
   "source": [
    "## 확진일-구별 확진자수 집계"
   ]
  },
  {
   "cell_type": "markdown",
   "id": "d9791944",
   "metadata": {},
   "source": [
    "### 피봇테이블 만들기"
   ]
  },
  {
   "cell_type": "code",
   "execution_count": null,
   "id": "a97604f8",
   "metadata": {},
   "outputs": [],
   "source": []
  },
  {
   "cell_type": "markdown",
   "id": "d1da6b0b",
   "metadata": {},
   "source": [
    "### 서울시 일별 추가확진자 동향"
   ]
  },
  {
   "cell_type": "code",
   "execution_count": null,
   "id": "8bdaed31",
   "metadata": {},
   "outputs": [],
   "source": []
  },
  {
   "cell_type": "code",
   "execution_count": null,
   "id": "331e55ff",
   "metadata": {},
   "outputs": [],
   "source": [
    "# 서울시 일별 추가확진자가 많았던 순으로 보기"
   ]
  },
  {
   "cell_type": "code",
   "execution_count": null,
   "id": "98432653",
   "metadata": {},
   "outputs": [],
   "source": [
    "# 서울시 일별 추가확진자 시각화"
   ]
  },
  {
   "cell_type": "markdown",
   "id": "5232cb10",
   "metadata": {},
   "source": [
    "### 서울시 구별 누적확진자 비교"
   ]
  },
  {
   "cell_type": "code",
   "execution_count": null,
   "id": "17103ffc",
   "metadata": {
    "scrolled": false
   },
   "outputs": [],
   "source": [
    "# 서울시 구별 누적확진자 많은 순으로 보기"
   ]
  },
  {
   "cell_type": "code",
   "execution_count": null,
   "id": "ea5234c3",
   "metadata": {},
   "outputs": [],
   "source": [
    "# 서울시 구별 누적확진자 많은 순으로 시각화"
   ]
  },
  {
   "cell_type": "markdown",
   "id": "623a36ba",
   "metadata": {},
   "source": [
    "### 최근일 기준 지역별 추가확진자 "
   ]
  },
  {
   "cell_type": "code",
   "execution_count": null,
   "id": "99722fe5",
   "metadata": {},
   "outputs": [],
   "source": []
  },
  {
   "cell_type": "code",
   "execution_count": null,
   "id": "7617f26e",
   "metadata": {
    "scrolled": true
   },
   "outputs": [],
   "source": []
  },
  {
   "cell_type": "code",
   "execution_count": null,
   "id": "6c50e164",
   "metadata": {},
   "outputs": [],
   "source": []
  },
  {
   "cell_type": "markdown",
   "id": "8c8f18f2",
   "metadata": {},
   "source": [
    "## 접촉력에 따른 확진 분석"
   ]
  },
  {
   "cell_type": "markdown",
   "id": "684b0130",
   "metadata": {},
   "source": [
    "### 접촉력에 따른 확진 건수 best10"
   ]
  },
  {
   "cell_type": "code",
   "execution_count": null,
   "id": "f642170f",
   "metadata": {
    "scrolled": false
   },
   "outputs": [],
   "source": []
  },
  {
   "cell_type": "markdown",
   "id": "e8bf4a97",
   "metadata": {},
   "source": [
    "### 최근월 접촉력에 따른 확진 건수 best10\n",
    "* 2021-09"
   ]
  },
  {
   "cell_type": "code",
   "execution_count": null,
   "id": "142343db",
   "metadata": {
    "scrolled": false
   },
   "outputs": [],
   "source": []
  },
  {
   "cell_type": "code",
   "execution_count": null,
   "id": "5e78cb86",
   "metadata": {},
   "outputs": [],
   "source": []
  },
  {
   "cell_type": "code",
   "execution_count": null,
   "id": "25eafb3c",
   "metadata": {},
   "outputs": [],
   "source": []
  }
 ],
 "metadata": {
  "kernelspec": {
   "display_name": "Python 3",
   "language": "python",
   "name": "python3"
  },
  "language_info": {
   "codemirror_mode": {
    "name": "ipython",
    "version": 3
   },
   "file_extension": ".py",
   "mimetype": "text/x-python",
   "name": "python",
   "nbconvert_exporter": "python",
   "pygments_lexer": "ipython3",
   "version": "3.8.8"
  },
  "toc": {
   "base_numbering": 1,
   "nav_menu": {},
   "number_sections": true,
   "sideBar": true,
   "skip_h1_title": false,
   "title_cell": "Table of Contents",
   "title_sidebar": "Contents",
   "toc_cell": false,
   "toc_position": {
    "height": "calc(100% - 180px)",
    "left": "10px",
    "top": "150px",
    "width": "245.75px"
   },
   "toc_section_display": true,
   "toc_window_display": true
  }
 },
 "nbformat": 4,
 "nbformat_minor": 5
}
