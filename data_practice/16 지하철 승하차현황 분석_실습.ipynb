{
 "cells": [
  {
   "cell_type": "markdown",
   "id": "20f6d556",
   "metadata": {},
   "source": [
    "* 데이터 수집      \n",
    "  http://data.seoul.go.kr/dataList/OA-12252/S/1/datasetView.do"
   ]
  },
  {
   "cell_type": "code",
   "execution_count": null,
   "id": "bcef9f87",
   "metadata": {},
   "outputs": [],
   "source": [
    "import pandas as pd"
   ]
  },
  {
   "cell_type": "code",
   "execution_count": null,
   "id": "79689f6c",
   "metadata": {},
   "outputs": [],
   "source": [
    "# 그래프를 노트북 안에 그리기 위해 설정\n",
    "%matplotlib inline\n",
    "\n",
    "# 필요한 패키지와 라이브러리 가져온다.\n",
    "import matplotlib as mpl\n",
    "import matplotlib.pyplot as plt\n",
    "import matplotlib.font_manager as fm\n",
    "\n",
    "# 그래프에서 마이너스 폰트 깨지는 문제에 대한 대처\n",
    "mpl.rcParams['axes.unicode_minus'] = False\n",
    "\n",
    "# 폰트 지정하기\n",
    "plt.rcParams['font.family'] = 'gulim'"
   ]
  },
  {
   "cell_type": "markdown",
   "id": "5b0e4080",
   "metadata": {},
   "source": [
    "# 데이터 확인 및 전처리\n",
    " * 월별, 시간대별, 역별 지하철 승하차정보 데이터이다."
   ]
  },
  {
   "cell_type": "code",
   "execution_count": null,
   "id": "829f3ab8",
   "metadata": {},
   "outputs": [],
   "source": [
    "df = pd.read_csv('data/서울시 지하철 호선별 역별 시간대별 승하차 인원 정보.csv', encoding='cp949')"
   ]
  },
  {
   "cell_type": "code",
   "execution_count": null,
   "id": "ba52b75b",
   "metadata": {
    "scrolled": false
   },
   "outputs": [],
   "source": [
    "df.head()"
   ]
  },
  {
   "cell_type": "code",
   "execution_count": null,
   "id": "a2b441ae",
   "metadata": {
    "scrolled": false
   },
   "outputs": [],
   "source": [
    "df.tail()"
   ]
  },
  {
   "cell_type": "markdown",
   "id": "72465f81",
   "metadata": {},
   "source": [
    "## 데이터 크기 "
   ]
  },
  {
   "cell_type": "code",
   "execution_count": null,
   "id": "012a275b",
   "metadata": {
    "scrolled": true
   },
   "outputs": [],
   "source": []
  },
  {
   "cell_type": "markdown",
   "id": "4f5acb91",
   "metadata": {},
   "source": [
    "## 결측치 확인"
   ]
  },
  {
   "cell_type": "code",
   "execution_count": null,
   "id": "ea6de7f7",
   "metadata": {},
   "outputs": [],
   "source": []
  },
  {
   "cell_type": "markdown",
   "id": "d2909678",
   "metadata": {},
   "source": [
    "## 컬럼별 데이터 확인"
   ]
  },
  {
   "cell_type": "code",
   "execution_count": null,
   "id": "e43119b2",
   "metadata": {
    "scrolled": false
   },
   "outputs": [],
   "source": [
    "# 사용월"
   ]
  },
  {
   "cell_type": "code",
   "execution_count": null,
   "id": "cbcef584",
   "metadata": {
    "scrolled": false
   },
   "outputs": [],
   "source": [
    "# 호선명"
   ]
  },
  {
   "cell_type": "markdown",
   "id": "a01084c5",
   "metadata": {},
   "source": [
    "## 데이터 타입 확인 및 변경"
   ]
  },
  {
   "cell_type": "code",
   "execution_count": null,
   "id": "ec8315ec",
   "metadata": {
    "scrolled": false
   },
   "outputs": [],
   "source": []
  },
  {
   "cell_type": "code",
   "execution_count": null,
   "id": "cc83fdb4",
   "metadata": {},
   "outputs": [],
   "source": []
  },
  {
   "cell_type": "code",
   "execution_count": null,
   "id": "dce89dd2",
   "metadata": {},
   "outputs": [],
   "source": []
  },
  {
   "cell_type": "markdown",
   "id": "274e06e0",
   "metadata": {},
   "source": [
    "## 불필요한 컬럼 삭제"
   ]
  },
  {
   "cell_type": "code",
   "execution_count": null,
   "id": "10de106e",
   "metadata": {},
   "outputs": [],
   "source": []
  },
  {
   "cell_type": "markdown",
   "id": "fc5a56ba",
   "metadata": {},
   "source": [
    "## 승차/하차 테이블 분리"
   ]
  },
  {
   "cell_type": "markdown",
   "id": "c418201a",
   "metadata": {},
   "source": [
    "### 승차 테이블 만들기"
   ]
  },
  {
   "cell_type": "code",
   "execution_count": null,
   "id": "efb153a2",
   "metadata": {
    "scrolled": false
   },
   "outputs": [],
   "source": []
  },
  {
   "cell_type": "code",
   "execution_count": null,
   "id": "805c78a1",
   "metadata": {},
   "outputs": [],
   "source": [
    "# 공통 컬럼\n",
    "\n",
    "# 승차 컬럼만 가져오기"
   ]
  },
  {
   "cell_type": "code",
   "execution_count": null,
   "id": "84c96ca1",
   "metadata": {},
   "outputs": [],
   "source": [
    "# 공통컬럼과 승차컬럼 연결하기"
   ]
  },
  {
   "cell_type": "markdown",
   "id": "cd2bb995",
   "metadata": {},
   "source": [
    "## 하차 테이블 만들기"
   ]
  },
  {
   "cell_type": "code",
   "execution_count": null,
   "id": "410bed04",
   "metadata": {},
   "outputs": [],
   "source": [
    "# 공통 컬럼\n",
    "\n",
    "# 하차 컬럼만 가져오기\n"
   ]
  },
  {
   "cell_type": "code",
   "execution_count": null,
   "id": "7eb38239",
   "metadata": {
    "scrolled": false
   },
   "outputs": [],
   "source": [
    "# 공통컬럼과 하차컬럼 연결하기"
   ]
  },
  {
   "cell_type": "markdown",
   "id": "46d78b5c",
   "metadata": {},
   "source": [
    "# 출퇴근시간 역별 승하차인원 분석"
   ]
  },
  {
   "cell_type": "markdown",
   "id": "e92f38ee",
   "metadata": {},
   "source": [
    "* 최근 월을 기준으로 한 승하차 데이터프레임 생성"
   ]
  },
  {
   "cell_type": "code",
   "execution_count": null,
   "id": "4be667c0",
   "metadata": {},
   "outputs": [],
   "source": []
  },
  {
   "cell_type": "code",
   "execution_count": null,
   "id": "7518fe2f",
   "metadata": {},
   "outputs": [],
   "source": []
  },
  {
   "cell_type": "markdown",
   "id": "8bb757a9",
   "metadata": {},
   "source": [
    "* 출근시간에 가장 많은 사람이 승차하는 역은 어디일까? (08시-09시)"
   ]
  },
  {
   "cell_type": "code",
   "execution_count": null,
   "id": "572fcdce",
   "metadata": {},
   "outputs": [],
   "source": []
  },
  {
   "cell_type": "markdown",
   "id": "308ecebf",
   "metadata": {},
   "source": [
    "* 출근시간에 가장 많은 사람이 하차하는 역은 어디일까?(09시-10시)"
   ]
  },
  {
   "cell_type": "code",
   "execution_count": null,
   "id": "655bc2f5",
   "metadata": {},
   "outputs": [],
   "source": []
  },
  {
   "cell_type": "markdown",
   "id": "47b9d477",
   "metadata": {},
   "source": [
    "* 퇴근시간에 가장 많은 사람이 승차하는 역은 어디일까?(18시-19시)"
   ]
  },
  {
   "cell_type": "code",
   "execution_count": null,
   "id": "a24666a1",
   "metadata": {
    "scrolled": false
   },
   "outputs": [],
   "source": []
  },
  {
   "cell_type": "markdown",
   "id": "7b107934",
   "metadata": {},
   "source": [
    "* 퇴근시간에 가장 많은 사람이 하차하는 역은 어디일까?(19시-20시)"
   ]
  },
  {
   "cell_type": "code",
   "execution_count": null,
   "id": "1644853c",
   "metadata": {
    "scrolled": true
   },
   "outputs": [],
   "source": []
  },
  {
   "cell_type": "markdown",
   "id": "834db46d",
   "metadata": {},
   "source": [
    "\n",
    "# 강남역의 최근 시간대별 승하차정보 분석"
   ]
  },
  {
   "cell_type": "markdown",
   "id": "fc8ba1a1",
   "metadata": {},
   "source": [
    "## 강남역의 최근 승차정보 분석"
   ]
  },
  {
   "cell_type": "code",
   "execution_count": null,
   "id": "4f0e1d1c",
   "metadata": {
    "scrolled": false
   },
   "outputs": [],
   "source": [
    "# 강남역의 최근 승차 데이터 불러오기 "
   ]
  },
  {
   "cell_type": "code",
   "execution_count": null,
   "id": "0e6e110a",
   "metadata": {},
   "outputs": [],
   "source": [
    "# melt"
   ]
  },
  {
   "cell_type": "code",
   "execution_count": null,
   "id": "2c244671",
   "metadata": {},
   "outputs": [],
   "source": [
    "# 컬럼명 변경"
   ]
  },
  {
   "cell_type": "code",
   "execution_count": null,
   "id": "d99c58c2",
   "metadata": {},
   "outputs": [],
   "source": [
    "# 시간대별 승차인원 시각화하기"
   ]
  },
  {
   "cell_type": "markdown",
   "id": "91a87020",
   "metadata": {},
   "source": [
    "## 강남역의 최근 하차 정보 분석"
   ]
  },
  {
   "cell_type": "code",
   "execution_count": null,
   "id": "155d7145",
   "metadata": {
    "scrolled": true
   },
   "outputs": [],
   "source": [
    "# 강남역의 최근 하차 데이터 불러오기 "
   ]
  },
  {
   "cell_type": "code",
   "execution_count": null,
   "id": "208665f6",
   "metadata": {
    "scrolled": false
   },
   "outputs": [],
   "source": [
    "# melt"
   ]
  },
  {
   "cell_type": "code",
   "execution_count": null,
   "id": "c69f3797",
   "metadata": {
    "scrolled": false
   },
   "outputs": [],
   "source": [
    "# 컬럼명 변경"
   ]
  },
  {
   "cell_type": "code",
   "execution_count": null,
   "id": "2d11460d",
   "metadata": {
    "scrolled": false
   },
   "outputs": [],
   "source": [
    "# 시간대별 승차인원 시각화하기"
   ]
  },
  {
   "cell_type": "markdown",
   "id": "fa07625a",
   "metadata": {},
   "source": [
    "# 지하철 시간대별, 역별 이용현황 분석"
   ]
  },
  {
   "cell_type": "markdown",
   "id": "9be619fe",
   "metadata": {},
   "source": [
    "## 시간대별 승차 현황"
   ]
  },
  {
   "cell_type": "markdown",
   "id": "0a582c52",
   "metadata": {},
   "source": [
    "### 승차정보 집계 데이터 만들기"
   ]
  },
  {
   "cell_type": "code",
   "execution_count": null,
   "id": "cf0fac29",
   "metadata": {
    "scrolled": false
   },
   "outputs": [],
   "source": [
    "# df_in_202108카피하여 사용하기"
   ]
  },
  {
   "cell_type": "code",
   "execution_count": null,
   "id": "a97ac5bc",
   "metadata": {},
   "outputs": [],
   "source": []
  },
  {
   "cell_type": "code",
   "execution_count": null,
   "id": "1d94b55b",
   "metadata": {
    "scrolled": false
   },
   "outputs": [],
   "source": [
    "# 인덱스 변경('지하철역')"
   ]
  },
  {
   "cell_type": "code",
   "execution_count": null,
   "id": "f1ed6098",
   "metadata": {
    "scrolled": false
   },
   "outputs": [],
   "source": [
    "# 컬럼 삭제('사용월','호선명','지하철역')"
   ]
  },
  {
   "cell_type": "code",
   "execution_count": null,
   "id": "8765ffcb",
   "metadata": {
    "scrolled": false
   },
   "outputs": [],
   "source": [
    "# 행,열 합계"
   ]
  },
  {
   "cell_type": "code",
   "execution_count": null,
   "id": "1789a588",
   "metadata": {},
   "outputs": [],
   "source": []
  },
  {
   "cell_type": "code",
   "execution_count": null,
   "id": "db6a9181",
   "metadata": {
    "scrolled": false
   },
   "outputs": [],
   "source": []
  },
  {
   "cell_type": "markdown",
   "id": "5b89167a",
   "metadata": {},
   "source": [
    "### 시간대별 승차건수 "
   ]
  },
  {
   "cell_type": "code",
   "execution_count": null,
   "id": "a2b31850",
   "metadata": {
    "scrolled": false
   },
   "outputs": [],
   "source": []
  },
  {
   "cell_type": "code",
   "execution_count": null,
   "id": "35988c32",
   "metadata": {},
   "outputs": [],
   "source": []
  },
  {
   "cell_type": "markdown",
   "id": "4dce41ce",
   "metadata": {},
   "source": [
    "### 지하철역별 승차건수"
   ]
  },
  {
   "cell_type": "code",
   "execution_count": null,
   "id": "eca9739e",
   "metadata": {
    "scrolled": false
   },
   "outputs": [],
   "source": []
  },
  {
   "cell_type": "markdown",
   "id": "5b756f5d",
   "metadata": {},
   "source": [
    "## 시간대별 하차 현황"
   ]
  },
  {
   "cell_type": "markdown",
   "id": "90881a99",
   "metadata": {},
   "source": [
    "### 하차정보 집계 테이블 만들기"
   ]
  },
  {
   "cell_type": "code",
   "execution_count": null,
   "id": "d6adab50",
   "metadata": {
    "scrolled": false
   },
   "outputs": [],
   "source": [
    "# df_out_202108카피하여 사용하기"
   ]
  },
  {
   "cell_type": "code",
   "execution_count": null,
   "id": "9f4e96e3",
   "metadata": {},
   "outputs": [],
   "source": [
    "# 인덱스 변경('지하철역')"
   ]
  },
  {
   "cell_type": "code",
   "execution_count": null,
   "id": "a2a51c80",
   "metadata": {},
   "outputs": [],
   "source": [
    "# 컬럼 삭제('사용월','호선명','지하철역')"
   ]
  },
  {
   "cell_type": "code",
   "execution_count": null,
   "id": "05409ef1",
   "metadata": {},
   "outputs": [],
   "source": [
    "# 행,열 합계"
   ]
  },
  {
   "cell_type": "code",
   "execution_count": null,
   "id": "d46bf8e5",
   "metadata": {
    "scrolled": false
   },
   "outputs": [],
   "source": []
  },
  {
   "cell_type": "code",
   "execution_count": null,
   "id": "6fe415eb",
   "metadata": {
    "scrolled": false
   },
   "outputs": [],
   "source": []
  },
  {
   "cell_type": "markdown",
   "id": "edb1f6d8",
   "metadata": {},
   "source": [
    "### 시간대별 하차 건수"
   ]
  },
  {
   "cell_type": "code",
   "execution_count": null,
   "id": "30b63edd",
   "metadata": {
    "scrolled": false
   },
   "outputs": [],
   "source": []
  },
  {
   "cell_type": "code",
   "execution_count": null,
   "id": "24c8c23d",
   "metadata": {
    "scrolled": true
   },
   "outputs": [],
   "source": []
  },
  {
   "cell_type": "markdown",
   "id": "74c9f9b3",
   "metadata": {},
   "source": [
    "### 지하철역별 하차건수"
   ]
  },
  {
   "cell_type": "code",
   "execution_count": null,
   "id": "8caeb744",
   "metadata": {
    "scrolled": false
   },
   "outputs": [],
   "source": []
  },
  {
   "cell_type": "code",
   "execution_count": null,
   "id": "a0462eb2",
   "metadata": {
    "scrolled": true
   },
   "outputs": [],
   "source": []
  }
 ],
 "metadata": {
  "kernelspec": {
   "display_name": "Python 3",
   "language": "python",
   "name": "python3"
  },
  "language_info": {
   "codemirror_mode": {
    "name": "ipython",
    "version": 3
   },
   "file_extension": ".py",
   "mimetype": "text/x-python",
   "name": "python",
   "nbconvert_exporter": "python",
   "pygments_lexer": "ipython3",
   "version": "3.8.8"
  },
  "toc": {
   "base_numbering": 1,
   "nav_menu": {},
   "number_sections": true,
   "sideBar": true,
   "skip_h1_title": false,
   "title_cell": "Table of Contents",
   "title_sidebar": "Contents",
   "toc_cell": false,
   "toc_position": {
    "height": "calc(100% - 180px)",
    "left": "10px",
    "top": "150px",
    "width": "307.188px"
   },
   "toc_section_display": true,
   "toc_window_display": true
  }
 },
 "nbformat": 4,
 "nbformat_minor": 5
}
