{
 "cells": [
  {
   "cell_type": "markdown",
   "id": "066f9e1c",
   "metadata": {},
   "source": [
    "* 데이터 수집       \n",
    "http://data.seoul.go.kr/dataList/OA-1170/S/1/datasetView.do"
   ]
  },
  {
   "cell_type": "code",
   "execution_count": null,
   "id": "ce5fcecb",
   "metadata": {},
   "outputs": [],
   "source": [
    "import pandas as pd\n",
    "import matplotlib.pyplot as plt"
   ]
  },
  {
   "cell_type": "code",
   "execution_count": null,
   "id": "8ea0d76a",
   "metadata": {},
   "outputs": [],
   "source": [
    "# 그래프를 노트북 안에 그리기 위해 설정\n",
    "%matplotlib inline\n",
    "\n",
    "# 필요한 패키지와 라이브러리 가져온다.\n",
    "import matplotlib as mpl\n",
    "import matplotlib.pyplot as plt\n",
    "import matplotlib.font_manager as fm\n",
    "\n",
    "# 그래프에서 마이너스 폰트 깨지는 문제에 대한 대처\n",
    "mpl.rcParams['axes.unicode_minus'] = False\n",
    "\n",
    "# 폰트 지정하기\n",
    "plt.rcParams['font.family'] = 'NanumBarunGothic'"
   ]
  },
  {
   "cell_type": "markdown",
   "id": "c085428f",
   "metadata": {},
   "source": [
    "# 데이터 수집"
   ]
  },
  {
   "cell_type": "markdown",
   "id": "edde5825",
   "metadata": {},
   "source": [
    "## 데이터프레임 생성\n",
    "* csv 파일을 데이터프레임으로 만들기\n",
    "* encoding='cp949'"
   ]
  },
  {
   "cell_type": "code",
   "execution_count": null,
   "id": "df5141a0",
   "metadata": {},
   "outputs": [],
   "source": [
    "df = pd.read_csv('data/생필품 농수축산물 가격 정보(2021년1월_6월).csv', encoding='cp949')"
   ]
  },
  {
   "cell_type": "code",
   "execution_count": null,
   "id": "060cf52d",
   "metadata": {
    "scrolled": false
   },
   "outputs": [],
   "source": [
    "df"
   ]
  },
  {
   "cell_type": "markdown",
   "id": "b3604c1e",
   "metadata": {},
   "source": [
    "## 결측치 확인"
   ]
  },
  {
   "cell_type": "code",
   "execution_count": null,
   "id": "879bb932",
   "metadata": {
    "scrolled": false
   },
   "outputs": [],
   "source": []
  },
  {
   "cell_type": "markdown",
   "id": "19176e77",
   "metadata": {},
   "source": [
    "## 자료형 확인"
   ]
  },
  {
   "cell_type": "code",
   "execution_count": null,
   "id": "c0224112",
   "metadata": {
    "scrolled": false
   },
   "outputs": [],
   "source": []
  },
  {
   "cell_type": "markdown",
   "id": "008c6787",
   "metadata": {},
   "source": [
    "# 데이터 확인"
   ]
  },
  {
   "cell_type": "markdown",
   "id": "36459f0a",
   "metadata": {},
   "source": [
    "## 컬럼별 데이터 확인"
   ]
  },
  {
   "cell_type": "code",
   "execution_count": null,
   "id": "86e88a84",
   "metadata": {
    "scrolled": true
   },
   "outputs": [],
   "source": []
  },
  {
   "cell_type": "markdown",
   "id": "ec699832",
   "metadata": {},
   "source": [
    "## 시장/마트 목록"
   ]
  },
  {
   "cell_type": "code",
   "execution_count": null,
   "id": "ec19d1a8",
   "metadata": {},
   "outputs": [],
   "source": [
    "# 시장/마트 목록"
   ]
  },
  {
   "cell_type": "code",
   "execution_count": null,
   "id": "445e6657",
   "metadata": {},
   "outputs": [],
   "source": []
  },
  {
   "cell_type": "code",
   "execution_count": null,
   "id": "8c936595",
   "metadata": {
    "scrolled": true
   },
   "outputs": [],
   "source": [
    "# 시장/마트 목록"
   ]
  },
  {
   "cell_type": "code",
   "execution_count": null,
   "id": "e60ddc17",
   "metadata": {},
   "outputs": [],
   "source": []
  },
  {
   "cell_type": "code",
   "execution_count": null,
   "id": "d7b55ef4",
   "metadata": {
    "scrolled": false
   },
   "outputs": [],
   "source": [
    "# 자치구 별 시장/마트 갯수\n",
    "df_market['자치구 이름'].value_counts()"
   ]
  },
  {
   "cell_type": "code",
   "execution_count": null,
   "id": "a11d8fc8",
   "metadata": {
    "scrolled": false
   },
   "outputs": [],
   "source": [
    "# 자치구 이름으로 시장/마트 확인"
   ]
  },
  {
   "cell_type": "markdown",
   "id": "524b5001",
   "metadata": {},
   "source": [
    "## 품목 목록"
   ]
  },
  {
   "cell_type": "code",
   "execution_count": null,
   "id": "2bdb440c",
   "metadata": {
    "scrolled": false
   },
   "outputs": [],
   "source": [
    "# 품목 목록"
   ]
  },
  {
   "cell_type": "code",
   "execution_count": null,
   "id": "04adc4c6",
   "metadata": {
    "scrolled": false
   },
   "outputs": [],
   "source": [
    "# 품목 이름 (30개씩 확인)"
   ]
  },
  {
   "cell_type": "code",
   "execution_count": null,
   "id": "da97aba8",
   "metadata": {
    "scrolled": false
   },
   "outputs": [],
   "source": []
  },
  {
   "cell_type": "code",
   "execution_count": null,
   "id": "16d2b2b8",
   "metadata": {
    "scrolled": false
   },
   "outputs": [],
   "source": []
  },
  {
   "cell_type": "markdown",
   "id": "4be13db2",
   "metadata": {},
   "source": [
    "## 자치구 목록"
   ]
  },
  {
   "cell_type": "code",
   "execution_count": null,
   "id": "f26f9d72",
   "metadata": {
    "scrolled": false
   },
   "outputs": [],
   "source": []
  },
  {
   "cell_type": "markdown",
   "id": "e00cef46",
   "metadata": {},
   "source": [
    "## 시장 유형"
   ]
  },
  {
   "cell_type": "code",
   "execution_count": null,
   "id": "9df74625",
   "metadata": {
    "scrolled": false
   },
   "outputs": [],
   "source": []
  },
  {
   "cell_type": "markdown",
   "id": "2210d9da",
   "metadata": {},
   "source": [
    "# 삼겹살 가격 분석"
   ]
  },
  {
   "cell_type": "markdown",
   "id": "e06a943a",
   "metadata": {},
   "source": [
    "## 삼겹살 데이터\n",
    "* 특정 문자열이 포함되어있는지 확인 : .str.contains(문자열)"
   ]
  },
  {
   "cell_type": "code",
   "execution_count": null,
   "id": "dbc6a707",
   "metadata": {
    "scrolled": false
   },
   "outputs": [],
   "source": [
    "# 2021-06 데이터 이용"
   ]
  },
  {
   "cell_type": "code",
   "execution_count": null,
   "id": "0079c393",
   "metadata": {},
   "outputs": [],
   "source": [
    "# 삼겹살 600g의 평균 가격은?"
   ]
  },
  {
   "cell_type": "code",
   "execution_count": null,
   "id": "6fe6958e",
   "metadata": {},
   "outputs": [],
   "source": [
    "# 삼겹살 600g의 최고 가격은?"
   ]
  },
  {
   "cell_type": "code",
   "execution_count": null,
   "id": "9a62ca22",
   "metadata": {
    "scrolled": false
   },
   "outputs": [],
   "source": []
  },
  {
   "cell_type": "code",
   "execution_count": null,
   "id": "7afe6858",
   "metadata": {},
   "outputs": [],
   "source": [
    "# 삼겹살 600g의 최저 가격은?"
   ]
  },
  {
   "cell_type": "markdown",
   "id": "3a28f4d4",
   "metadata": {},
   "source": [
    "## 우리동네 삼겹살 가격"
   ]
  },
  {
   "cell_type": "code",
   "execution_count": null,
   "id": "212a55a1",
   "metadata": {},
   "outputs": [],
   "source": []
  },
  {
   "cell_type": "code",
   "execution_count": null,
   "id": "8b7f69c5",
   "metadata": {
    "scrolled": false
   },
   "outputs": [],
   "source": [
    "# 우리구 삼겹살 가격"
   ]
  },
  {
   "cell_type": "code",
   "execution_count": null,
   "id": "7268542e",
   "metadata": {},
   "outputs": [],
   "source": [
    "# 시각화"
   ]
  },
  {
   "cell_type": "markdown",
   "id": "193234c2",
   "metadata": {},
   "source": [
    "## 마트 지점별 삼겹살 가격"
   ]
  },
  {
   "cell_type": "code",
   "execution_count": null,
   "id": "fd6799f3",
   "metadata": {},
   "outputs": [],
   "source": []
  },
  {
   "cell_type": "code",
   "execution_count": null,
   "id": "925dc6d1",
   "metadata": {
    "scrolled": false
   },
   "outputs": [],
   "source": [
    "# 마트 지점별 삼겹살 가격"
   ]
  },
  {
   "cell_type": "code",
   "execution_count": null,
   "id": "49703291",
   "metadata": {},
   "outputs": [],
   "source": [
    "# 시각화"
   ]
  },
  {
   "cell_type": "markdown",
   "id": "23a0ce1f",
   "metadata": {},
   "source": [
    "# 달걀 가격 분석"
   ]
  },
  {
   "cell_type": "markdown",
   "id": "a078ddb1",
   "metadata": {},
   "source": [
    "## 달걀 데이터"
   ]
  },
  {
   "cell_type": "code",
   "execution_count": null,
   "id": "f7f8ddc4",
   "metadata": {
    "scrolled": false
   },
   "outputs": [],
   "source": [
    "# 2021-06 데이터 이용"
   ]
  },
  {
   "cell_type": "code",
   "execution_count": null,
   "id": "d798b72d",
   "metadata": {},
   "outputs": [],
   "source": [
    "# 달걀 30구 평균 가격"
   ]
  },
  {
   "cell_type": "code",
   "execution_count": null,
   "id": "acff11c6",
   "metadata": {
    "scrolled": true
   },
   "outputs": [],
   "source": [
    "# 달걀 최고 가격"
   ]
  },
  {
   "cell_type": "code",
   "execution_count": null,
   "id": "5d8d8191",
   "metadata": {
    "scrolled": false
   },
   "outputs": [],
   "source": []
  },
  {
   "cell_type": "code",
   "execution_count": null,
   "id": "77341806",
   "metadata": {
    "scrolled": true
   },
   "outputs": [],
   "source": [
    "# 달걀 최저 가격"
   ]
  },
  {
   "cell_type": "markdown",
   "id": "c00a8923",
   "metadata": {},
   "source": [
    "## 우리동네 달걀 가격"
   ]
  },
  {
   "cell_type": "code",
   "execution_count": null,
   "id": "c7dd8112",
   "metadata": {
    "scrolled": true
   },
   "outputs": [],
   "source": []
  },
  {
   "cell_type": "code",
   "execution_count": null,
   "id": "49c08fb4",
   "metadata": {
    "scrolled": false
   },
   "outputs": [],
   "source": [
    "# 우리구 달걀 가격"
   ]
  },
  {
   "cell_type": "code",
   "execution_count": null,
   "id": "38d071e4",
   "metadata": {
    "scrolled": true
   },
   "outputs": [],
   "source": [
    "# 시각화"
   ]
  },
  {
   "cell_type": "markdown",
   "id": "0c639bb2",
   "metadata": {},
   "source": [
    "## 마트 지점별 달걀 가격"
   ]
  },
  {
   "cell_type": "code",
   "execution_count": null,
   "id": "8267dd71",
   "metadata": {
    "scrolled": true
   },
   "outputs": [],
   "source": []
  },
  {
   "cell_type": "code",
   "execution_count": null,
   "id": "44d64fdc",
   "metadata": {
    "scrolled": false
   },
   "outputs": [],
   "source": [
    "# 마트 지점별 달걀 가격"
   ]
  },
  {
   "cell_type": "code",
   "execution_count": null,
   "id": "2e126c19",
   "metadata": {
    "scrolled": true
   },
   "outputs": [],
   "source": [
    "# 시각화"
   ]
  }
 ],
 "metadata": {
  "kernelspec": {
   "display_name": "Python 3",
   "language": "python",
   "name": "python3"
  },
  "language_info": {
   "codemirror_mode": {
    "name": "ipython",
    "version": 3
   },
   "file_extension": ".py",
   "mimetype": "text/x-python",
   "name": "python",
   "nbconvert_exporter": "python",
   "pygments_lexer": "ipython3",
   "version": "3.8.8"
  },
  "toc": {
   "base_numbering": 1,
   "nav_menu": {},
   "number_sections": true,
   "sideBar": true,
   "skip_h1_title": false,
   "title_cell": "Table of Contents",
   "title_sidebar": "Contents",
   "toc_cell": false,
   "toc_position": {
    "height": "calc(100% - 180px)",
    "left": "10px",
    "top": "150px",
    "width": "165px"
   },
   "toc_section_display": true,
   "toc_window_display": true
  }
 },
 "nbformat": 4,
 "nbformat_minor": 5
}
