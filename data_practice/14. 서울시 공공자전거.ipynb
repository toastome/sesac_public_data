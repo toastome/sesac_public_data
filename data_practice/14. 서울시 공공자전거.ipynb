{
 "cells": [
  {
   "cell_type": "markdown",
   "id": "4df8528f",
   "metadata": {},
   "source": [
    "* 데이터 수집      \n",
    "https://data.seoul.go.kr/dataList/5/literacyView.do"
   ]
  },
  {
   "cell_type": "code",
   "execution_count": 1,
   "id": "53914b7c",
   "metadata": {},
   "outputs": [],
   "source": [
    "import pandas as pd"
   ]
  },
  {
   "cell_type": "code",
   "execution_count": 2,
   "id": "81d0684a",
   "metadata": {},
   "outputs": [],
   "source": [
    "# 그래프를 노트북 안에 그리기 위해 설정\n",
    "%matplotlib inline\n",
    "\n",
    "# 필요한 패키지와 라이브러리 가져온다.\n",
    "import matplotlib as mpl\n",
    "import matplotlib.pyplot as plt\n",
    "import matplotlib.font_manager as fm\n",
    "\n",
    "# 그래프에서 마이너스 폰트 깨지는 문제에 대한 대처\n",
    "mpl.rcParams['axes.unicode_minus'] = False\n",
    "\n",
    "# 폰트 지정하기\n",
    "plt.rcParams['font.family'] = 'gulim'"
   ]
  },
  {
   "cell_type": "markdown",
   "id": "ca7b1f87",
   "metadata": {},
   "source": [
    "# 데이터 확인 및 전처리"
   ]
  },
  {
   "cell_type": "markdown",
   "id": "834e2e7f",
   "metadata": {},
   "source": [
    "## 2021년 공공자전거 대여이력 정보"
   ]
  },
  {
   "cell_type": "markdown",
   "id": "30296105",
   "metadata": {},
   "source": [
    "### 데이터프레임 생성/확인"
   ]
  },
  {
   "cell_type": "code",
   "execution_count": 3,
   "id": "7b4fbe0f",
   "metadata": {
    "scrolled": true
   },
   "outputs": [],
   "source": [
    "df1 = pd.read_csv('data/공공자전거 대여이력 정보_2021.01.csv', encoding='cp949', low_memory=False)\n",
    "df2 = pd.read_csv('data/공공자전거 대여이력 정보_2021.02.csv', encoding='cp949', low_memory=False)\n",
    "df3 = pd.read_csv('data/공공자전거 대여이력 정보_2021.03.csv', encoding='cp949', low_memory=False)\n",
    "df4 = pd.read_csv('data/공공자전거 대여이력 정보_2021.04.csv', encoding='cp949', low_memory=False)\n",
    "df5 = pd.read_csv('data/공공자전거 대여이력 정보_2021.05.csv', encoding='cp949', low_memory=False)\n",
    "df6 = pd.read_csv('data/공공자전거 대여이력 정보_2021.06.csv', encoding='cp949', low_memory=False)"
   ]
  },
  {
   "cell_type": "code",
   "execution_count": 4,
   "id": "175ffcfa",
   "metadata": {},
   "outputs": [
    {
     "data": {
      "text/html": [
       "<div>\n",
       "<style scoped>\n",
       "    .dataframe tbody tr th:only-of-type {\n",
       "        vertical-align: middle;\n",
       "    }\n",
       "\n",
       "    .dataframe tbody tr th {\n",
       "        vertical-align: top;\n",
       "    }\n",
       "\n",
       "    .dataframe thead th {\n",
       "        text-align: right;\n",
       "    }\n",
       "</style>\n",
       "<table border=\"1\" class=\"dataframe\">\n",
       "  <thead>\n",
       "    <tr style=\"text-align: right;\">\n",
       "      <th></th>\n",
       "      <th>자전거번호</th>\n",
       "      <th>대여일시</th>\n",
       "      <th>대여 대여소번호</th>\n",
       "      <th>대여 대여소명</th>\n",
       "      <th>대여거치대</th>\n",
       "      <th>반납일시</th>\n",
       "      <th>반납대여소번호</th>\n",
       "      <th>반납대여소명</th>\n",
       "      <th>반납거치대</th>\n",
       "      <th>이용시간</th>\n",
       "      <th>이용거리</th>\n",
       "    </tr>\n",
       "  </thead>\n",
       "  <tbody>\n",
       "    <tr>\n",
       "      <th>0</th>\n",
       "      <td>SPB-30385</td>\n",
       "      <td>2021-05-31 23:07:00</td>\n",
       "      <td>3571</td>\n",
       "      <td>화양 APT(횡단보도 옆)</td>\n",
       "      <td>0</td>\n",
       "      <td>2021-06-01 00:00:00</td>\n",
       "      <td>03538</td>\n",
       "      <td>서울숲 IT캐슬</td>\n",
       "      <td>0</td>\n",
       "      <td>53.0</td>\n",
       "      <td>2502.8</td>\n",
       "    </tr>\n",
       "  </tbody>\n",
       "</table>\n",
       "</div>"
      ],
      "text/plain": [
       "       자전거번호                 대여일시  대여 대여소번호         대여 대여소명 대여거치대  \\\n",
       "0  SPB-30385  2021-05-31 23:07:00      3571  화양 APT(횡단보도 옆)     0   \n",
       "\n",
       "                  반납일시 반납대여소번호    반납대여소명  반납거치대  이용시간    이용거리  \n",
       "0  2021-06-01 00:00:00   03538  서울숲 IT캐슬      0  53.0  2502.8  "
      ]
     },
     "execution_count": 4,
     "metadata": {},
     "output_type": "execute_result"
    }
   ],
   "source": [
    "df6.head(1)"
   ]
  },
  {
   "cell_type": "markdown",
   "id": "b2c27450",
   "metadata": {},
   "source": [
    "### 데이터 연결/확인\n",
    "* concat"
   ]
  },
  {
   "cell_type": "code",
   "execution_count": 5,
   "id": "367fa222",
   "metadata": {},
   "outputs": [],
   "source": [
    "# concat\n",
    "df = pd.concat([df1,df2,df3,df4,df5,df6])"
   ]
  },
  {
   "cell_type": "code",
   "execution_count": 6,
   "id": "22f3ce8d",
   "metadata": {},
   "outputs": [
    {
     "data": {
      "text/html": [
       "<div>\n",
       "<style scoped>\n",
       "    .dataframe tbody tr th:only-of-type {\n",
       "        vertical-align: middle;\n",
       "    }\n",
       "\n",
       "    .dataframe tbody tr th {\n",
       "        vertical-align: top;\n",
       "    }\n",
       "\n",
       "    .dataframe thead th {\n",
       "        text-align: right;\n",
       "    }\n",
       "</style>\n",
       "<table border=\"1\" class=\"dataframe\">\n",
       "  <thead>\n",
       "    <tr style=\"text-align: right;\">\n",
       "      <th></th>\n",
       "      <th>자전거번호</th>\n",
       "      <th>대여일시</th>\n",
       "      <th>대여 대여소번호</th>\n",
       "      <th>대여 대여소명</th>\n",
       "      <th>대여거치대</th>\n",
       "      <th>반납일시</th>\n",
       "      <th>반납대여소번호</th>\n",
       "      <th>반납대여소명</th>\n",
       "      <th>반납거치대</th>\n",
       "      <th>이용시간</th>\n",
       "      <th>이용거리</th>\n",
       "    </tr>\n",
       "  </thead>\n",
       "  <tbody>\n",
       "    <tr>\n",
       "      <th>0</th>\n",
       "      <td>SPB-53145</td>\n",
       "      <td>2021-01-02 20:50:36</td>\n",
       "      <td>3</td>\n",
       "      <td>중랑센터</td>\n",
       "      <td>0</td>\n",
       "      <td>2021-01-02 21:15:41</td>\n",
       "      <td>668</td>\n",
       "      <td>서울축산농협(장안지점)</td>\n",
       "      <td>0</td>\n",
       "      <td>25.0</td>\n",
       "      <td>0.0</td>\n",
       "    </tr>\n",
       "  </tbody>\n",
       "</table>\n",
       "</div>"
      ],
      "text/plain": [
       "       자전거번호                 대여일시  대여 대여소번호 대여 대여소명 대여거치대  \\\n",
       "0  SPB-53145  2021-01-02 20:50:36         3    중랑센터     0   \n",
       "\n",
       "                  반납일시 반납대여소번호        반납대여소명  반납거치대  이용시간  이용거리  \n",
       "0  2021-01-02 21:15:41     668  서울축산농협(장안지점)      0  25.0   0.0  "
      ]
     },
     "execution_count": 6,
     "metadata": {},
     "output_type": "execute_result"
    }
   ],
   "source": [
    "# head\n",
    "df.head(1)"
   ]
  },
  {
   "cell_type": "code",
   "execution_count": 7,
   "id": "263b0ce9",
   "metadata": {},
   "outputs": [
    {
     "data": {
      "text/html": [
       "<div>\n",
       "<style scoped>\n",
       "    .dataframe tbody tr th:only-of-type {\n",
       "        vertical-align: middle;\n",
       "    }\n",
       "\n",
       "    .dataframe tbody tr th {\n",
       "        vertical-align: top;\n",
       "    }\n",
       "\n",
       "    .dataframe thead th {\n",
       "        text-align: right;\n",
       "    }\n",
       "</style>\n",
       "<table border=\"1\" class=\"dataframe\">\n",
       "  <thead>\n",
       "    <tr style=\"text-align: right;\">\n",
       "      <th></th>\n",
       "      <th>자전거번호</th>\n",
       "      <th>대여일시</th>\n",
       "      <th>대여 대여소번호</th>\n",
       "      <th>대여 대여소명</th>\n",
       "      <th>대여거치대</th>\n",
       "      <th>반납일시</th>\n",
       "      <th>반납대여소번호</th>\n",
       "      <th>반납대여소명</th>\n",
       "      <th>반납거치대</th>\n",
       "      <th>이용시간</th>\n",
       "      <th>이용거리</th>\n",
       "    </tr>\n",
       "  </thead>\n",
       "  <tbody>\n",
       "    <tr>\n",
       "      <th>3445943</th>\n",
       "      <td>SPB-52274</td>\n",
       "      <td>2021-06-30 22:12:10</td>\n",
       "      <td>2220</td>\n",
       "      <td>반포본동 주민센터 앞</td>\n",
       "      <td>0</td>\n",
       "      <td>2021-07-01 04:55:30</td>\n",
       "      <td>02526</td>\n",
       "      <td>반포경남쇼핑 앞</td>\n",
       "      <td>0</td>\n",
       "      <td>403.0</td>\n",
       "      <td>4541.22</td>\n",
       "    </tr>\n",
       "  </tbody>\n",
       "</table>\n",
       "</div>"
      ],
      "text/plain": [
       "             자전거번호                 대여일시  대여 대여소번호      대여 대여소명 대여거치대  \\\n",
       "3445943  SPB-52274  2021-06-30 22:12:10      2220  반포본동 주민센터 앞     0   \n",
       "\n",
       "                        반납일시 반납대여소번호    반납대여소명  반납거치대   이용시간     이용거리  \n",
       "3445943  2021-07-01 04:55:30   02526  반포경남쇼핑 앞      0  403.0  4541.22  "
      ]
     },
     "execution_count": 7,
     "metadata": {},
     "output_type": "execute_result"
    }
   ],
   "source": [
    "#tail\n",
    "df.tail(1)"
   ]
  },
  {
   "cell_type": "code",
   "execution_count": 8,
   "id": "c9829c9a",
   "metadata": {},
   "outputs": [
    {
     "data": {
      "text/plain": [
       "(13613873, 11)"
      ]
     },
     "execution_count": 8,
     "metadata": {},
     "output_type": "execute_result"
    }
   ],
   "source": [
    "# 데이터 크기\n",
    "df.shape"
   ]
  },
  {
   "cell_type": "code",
   "execution_count": 9,
   "id": "fd27aa50",
   "metadata": {
    "scrolled": true
   },
   "outputs": [
    {
     "name": "stdout",
     "output_type": "stream",
     "text": [
      "<class 'pandas.core.frame.DataFrame'>\n",
      "Int64Index: 13613873 entries, 0 to 3445943\n",
      "Data columns (total 11 columns):\n",
      " #   Column    Dtype  \n",
      "---  ------    -----  \n",
      " 0   자전거번호     object \n",
      " 1   대여일시      object \n",
      " 2   대여 대여소번호  int64  \n",
      " 3   대여 대여소명   object \n",
      " 4   대여거치대     object \n",
      " 5   반납일시      object \n",
      " 6   반납대여소번호   object \n",
      " 7   반납대여소명    object \n",
      " 8   반납거치대     int64  \n",
      " 9   이용시간      float64\n",
      " 10  이용거리      float64\n",
      "dtypes: float64(2), int64(2), object(7)\n",
      "memory usage: 1.2+ GB\n"
     ]
    }
   ],
   "source": [
    "# 데이터 정보(사용메모리)\n",
    "df.info()"
   ]
  },
  {
   "cell_type": "markdown",
   "id": "d1306bfb",
   "metadata": {},
   "source": [
    "## 데이터 전처리"
   ]
  },
  {
   "cell_type": "markdown",
   "id": "dad37062",
   "metadata": {},
   "source": [
    "### 불필요한 컬럼 제거"
   ]
  },
  {
   "cell_type": "code",
   "execution_count": 10,
   "id": "731c760c",
   "metadata": {
    "scrolled": false
   },
   "outputs": [],
   "source": [
    "# 자전거번호, 대여거치대, 반납거치대 제거\n",
    "df.drop(columns=['자전거번호', '대여거치대', '반납거치대'], inplace=True)"
   ]
  },
  {
   "cell_type": "code",
   "execution_count": 11,
   "id": "5e61327b",
   "metadata": {
    "scrolled": true
   },
   "outputs": [
    {
     "name": "stdout",
     "output_type": "stream",
     "text": [
      "<class 'pandas.core.frame.DataFrame'>\n",
      "Int64Index: 13613873 entries, 0 to 3445943\n",
      "Data columns (total 8 columns):\n",
      " #   Column    Dtype  \n",
      "---  ------    -----  \n",
      " 0   대여일시      object \n",
      " 1   대여 대여소번호  int64  \n",
      " 2   대여 대여소명   object \n",
      " 3   반납일시      object \n",
      " 4   반납대여소번호   object \n",
      " 5   반납대여소명    object \n",
      " 6   이용시간      float64\n",
      " 7   이용거리      float64\n",
      "dtypes: float64(2), int64(1), object(5)\n",
      "memory usage: 934.8+ MB\n"
     ]
    }
   ],
   "source": [
    "df.info()"
   ]
  },
  {
   "cell_type": "markdown",
   "id": "f6f9c487",
   "metadata": {},
   "source": [
    "### 자료형 확인/변경"
   ]
  },
  {
   "cell_type": "code",
   "execution_count": 12,
   "id": "64c14609",
   "metadata": {
    "scrolled": true
   },
   "outputs": [
    {
     "data": {
      "text/plain": [
       "대여일시         object\n",
       "대여 대여소번호      int64\n",
       "대여 대여소명      object\n",
       "반납일시         object\n",
       "반납대여소번호      object\n",
       "반납대여소명       object\n",
       "이용시간        float64\n",
       "이용거리        float64\n",
       "dtype: object"
      ]
     },
     "execution_count": 12,
     "metadata": {},
     "output_type": "execute_result"
    }
   ],
   "source": [
    "# 자료형 확인\n",
    "df.dtypes"
   ]
  },
  {
   "cell_type": "code",
   "execution_count": 13,
   "id": "4a07ff19",
   "metadata": {},
   "outputs": [],
   "source": [
    "# 카테고리형으로 변경  :    대여 대여소번호, 반납대여소번호\n",
    "df['대여 대여소번호'] = df['대여 대여소번호'].astype('category')\n",
    "df['반납대여소번호'] = df['반납대여소번호'].astype('category')"
   ]
  },
  {
   "cell_type": "code",
   "execution_count": 14,
   "id": "ec9fa79f",
   "metadata": {},
   "outputs": [
    {
     "data": {
      "text/plain": [
       "대여일시          object\n",
       "대여 대여소번호    category\n",
       "대여 대여소명       object\n",
       "반납일시          object\n",
       "반납대여소번호     category\n",
       "반납대여소명        object\n",
       "이용시간         float64\n",
       "이용거리         float64\n",
       "dtype: object"
      ]
     },
     "execution_count": 14,
     "metadata": {},
     "output_type": "execute_result"
    }
   ],
   "source": [
    "df.dtypes"
   ]
  },
  {
   "cell_type": "code",
   "execution_count": 15,
   "id": "d393a62d",
   "metadata": {},
   "outputs": [
    {
     "name": "stdout",
     "output_type": "stream",
     "text": [
      "<class 'pandas.core.frame.DataFrame'>\n",
      "Int64Index: 13613873 entries, 0 to 3445943\n",
      "Data columns (total 8 columns):\n",
      " #   Column    Dtype   \n",
      "---  ------    -----   \n",
      " 0   대여일시      object  \n",
      " 1   대여 대여소번호  category\n",
      " 2   대여 대여소명   object  \n",
      " 3   반납일시      object  \n",
      " 4   반납대여소번호   category\n",
      " 5   반납대여소명    object  \n",
      " 6   이용시간      float64 \n",
      " 7   이용거리      float64 \n",
      "dtypes: category(2), float64(2), object(4)\n",
      "memory usage: 779.2+ MB\n"
     ]
    }
   ],
   "source": [
    "# 메모리 용량 확인\n",
    "df.info()"
   ]
  },
  {
   "cell_type": "code",
   "execution_count": 16,
   "id": "e21bada9",
   "metadata": {},
   "outputs": [
    {
     "data": {
      "text/html": [
       "<div>\n",
       "<style scoped>\n",
       "    .dataframe tbody tr th:only-of-type {\n",
       "        vertical-align: middle;\n",
       "    }\n",
       "\n",
       "    .dataframe tbody tr th {\n",
       "        vertical-align: top;\n",
       "    }\n",
       "\n",
       "    .dataframe thead th {\n",
       "        text-align: right;\n",
       "    }\n",
       "</style>\n",
       "<table border=\"1\" class=\"dataframe\">\n",
       "  <thead>\n",
       "    <tr style=\"text-align: right;\">\n",
       "      <th></th>\n",
       "      <th>대여일시</th>\n",
       "      <th>대여 대여소번호</th>\n",
       "      <th>대여 대여소명</th>\n",
       "      <th>반납일시</th>\n",
       "      <th>반납대여소번호</th>\n",
       "      <th>반납대여소명</th>\n",
       "      <th>이용시간</th>\n",
       "      <th>이용거리</th>\n",
       "    </tr>\n",
       "  </thead>\n",
       "  <tbody>\n",
       "    <tr>\n",
       "      <th>0</th>\n",
       "      <td>2021-01-02 20:50:36</td>\n",
       "      <td>3</td>\n",
       "      <td>중랑센터</td>\n",
       "      <td>2021-01-02 21:15:41</td>\n",
       "      <td>668</td>\n",
       "      <td>서울축산농협(장안지점)</td>\n",
       "      <td>25.0</td>\n",
       "      <td>0.00</td>\n",
       "    </tr>\n",
       "    <tr>\n",
       "      <th>1</th>\n",
       "      <td>2021-01-04 16:02:12</td>\n",
       "      <td>3</td>\n",
       "      <td>중랑센터</td>\n",
       "      <td>2021-01-04 16:17:06</td>\n",
       "      <td>668</td>\n",
       "      <td>서울축산농협(장안지점)</td>\n",
       "      <td>14.0</td>\n",
       "      <td>0.00</td>\n",
       "    </tr>\n",
       "    <tr>\n",
       "      <th>2</th>\n",
       "      <td>2021-01-13 21:02:05</td>\n",
       "      <td>3</td>\n",
       "      <td>중랑센터</td>\n",
       "      <td>2021-01-13 21:14:04</td>\n",
       "      <td>668</td>\n",
       "      <td>서울축산농협(장안지점)</td>\n",
       "      <td>11.0</td>\n",
       "      <td>1853.99</td>\n",
       "    </tr>\n",
       "    <tr>\n",
       "      <th>3</th>\n",
       "      <td>2021-01-14 21:02:55</td>\n",
       "      <td>3</td>\n",
       "      <td>중랑센터</td>\n",
       "      <td>2021-01-14 21:13:41</td>\n",
       "      <td>668</td>\n",
       "      <td>서울축산농협(장안지점)</td>\n",
       "      <td>10.0</td>\n",
       "      <td>0.00</td>\n",
       "    </tr>\n",
       "    <tr>\n",
       "      <th>4</th>\n",
       "      <td>2021-01-18 18:02:08</td>\n",
       "      <td>3</td>\n",
       "      <td>중랑센터</td>\n",
       "      <td>2021-01-18 18:15:22</td>\n",
       "      <td>540</td>\n",
       "      <td>군자역 7번출구 베스트샵 앞</td>\n",
       "      <td>13.0</td>\n",
       "      <td>2291.05</td>\n",
       "    </tr>\n",
       "    <tr>\n",
       "      <th>...</th>\n",
       "      <td>...</td>\n",
       "      <td>...</td>\n",
       "      <td>...</td>\n",
       "      <td>...</td>\n",
       "      <td>...</td>\n",
       "      <td>...</td>\n",
       "      <td>...</td>\n",
       "      <td>...</td>\n",
       "    </tr>\n",
       "    <tr>\n",
       "      <th>3445939</th>\n",
       "      <td>2021-06-30 22:44:14</td>\n",
       "      <td>152</td>\n",
       "      <td>마포구민체육센터 앞</td>\n",
       "      <td>2021-07-01 04:48:33</td>\n",
       "      <td>00126</td>\n",
       "      <td>서강대 후문 옆</td>\n",
       "      <td>364.0</td>\n",
       "      <td>10153.36</td>\n",
       "    </tr>\n",
       "    <tr>\n",
       "      <th>3445940</th>\n",
       "      <td>2021-06-30 22:45:19</td>\n",
       "      <td>152</td>\n",
       "      <td>마포구민체육센터 앞</td>\n",
       "      <td>2021-07-01 04:52:25</td>\n",
       "      <td>00437</td>\n",
       "      <td>대흥역 1번출구</td>\n",
       "      <td>367.0</td>\n",
       "      <td>10100.71</td>\n",
       "    </tr>\n",
       "    <tr>\n",
       "      <th>3445941</th>\n",
       "      <td>2021-06-30 22:43:43</td>\n",
       "      <td>152</td>\n",
       "      <td>마포구민체육센터 앞</td>\n",
       "      <td>2021-07-01 04:52:27</td>\n",
       "      <td>00437</td>\n",
       "      <td>대흥역 1번출구</td>\n",
       "      <td>368.0</td>\n",
       "      <td>430.00</td>\n",
       "    </tr>\n",
       "    <tr>\n",
       "      <th>3445942</th>\n",
       "      <td>2021-06-30 22:11:14</td>\n",
       "      <td>2220</td>\n",
       "      <td>반포본동 주민센터 앞</td>\n",
       "      <td>2021-07-01 04:55:29</td>\n",
       "      <td>02526</td>\n",
       "      <td>반포경남쇼핑 앞</td>\n",
       "      <td>404.0</td>\n",
       "      <td>0.00</td>\n",
       "    </tr>\n",
       "    <tr>\n",
       "      <th>3445943</th>\n",
       "      <td>2021-06-30 22:12:10</td>\n",
       "      <td>2220</td>\n",
       "      <td>반포본동 주민센터 앞</td>\n",
       "      <td>2021-07-01 04:55:30</td>\n",
       "      <td>02526</td>\n",
       "      <td>반포경남쇼핑 앞</td>\n",
       "      <td>403.0</td>\n",
       "      <td>4541.22</td>\n",
       "    </tr>\n",
       "  </tbody>\n",
       "</table>\n",
       "<p>13613873 rows × 8 columns</p>\n",
       "</div>"
      ],
      "text/plain": [
       "                        대여일시 대여 대여소번호      대여 대여소명                 반납일시  \\\n",
       "0        2021-01-02 20:50:36        3         중랑센터  2021-01-02 21:15:41   \n",
       "1        2021-01-04 16:02:12        3         중랑센터  2021-01-04 16:17:06   \n",
       "2        2021-01-13 21:02:05        3         중랑센터  2021-01-13 21:14:04   \n",
       "3        2021-01-14 21:02:55        3         중랑센터  2021-01-14 21:13:41   \n",
       "4        2021-01-18 18:02:08        3         중랑센터  2021-01-18 18:15:22   \n",
       "...                      ...      ...          ...                  ...   \n",
       "3445939  2021-06-30 22:44:14      152   마포구민체육센터 앞  2021-07-01 04:48:33   \n",
       "3445940  2021-06-30 22:45:19      152   마포구민체육센터 앞  2021-07-01 04:52:25   \n",
       "3445941  2021-06-30 22:43:43      152   마포구민체육센터 앞  2021-07-01 04:52:27   \n",
       "3445942  2021-06-30 22:11:14     2220  반포본동 주민센터 앞  2021-07-01 04:55:29   \n",
       "3445943  2021-06-30 22:12:10     2220  반포본동 주민센터 앞  2021-07-01 04:55:30   \n",
       "\n",
       "        반납대여소번호           반납대여소명   이용시간      이용거리  \n",
       "0           668     서울축산농협(장안지점)   25.0      0.00  \n",
       "1           668     서울축산농협(장안지점)   14.0      0.00  \n",
       "2           668     서울축산농협(장안지점)   11.0   1853.99  \n",
       "3           668     서울축산농협(장안지점)   10.0      0.00  \n",
       "4           540  군자역 7번출구 베스트샵 앞   13.0   2291.05  \n",
       "...         ...              ...    ...       ...  \n",
       "3445939   00126         서강대 후문 옆  364.0  10153.36  \n",
       "3445940   00437         대흥역 1번출구  367.0  10100.71  \n",
       "3445941   00437         대흥역 1번출구  368.0    430.00  \n",
       "3445942   02526         반포경남쇼핑 앞  404.0      0.00  \n",
       "3445943   02526         반포경남쇼핑 앞  403.0   4541.22  \n",
       "\n",
       "[13613873 rows x 8 columns]"
      ]
     },
     "execution_count": 16,
     "metadata": {},
     "output_type": "execute_result"
    }
   ],
   "source": [
    "df"
   ]
  },
  {
   "cell_type": "code",
   "execution_count": 17,
   "id": "03254d7a",
   "metadata": {},
   "outputs": [],
   "source": [
    "# datetime형으로 변경 : 대여일시,반납일시\n",
    "df['대여일시'] = pd.to_datetime(df['대여일시'])"
   ]
  },
  {
   "cell_type": "code",
   "execution_count": 18,
   "id": "7150d8c6",
   "metadata": {},
   "outputs": [],
   "source": [
    "df['반납일시'] = pd.to_datetime(df['반납일시'], errors='coerce')"
   ]
  },
  {
   "cell_type": "code",
   "execution_count": 19,
   "id": "2487f578",
   "metadata": {},
   "outputs": [
    {
     "data": {
      "text/plain": [
       "대여일시        datetime64[ns]\n",
       "대여 대여소번호          category\n",
       "대여 대여소명             object\n",
       "반납일시        datetime64[ns]\n",
       "반납대여소번호           category\n",
       "반납대여소명              object\n",
       "이용시간               float64\n",
       "이용거리               float64\n",
       "dtype: object"
      ]
     },
     "execution_count": 19,
     "metadata": {},
     "output_type": "execute_result"
    }
   ],
   "source": [
    "# 자료형 변경 확인\n",
    "df.dtypes"
   ]
  },
  {
   "cell_type": "markdown",
   "id": "09f83d6e",
   "metadata": {},
   "source": [
    "## 결측치 확인/처리"
   ]
  },
  {
   "cell_type": "code",
   "execution_count": 20,
   "id": "959646d5",
   "metadata": {
    "scrolled": true
   },
   "outputs": [
    {
     "data": {
      "text/plain": [
       "대여일시          0\n",
       "대여 대여소번호      0\n",
       "대여 대여소명       0\n",
       "반납일시        123\n",
       "반납대여소번호       0\n",
       "반납대여소명        0\n",
       "이용시간          0\n",
       "이용거리        269\n",
       "dtype: int64"
      ]
     },
     "execution_count": 20,
     "metadata": {},
     "output_type": "execute_result"
    }
   ],
   "source": [
    "# 결측치 확인\n",
    "df.isnull().sum()"
   ]
  },
  {
   "cell_type": "code",
   "execution_count": 21,
   "id": "c3f86ab7",
   "metadata": {},
   "outputs": [],
   "source": [
    "# 결측치 제거\n",
    "df.dropna(inplace=True)"
   ]
  },
  {
   "cell_type": "code",
   "execution_count": 22,
   "id": "3ac838ae",
   "metadata": {
    "scrolled": true
   },
   "outputs": [
    {
     "data": {
      "text/plain": [
       "대여일시        0\n",
       "대여 대여소번호    0\n",
       "대여 대여소명     0\n",
       "반납일시        0\n",
       "반납대여소번호     0\n",
       "반납대여소명      0\n",
       "이용시간        0\n",
       "이용거리        0\n",
       "dtype: int64"
      ]
     },
     "execution_count": 22,
     "metadata": {},
     "output_type": "execute_result"
    }
   ],
   "source": [
    "# 결측치 확인\n",
    "df.isnull().sum()"
   ]
  },
  {
   "cell_type": "markdown",
   "id": "f5c4c49c",
   "metadata": {},
   "source": [
    "# 일별 이용 현황"
   ]
  },
  {
   "cell_type": "markdown",
   "id": "784d5eb4",
   "metadata": {},
   "source": [
    "## 대여날짜 컬럼 추가\n",
    "* date"
   ]
  },
  {
   "cell_type": "code",
   "execution_count": 23,
   "id": "20f7e831",
   "metadata": {
    "scrolled": false
   },
   "outputs": [],
   "source": [
    "df['대여날짜'] = df['대여일시'].dt.date"
   ]
  },
  {
   "cell_type": "code",
   "execution_count": 24,
   "id": "97da15cf",
   "metadata": {
    "scrolled": true
   },
   "outputs": [
    {
     "data": {
      "text/html": [
       "<div>\n",
       "<style scoped>\n",
       "    .dataframe tbody tr th:only-of-type {\n",
       "        vertical-align: middle;\n",
       "    }\n",
       "\n",
       "    .dataframe tbody tr th {\n",
       "        vertical-align: top;\n",
       "    }\n",
       "\n",
       "    .dataframe thead th {\n",
       "        text-align: right;\n",
       "    }\n",
       "</style>\n",
       "<table border=\"1\" class=\"dataframe\">\n",
       "  <thead>\n",
       "    <tr style=\"text-align: right;\">\n",
       "      <th></th>\n",
       "      <th>대여일시</th>\n",
       "      <th>대여 대여소번호</th>\n",
       "      <th>대여 대여소명</th>\n",
       "      <th>반납일시</th>\n",
       "      <th>반납대여소번호</th>\n",
       "      <th>반납대여소명</th>\n",
       "      <th>이용시간</th>\n",
       "      <th>이용거리</th>\n",
       "      <th>대여날짜</th>\n",
       "    </tr>\n",
       "  </thead>\n",
       "  <tbody>\n",
       "    <tr>\n",
       "      <th>0</th>\n",
       "      <td>2021-01-02 20:50:36</td>\n",
       "      <td>3</td>\n",
       "      <td>중랑센터</td>\n",
       "      <td>2021-01-02 21:15:41</td>\n",
       "      <td>668</td>\n",
       "      <td>서울축산농협(장안지점)</td>\n",
       "      <td>25.0</td>\n",
       "      <td>0.00</td>\n",
       "      <td>2021-01-02</td>\n",
       "    </tr>\n",
       "    <tr>\n",
       "      <th>1</th>\n",
       "      <td>2021-01-04 16:02:12</td>\n",
       "      <td>3</td>\n",
       "      <td>중랑센터</td>\n",
       "      <td>2021-01-04 16:17:06</td>\n",
       "      <td>668</td>\n",
       "      <td>서울축산농협(장안지점)</td>\n",
       "      <td>14.0</td>\n",
       "      <td>0.00</td>\n",
       "      <td>2021-01-04</td>\n",
       "    </tr>\n",
       "    <tr>\n",
       "      <th>2</th>\n",
       "      <td>2021-01-13 21:02:05</td>\n",
       "      <td>3</td>\n",
       "      <td>중랑센터</td>\n",
       "      <td>2021-01-13 21:14:04</td>\n",
       "      <td>668</td>\n",
       "      <td>서울축산농협(장안지점)</td>\n",
       "      <td>11.0</td>\n",
       "      <td>1853.99</td>\n",
       "      <td>2021-01-13</td>\n",
       "    </tr>\n",
       "    <tr>\n",
       "      <th>3</th>\n",
       "      <td>2021-01-14 21:02:55</td>\n",
       "      <td>3</td>\n",
       "      <td>중랑센터</td>\n",
       "      <td>2021-01-14 21:13:41</td>\n",
       "      <td>668</td>\n",
       "      <td>서울축산농협(장안지점)</td>\n",
       "      <td>10.0</td>\n",
       "      <td>0.00</td>\n",
       "      <td>2021-01-14</td>\n",
       "    </tr>\n",
       "    <tr>\n",
       "      <th>4</th>\n",
       "      <td>2021-01-18 18:02:08</td>\n",
       "      <td>3</td>\n",
       "      <td>중랑센터</td>\n",
       "      <td>2021-01-18 18:15:22</td>\n",
       "      <td>540</td>\n",
       "      <td>군자역 7번출구 베스트샵 앞</td>\n",
       "      <td>13.0</td>\n",
       "      <td>2291.05</td>\n",
       "      <td>2021-01-18</td>\n",
       "    </tr>\n",
       "    <tr>\n",
       "      <th>...</th>\n",
       "      <td>...</td>\n",
       "      <td>...</td>\n",
       "      <td>...</td>\n",
       "      <td>...</td>\n",
       "      <td>...</td>\n",
       "      <td>...</td>\n",
       "      <td>...</td>\n",
       "      <td>...</td>\n",
       "      <td>...</td>\n",
       "    </tr>\n",
       "    <tr>\n",
       "      <th>3445939</th>\n",
       "      <td>2021-06-30 22:44:14</td>\n",
       "      <td>152</td>\n",
       "      <td>마포구민체육센터 앞</td>\n",
       "      <td>2021-07-01 04:48:33</td>\n",
       "      <td>00126</td>\n",
       "      <td>서강대 후문 옆</td>\n",
       "      <td>364.0</td>\n",
       "      <td>10153.36</td>\n",
       "      <td>2021-06-30</td>\n",
       "    </tr>\n",
       "    <tr>\n",
       "      <th>3445940</th>\n",
       "      <td>2021-06-30 22:45:19</td>\n",
       "      <td>152</td>\n",
       "      <td>마포구민체육센터 앞</td>\n",
       "      <td>2021-07-01 04:52:25</td>\n",
       "      <td>00437</td>\n",
       "      <td>대흥역 1번출구</td>\n",
       "      <td>367.0</td>\n",
       "      <td>10100.71</td>\n",
       "      <td>2021-06-30</td>\n",
       "    </tr>\n",
       "    <tr>\n",
       "      <th>3445941</th>\n",
       "      <td>2021-06-30 22:43:43</td>\n",
       "      <td>152</td>\n",
       "      <td>마포구민체육센터 앞</td>\n",
       "      <td>2021-07-01 04:52:27</td>\n",
       "      <td>00437</td>\n",
       "      <td>대흥역 1번출구</td>\n",
       "      <td>368.0</td>\n",
       "      <td>430.00</td>\n",
       "      <td>2021-06-30</td>\n",
       "    </tr>\n",
       "    <tr>\n",
       "      <th>3445942</th>\n",
       "      <td>2021-06-30 22:11:14</td>\n",
       "      <td>2220</td>\n",
       "      <td>반포본동 주민센터 앞</td>\n",
       "      <td>2021-07-01 04:55:29</td>\n",
       "      <td>02526</td>\n",
       "      <td>반포경남쇼핑 앞</td>\n",
       "      <td>404.0</td>\n",
       "      <td>0.00</td>\n",
       "      <td>2021-06-30</td>\n",
       "    </tr>\n",
       "    <tr>\n",
       "      <th>3445943</th>\n",
       "      <td>2021-06-30 22:12:10</td>\n",
       "      <td>2220</td>\n",
       "      <td>반포본동 주민센터 앞</td>\n",
       "      <td>2021-07-01 04:55:30</td>\n",
       "      <td>02526</td>\n",
       "      <td>반포경남쇼핑 앞</td>\n",
       "      <td>403.0</td>\n",
       "      <td>4541.22</td>\n",
       "      <td>2021-06-30</td>\n",
       "    </tr>\n",
       "  </tbody>\n",
       "</table>\n",
       "<p>13613604 rows × 9 columns</p>\n",
       "</div>"
      ],
      "text/plain": [
       "                       대여일시 대여 대여소번호      대여 대여소명                반납일시 반납대여소번호  \\\n",
       "0       2021-01-02 20:50:36        3         중랑센터 2021-01-02 21:15:41     668   \n",
       "1       2021-01-04 16:02:12        3         중랑센터 2021-01-04 16:17:06     668   \n",
       "2       2021-01-13 21:02:05        3         중랑센터 2021-01-13 21:14:04     668   \n",
       "3       2021-01-14 21:02:55        3         중랑센터 2021-01-14 21:13:41     668   \n",
       "4       2021-01-18 18:02:08        3         중랑센터 2021-01-18 18:15:22     540   \n",
       "...                     ...      ...          ...                 ...     ...   \n",
       "3445939 2021-06-30 22:44:14      152   마포구민체육센터 앞 2021-07-01 04:48:33   00126   \n",
       "3445940 2021-06-30 22:45:19      152   마포구민체육센터 앞 2021-07-01 04:52:25   00437   \n",
       "3445941 2021-06-30 22:43:43      152   마포구민체육센터 앞 2021-07-01 04:52:27   00437   \n",
       "3445942 2021-06-30 22:11:14     2220  반포본동 주민센터 앞 2021-07-01 04:55:29   02526   \n",
       "3445943 2021-06-30 22:12:10     2220  반포본동 주민센터 앞 2021-07-01 04:55:30   02526   \n",
       "\n",
       "                  반납대여소명   이용시간      이용거리        대여날짜  \n",
       "0           서울축산농협(장안지점)   25.0      0.00  2021-01-02  \n",
       "1           서울축산농협(장안지점)   14.0      0.00  2021-01-04  \n",
       "2           서울축산농협(장안지점)   11.0   1853.99  2021-01-13  \n",
       "3           서울축산농협(장안지점)   10.0      0.00  2021-01-14  \n",
       "4        군자역 7번출구 베스트샵 앞   13.0   2291.05  2021-01-18  \n",
       "...                  ...    ...       ...         ...  \n",
       "3445939         서강대 후문 옆  364.0  10153.36  2021-06-30  \n",
       "3445940         대흥역 1번출구  367.0  10100.71  2021-06-30  \n",
       "3445941         대흥역 1번출구  368.0    430.00  2021-06-30  \n",
       "3445942         반포경남쇼핑 앞  404.0      0.00  2021-06-30  \n",
       "3445943         반포경남쇼핑 앞  403.0   4541.22  2021-06-30  \n",
       "\n",
       "[13613604 rows x 9 columns]"
      ]
     },
     "execution_count": 24,
     "metadata": {},
     "output_type": "execute_result"
    }
   ],
   "source": [
    "df"
   ]
  },
  {
   "cell_type": "markdown",
   "id": "482fd396",
   "metadata": {},
   "source": [
    "## 대여날짜 별 대여 건수\n",
    "* groupby\n",
    "* to_frame"
   ]
  },
  {
   "cell_type": "code",
   "execution_count": 25,
   "id": "ddef9ea5",
   "metadata": {},
   "outputs": [],
   "source": [
    "# 대여날짜 별 대여건수 추출\n",
    "df_count = df.groupby('대여날짜').대여일시.count().to_frame()"
   ]
  },
  {
   "cell_type": "code",
   "execution_count": 26,
   "id": "6ca2a9ab",
   "metadata": {},
   "outputs": [],
   "source": [
    "# 대여날짜 별 대여건수 시각화\n",
    "df_count.columns=['대여건수']"
   ]
  },
  {
   "cell_type": "code",
   "execution_count": 27,
   "id": "4a1ec4d9",
   "metadata": {},
   "outputs": [
    {
     "data": {
      "image/png": "[encoded data removed]",
      "text/plain": [
       "<Figure size 432x288 with 1 Axes>"
      ]
     },
     "metadata": {
      "needs_background": "light"
     },
     "output_type": "display_data"
    }
   ],
   "source": [
    "plt.plot(df_count.index, df_count.values)\n",
    "plt.title('서울시 공공자전거 대여 날짜 별 대여건수')\n",
    "plt.show()"
   ]
  },
  {
   "cell_type": "markdown",
   "id": "83c0ac75",
   "metadata": {},
   "source": [
    "## 대여날짜 별 이용시간\n",
    "* groupby\n",
    "* to_frame"
   ]
  },
  {
   "cell_type": "code",
   "execution_count": 28,
   "id": "3538de01",
   "metadata": {},
   "outputs": [],
   "source": [
    "# 대여날짜 별 이용시간 추출\n",
    "df_time = df.groupby('대여날짜')['이용시간'].sum().to_frame()"
   ]
  },
  {
   "cell_type": "code",
   "execution_count": 29,
   "id": "1d2ba53c",
   "metadata": {
    "scrolled": true
   },
   "outputs": [
    {
     "data": {
      "image/png": "[encoded data removed]",
      "text/plain": [
       "<Figure size 432x288 with 1 Axes>"
      ]
     },
     "metadata": {
      "needs_background": "light"
     },
     "output_type": "display_data"
    }
   ],
   "source": [
    "# 대여날짜 별 이용시간 시각화\n",
    "plt.plot(df_time.index, df_time['이용시간'])\n",
    "plt.title('서울시 공공자전거 대여 날짜 별 이용시간')\n",
    "plt.show()"
   ]
  },
  {
   "cell_type": "markdown",
   "id": "68f59bec",
   "metadata": {},
   "source": [
    "## 대여날짜 별 이용 거리"
   ]
  },
  {
   "cell_type": "code",
   "execution_count": 30,
   "id": "a9dad299",
   "metadata": {},
   "outputs": [],
   "source": [
    "# 대여날짜 별 이용거리 추출\n",
    "df_distance = df.groupby('대여날짜')['이용거리'].sum().to_frame()"
   ]
  },
  {
   "cell_type": "code",
   "execution_count": 31,
   "id": "bc1cda84",
   "metadata": {
    "scrolled": false
   },
   "outputs": [
    {
     "data": {
      "image/png": "[encoded data removed]",
      "text/plain": [
       "<Figure size 432x288 with 1 Axes>"
      ]
     },
     "metadata": {
      "needs_background": "light"
     },
     "output_type": "display_data"
    }
   ],
   "source": [
    "# 대여날짜 별 이용거리 시각화\n",
    "plt.plot(df_distance.index, df_distance['이용거리'])\n",
    "plt.title('서울시 공공자전거 대여 날짜 별 이용거리')\n",
    "plt.show()"
   ]
  },
  {
   "cell_type": "markdown",
   "id": "b25c9d74",
   "metadata": {},
   "source": [
    "## 데이터프레임 합치기"
   ]
  },
  {
   "cell_type": "code",
   "execution_count": 32,
   "id": "de73e2b3",
   "metadata": {},
   "outputs": [
    {
     "data": {
      "text/html": [
       "<div>\n",
       "<style scoped>\n",
       "    .dataframe tbody tr th:only-of-type {\n",
       "        vertical-align: middle;\n",
       "    }\n",
       "\n",
       "    .dataframe tbody tr th {\n",
       "        vertical-align: top;\n",
       "    }\n",
       "\n",
       "    .dataframe thead th {\n",
       "        text-align: right;\n",
       "    }\n",
       "</style>\n",
       "<table border=\"1\" class=\"dataframe\">\n",
       "  <thead>\n",
       "    <tr style=\"text-align: right;\">\n",
       "      <th></th>\n",
       "      <th>이용시간</th>\n",
       "      <th>이용거리</th>\n",
       "      <th>대여건수</th>\n",
       "    </tr>\n",
       "    <tr>\n",
       "      <th>대여날짜</th>\n",
       "      <th></th>\n",
       "      <th></th>\n",
       "      <th></th>\n",
       "    </tr>\n",
       "  </thead>\n",
       "  <tbody>\n",
       "    <tr>\n",
       "      <th>2021-01-01</th>\n",
       "      <td>692309.0</td>\n",
       "      <td>4.613529e+07</td>\n",
       "      <td>22119</td>\n",
       "    </tr>\n",
       "    <tr>\n",
       "      <th>2021-01-02</th>\n",
       "      <td>686580.0</td>\n",
       "      <td>4.409618e+07</td>\n",
       "      <td>23463</td>\n",
       "    </tr>\n",
       "    <tr>\n",
       "      <th>2021-01-03</th>\n",
       "      <td>609571.0</td>\n",
       "      <td>4.059830e+07</td>\n",
       "      <td>21656</td>\n",
       "    </tr>\n",
       "    <tr>\n",
       "      <th>2021-01-04</th>\n",
       "      <td>750721.0</td>\n",
       "      <td>5.249645e+07</td>\n",
       "      <td>32732</td>\n",
       "    </tr>\n",
       "    <tr>\n",
       "      <th>2021-01-05</th>\n",
       "      <td>610227.0</td>\n",
       "      <td>6.944856e+07</td>\n",
       "      <td>28819</td>\n",
       "    </tr>\n",
       "    <tr>\n",
       "      <th>...</th>\n",
       "      <td>...</td>\n",
       "      <td>...</td>\n",
       "      <td>...</td>\n",
       "    </tr>\n",
       "    <tr>\n",
       "      <th>2021-06-26</th>\n",
       "      <td>3168288.0</td>\n",
       "      <td>3.635015e+08</td>\n",
       "      <td>105414</td>\n",
       "    </tr>\n",
       "    <tr>\n",
       "      <th>2021-06-27</th>\n",
       "      <td>2706168.0</td>\n",
       "      <td>3.078146e+08</td>\n",
       "      <td>92486</td>\n",
       "    </tr>\n",
       "    <tr>\n",
       "      <th>2021-06-28</th>\n",
       "      <td>2405249.0</td>\n",
       "      <td>2.828124e+08</td>\n",
       "      <td>105882</td>\n",
       "    </tr>\n",
       "    <tr>\n",
       "      <th>2021-06-29</th>\n",
       "      <td>2530020.0</td>\n",
       "      <td>3.031029e+08</td>\n",
       "      <td>111436</td>\n",
       "    </tr>\n",
       "    <tr>\n",
       "      <th>2021-06-30</th>\n",
       "      <td>2950342.0</td>\n",
       "      <td>3.395277e+08</td>\n",
       "      <td>121632</td>\n",
       "    </tr>\n",
       "  </tbody>\n",
       "</table>\n",
       "<p>181 rows × 3 columns</p>\n",
       "</div>"
      ],
      "text/plain": [
       "                 이용시간          이용거리    대여건수\n",
       "대여날짜                                       \n",
       "2021-01-01   692309.0  4.613529e+07   22119\n",
       "2021-01-02   686580.0  4.409618e+07   23463\n",
       "2021-01-03   609571.0  4.059830e+07   21656\n",
       "2021-01-04   750721.0  5.249645e+07   32732\n",
       "2021-01-05   610227.0  6.944856e+07   28819\n",
       "...               ...           ...     ...\n",
       "2021-06-26  3168288.0  3.635015e+08  105414\n",
       "2021-06-27  2706168.0  3.078146e+08   92486\n",
       "2021-06-28  2405249.0  2.828124e+08  105882\n",
       "2021-06-29  2530020.0  3.031029e+08  111436\n",
       "2021-06-30  2950342.0  3.395277e+08  121632\n",
       "\n",
       "[181 rows x 3 columns]"
      ]
     },
     "execution_count": 32,
     "metadata": {},
     "output_type": "execute_result"
    }
   ],
   "source": [
    "df_date = pd.concat([df_time,df_distance,df_count], axis=1)\n",
    "df_date"
   ]
  },
  {
   "cell_type": "markdown",
   "id": "da51253c",
   "metadata": {},
   "source": [
    "# 시간대별 대여/반납 현황"
   ]
  },
  {
   "cell_type": "markdown",
   "id": "c3b379c3",
   "metadata": {},
   "source": [
    "## 대여시간, 반납시간 컬럼 추가"
   ]
  },
  {
   "cell_type": "code",
   "execution_count": 55,
   "id": "7e063bc2",
   "metadata": {},
   "outputs": [],
   "source": [
    "df['대여시간'] = df['대여일시'].dt.hour"
   ]
  },
  {
   "cell_type": "code",
   "execution_count": 56,
   "id": "14b9ad9e",
   "metadata": {},
   "outputs": [],
   "source": [
    "df['반납시간'] = df['반납일시'].dt.hour"
   ]
  },
  {
   "cell_type": "code",
   "execution_count": 58,
   "id": "c84e1a21",
   "metadata": {},
   "outputs": [
    {
     "data": {
      "text/plain": [
       "대여일시        datetime64[ns]\n",
       "대여 대여소번호          category\n",
       "대여 대여소명             object\n",
       "반납일시        datetime64[ns]\n",
       "반납대여소번호           category\n",
       "반납대여소명              object\n",
       "이용시간               float64\n",
       "이용거리               float64\n",
       "대여날짜                object\n",
       "대여시간                 int64\n",
       "반납시간                 int64\n",
       "dtype: object"
      ]
     },
     "execution_count": 58,
     "metadata": {},
     "output_type": "execute_result"
    }
   ],
   "source": [
    "df.dtypes"
   ]
  },
  {
   "cell_type": "markdown",
   "id": "e22fc1a4",
   "metadata": {},
   "source": [
    "## 시간대별 대여/반납 현황"
   ]
  },
  {
   "cell_type": "code",
   "execution_count": 59,
   "id": "70c0dfa6",
   "metadata": {},
   "outputs": [
    {
     "data": {
      "text/html": [
       "<div>\n",
       "<style scoped>\n",
       "    .dataframe tbody tr th:only-of-type {\n",
       "        vertical-align: middle;\n",
       "    }\n",
       "\n",
       "    .dataframe tbody tr th {\n",
       "        vertical-align: top;\n",
       "    }\n",
       "\n",
       "    .dataframe thead th {\n",
       "        text-align: right;\n",
       "    }\n",
       "</style>\n",
       "<table border=\"1\" class=\"dataframe\">\n",
       "  <thead>\n",
       "    <tr style=\"text-align: right;\">\n",
       "      <th></th>\n",
       "      <th>대여일시</th>\n",
       "      <th>대여 대여소번호</th>\n",
       "      <th>대여 대여소명</th>\n",
       "      <th>반납일시</th>\n",
       "      <th>반납대여소번호</th>\n",
       "      <th>반납대여소명</th>\n",
       "      <th>이용시간</th>\n",
       "      <th>이용거리</th>\n",
       "      <th>대여날짜</th>\n",
       "      <th>대여시간</th>\n",
       "      <th>반납시간</th>\n",
       "    </tr>\n",
       "  </thead>\n",
       "  <tbody>\n",
       "    <tr>\n",
       "      <th>0</th>\n",
       "      <td>2021-01-02 20:50:36</td>\n",
       "      <td>3</td>\n",
       "      <td>중랑센터</td>\n",
       "      <td>2021-01-02 21:15:41</td>\n",
       "      <td>668</td>\n",
       "      <td>서울축산농협(장안지점)</td>\n",
       "      <td>25.0</td>\n",
       "      <td>0.00</td>\n",
       "      <td>2021-01-02</td>\n",
       "      <td>20</td>\n",
       "      <td>21</td>\n",
       "    </tr>\n",
       "    <tr>\n",
       "      <th>1</th>\n",
       "      <td>2021-01-04 16:02:12</td>\n",
       "      <td>3</td>\n",
       "      <td>중랑센터</td>\n",
       "      <td>2021-01-04 16:17:06</td>\n",
       "      <td>668</td>\n",
       "      <td>서울축산농협(장안지점)</td>\n",
       "      <td>14.0</td>\n",
       "      <td>0.00</td>\n",
       "      <td>2021-01-04</td>\n",
       "      <td>16</td>\n",
       "      <td>16</td>\n",
       "    </tr>\n",
       "    <tr>\n",
       "      <th>2</th>\n",
       "      <td>2021-01-13 21:02:05</td>\n",
       "      <td>3</td>\n",
       "      <td>중랑센터</td>\n",
       "      <td>2021-01-13 21:14:04</td>\n",
       "      <td>668</td>\n",
       "      <td>서울축산농협(장안지점)</td>\n",
       "      <td>11.0</td>\n",
       "      <td>1853.99</td>\n",
       "      <td>2021-01-13</td>\n",
       "      <td>21</td>\n",
       "      <td>21</td>\n",
       "    </tr>\n",
       "    <tr>\n",
       "      <th>3</th>\n",
       "      <td>2021-01-14 21:02:55</td>\n",
       "      <td>3</td>\n",
       "      <td>중랑센터</td>\n",
       "      <td>2021-01-14 21:13:41</td>\n",
       "      <td>668</td>\n",
       "      <td>서울축산농협(장안지점)</td>\n",
       "      <td>10.0</td>\n",
       "      <td>0.00</td>\n",
       "      <td>2021-01-14</td>\n",
       "      <td>21</td>\n",
       "      <td>21</td>\n",
       "    </tr>\n",
       "    <tr>\n",
       "      <th>4</th>\n",
       "      <td>2021-01-18 18:02:08</td>\n",
       "      <td>3</td>\n",
       "      <td>중랑센터</td>\n",
       "      <td>2021-01-18 18:15:22</td>\n",
       "      <td>540</td>\n",
       "      <td>군자역 7번출구 베스트샵 앞</td>\n",
       "      <td>13.0</td>\n",
       "      <td>2291.05</td>\n",
       "      <td>2021-01-18</td>\n",
       "      <td>18</td>\n",
       "      <td>18</td>\n",
       "    </tr>\n",
       "    <tr>\n",
       "      <th>...</th>\n",
       "      <td>...</td>\n",
       "      <td>...</td>\n",
       "      <td>...</td>\n",
       "      <td>...</td>\n",
       "      <td>...</td>\n",
       "      <td>...</td>\n",
       "      <td>...</td>\n",
       "      <td>...</td>\n",
       "      <td>...</td>\n",
       "      <td>...</td>\n",
       "      <td>...</td>\n",
       "    </tr>\n",
       "    <tr>\n",
       "      <th>3445939</th>\n",
       "      <td>2021-06-30 22:44:14</td>\n",
       "      <td>152</td>\n",
       "      <td>마포구민체육센터 앞</td>\n",
       "      <td>2021-07-01 04:48:33</td>\n",
       "      <td>00126</td>\n",
       "      <td>서강대 후문 옆</td>\n",
       "      <td>364.0</td>\n",
       "      <td>10153.36</td>\n",
       "      <td>2021-06-30</td>\n",
       "      <td>22</td>\n",
       "      <td>4</td>\n",
       "    </tr>\n",
       "    <tr>\n",
       "      <th>3445940</th>\n",
       "      <td>2021-06-30 22:45:19</td>\n",
       "      <td>152</td>\n",
       "      <td>마포구민체육센터 앞</td>\n",
       "      <td>2021-07-01 04:52:25</td>\n",
       "      <td>00437</td>\n",
       "      <td>대흥역 1번출구</td>\n",
       "      <td>367.0</td>\n",
       "      <td>10100.71</td>\n",
       "      <td>2021-06-30</td>\n",
       "      <td>22</td>\n",
       "      <td>4</td>\n",
       "    </tr>\n",
       "    <tr>\n",
       "      <th>3445941</th>\n",
       "      <td>2021-06-30 22:43:43</td>\n",
       "      <td>152</td>\n",
       "      <td>마포구민체육센터 앞</td>\n",
       "      <td>2021-07-01 04:52:27</td>\n",
       "      <td>00437</td>\n",
       "      <td>대흥역 1번출구</td>\n",
       "      <td>368.0</td>\n",
       "      <td>430.00</td>\n",
       "      <td>2021-06-30</td>\n",
       "      <td>22</td>\n",
       "      <td>4</td>\n",
       "    </tr>\n",
       "    <tr>\n",
       "      <th>3445942</th>\n",
       "      <td>2021-06-30 22:11:14</td>\n",
       "      <td>2220</td>\n",
       "      <td>반포본동 주민센터 앞</td>\n",
       "      <td>2021-07-01 04:55:29</td>\n",
       "      <td>02526</td>\n",
       "      <td>반포경남쇼핑 앞</td>\n",
       "      <td>404.0</td>\n",
       "      <td>0.00</td>\n",
       "      <td>2021-06-30</td>\n",
       "      <td>22</td>\n",
       "      <td>4</td>\n",
       "    </tr>\n",
       "    <tr>\n",
       "      <th>3445943</th>\n",
       "      <td>2021-06-30 22:12:10</td>\n",
       "      <td>2220</td>\n",
       "      <td>반포본동 주민센터 앞</td>\n",
       "      <td>2021-07-01 04:55:30</td>\n",
       "      <td>02526</td>\n",
       "      <td>반포경남쇼핑 앞</td>\n",
       "      <td>403.0</td>\n",
       "      <td>4541.22</td>\n",
       "      <td>2021-06-30</td>\n",
       "      <td>22</td>\n",
       "      <td>4</td>\n",
       "    </tr>\n",
       "  </tbody>\n",
       "</table>\n",
       "<p>13613604 rows × 11 columns</p>\n",
       "</div>"
      ],
      "text/plain": [
       "                       대여일시 대여 대여소번호      대여 대여소명                반납일시 반납대여소번호  \\\n",
       "0       2021-01-02 20:50:36        3         중랑센터 2021-01-02 21:15:41     668   \n",
       "1       2021-01-04 16:02:12        3         중랑센터 2021-01-04 16:17:06     668   \n",
       "2       2021-01-13 21:02:05        3         중랑센터 2021-01-13 21:14:04     668   \n",
       "3       2021-01-14 21:02:55        3         중랑센터 2021-01-14 21:13:41     668   \n",
       "4       2021-01-18 18:02:08        3         중랑센터 2021-01-18 18:15:22     540   \n",
       "...                     ...      ...          ...                 ...     ...   \n",
       "3445939 2021-06-30 22:44:14      152   마포구민체육센터 앞 2021-07-01 04:48:33   00126   \n",
       "3445940 2021-06-30 22:45:19      152   마포구민체육센터 앞 2021-07-01 04:52:25   00437   \n",
       "3445941 2021-06-30 22:43:43      152   마포구민체육센터 앞 2021-07-01 04:52:27   00437   \n",
       "3445942 2021-06-30 22:11:14     2220  반포본동 주민센터 앞 2021-07-01 04:55:29   02526   \n",
       "3445943 2021-06-30 22:12:10     2220  반포본동 주민센터 앞 2021-07-01 04:55:30   02526   \n",
       "\n",
       "                  반납대여소명   이용시간      이용거리        대여날짜  대여시간  반납시간  \n",
       "0           서울축산농협(장안지점)   25.0      0.00  2021-01-02    20    21  \n",
       "1           서울축산농협(장안지점)   14.0      0.00  2021-01-04    16    16  \n",
       "2           서울축산농협(장안지점)   11.0   1853.99  2021-01-13    21    21  \n",
       "3           서울축산농협(장안지점)   10.0      0.00  2021-01-14    21    21  \n",
       "4        군자역 7번출구 베스트샵 앞   13.0   2291.05  2021-01-18    18    18  \n",
       "...                  ...    ...       ...         ...   ...   ...  \n",
       "3445939         서강대 후문 옆  364.0  10153.36  2021-06-30    22     4  \n",
       "3445940         대흥역 1번출구  367.0  10100.71  2021-06-30    22     4  \n",
       "3445941         대흥역 1번출구  368.0    430.00  2021-06-30    22     4  \n",
       "3445942         반포경남쇼핑 앞  404.0      0.00  2021-06-30    22     4  \n",
       "3445943         반포경남쇼핑 앞  403.0   4541.22  2021-06-30    22     4  \n",
       "\n",
       "[13613604 rows x 11 columns]"
      ]
     },
     "execution_count": 59,
     "metadata": {},
     "output_type": "execute_result"
    }
   ],
   "source": [
    "df"
   ]
  },
  {
   "cell_type": "code",
   "execution_count": 65,
   "id": "cdd3b4d3",
   "metadata": {},
   "outputs": [
    {
     "data": {
      "text/plain": [
       "18    1432779\n",
       "17    1178279\n",
       "19     984476\n",
       "16     934211\n",
       "20     825031\n",
       "15     816040\n",
       "8      808506\n",
       "21     770378\n",
       "14     725175\n",
       "13     667237\n",
       "22     643611\n",
       "12     623065\n",
       "11     537810\n",
       "9      499995\n",
       "7      486775\n",
       "10     438084\n",
       "23     341859\n",
       "0      240025\n",
       "6      188920\n",
       "1      158905\n",
       "2      103629\n",
       "5       84713\n",
       "3       68710\n",
       "4       55391\n",
       "Name: 대여시간, dtype: int64"
      ]
     },
     "execution_count": 65,
     "metadata": {},
     "output_type": "execute_result"
    }
   ],
   "source": [
    "# 시간대별 대여현황\n",
    "s_rental = df['대여시간'].value_counts()\n",
    "s_rental"
   ]
  },
  {
   "cell_type": "code",
   "execution_count": 66,
   "id": "01786216",
   "metadata": {},
   "outputs": [
    {
     "data": {
      "text/plain": [
       "18    1437723\n",
       "19    1125447\n",
       "17    1097623\n",
       "16     880629\n",
       "20     864644\n",
       "8      817076\n",
       "21     812357\n",
       "22     768302\n",
       "15     749940\n",
       "14     657826\n",
       "13     628908\n",
       "12     591577\n",
       "9      499033\n",
       "11     470053\n",
       "23     447477\n",
       "10     402350\n",
       "7      389007\n",
       "0      290169\n",
       "1      190954\n",
       "6      152003\n",
       "2      125912\n",
       "3       80243\n",
       "5       73983\n",
       "4       60368\n",
       "Name: 반납시간, dtype: int64"
      ]
     },
     "execution_count": 66,
     "metadata": {},
     "output_type": "execute_result"
    }
   ],
   "source": [
    "# 시간대별 반납현황\n",
    "s_return = df['반납시간'].value_counts()\n",
    "s_returnㅈ"
   ]
  },
  {
   "cell_type": "markdown",
   "id": "0a305d7d",
   "metadata": {},
   "source": [
    "## 시각화"
   ]
  },
  {
   "cell_type": "code",
   "execution_count": 75,
   "id": "82ec1764",
   "metadata": {
    "scrolled": true
   },
   "outputs": [
    {
     "data": {
      "image/png": "[encoded data removed]",
      "text/plain": [
       "<Figure size 432x288 with 1 Axes>"
      ]
     },
     "metadata": {
      "needs_background": "light"
     },
     "output_type": "display_data"
    }
   ],
   "source": [
    "# 시간대별 공공자전거 대여건수 시각화\n",
    "s_rental = s_rental.sort_index()\n",
    "s_rental\n",
    "x = s_rental.index\n",
    "y = s_rental.values\n",
    "plt.bar(x,y)\n",
    "plt.title('서울시 공공자전거 시간대별 대여 건수')\n",
    "plt.xlabel('대여시간')\n",
    "plt.ylabel('대여건수')\n",
    "plt.show()"
   ]
  },
  {
   "cell_type": "code",
   "execution_count": 91,
   "id": "cad86da4",
   "metadata": {
    "scrolled": false
   },
   "outputs": [
    {
     "data": {
      "image/png": "[encoded data removed]",
      "text/plain": [
       "<Figure size 432x288 with 1 Axes>"
      ]
     },
     "metadata": {
      "needs_background": "light"
     },
     "output_type": "display_data"
    }
   ],
   "source": [
    "# 시간대별 공공자전거 반납건수 시각화\n",
    "s_return = s_return.sort_index()\n",
    "x = s_return.index\n",
    "y = s_return.values\n",
    "plt.bar(x,y,color='skyblue')\n",
    "plt.title('서울시 공공자전거 시간대별 반납 건수')\n",
    "plt.xlabel('반납시간')\n",
    "plt.ylabel('반납건수')\n",
    "plt.show()"
   ]
  },
  {
   "cell_type": "markdown",
   "id": "db5483b0",
   "metadata": {},
   "source": [
    "# 대여소별 대여/반납 현황"
   ]
  },
  {
   "cell_type": "markdown",
   "id": "b0bd86ec",
   "metadata": {},
   "source": [
    "## 대여소 현황"
   ]
  },
  {
   "cell_type": "code",
   "execution_count": 93,
   "id": "d2ed7827",
   "metadata": {},
   "outputs": [
    {
     "data": {
      "text/plain": [
       "0             3\n",
       "1             3\n",
       "2             3\n",
       "3             3\n",
       "4             3\n",
       "           ... \n",
       "3445939     152\n",
       "3445940     152\n",
       "3445941     152\n",
       "3445942    2220\n",
       "3445943    2220\n",
       "Name: 대여 대여소번호, Length: 13613604, dtype: category\n",
       "Categories (2493, int64): [3, 5, 10, 101, ..., 9999, 88888, 99997, 99999]"
      ]
     },
     "execution_count": 93,
     "metadata": {},
     "output_type": "execute_result"
    }
   ],
   "source": [
    "# 대여 대여소번호 갯수\n",
    "df['대여 대여소번호']"
   ]
  },
  {
   "cell_type": "code",
   "execution_count": 94,
   "id": "f3cad82c",
   "metadata": {
    "scrolled": true
   },
   "outputs": [
    {
     "data": {
      "text/plain": [
       "0            668\n",
       "1            668\n",
       "2            668\n",
       "3            668\n",
       "4            540\n",
       "           ...  \n",
       "3445939    00126\n",
       "3445940    00437\n",
       "3445941    00437\n",
       "3445942    02526\n",
       "3445943    02526\n",
       "Name: 반납대여소번호, Length: 13613604, dtype: category\n",
       "Categories (4811, object): [3, 10, 101, 102, ..., '화랑대역 2번출구 앞', '휘경sk뷰아파트 앞', '휘경여중고삼거리', '흑석역 4번출구']"
      ]
     },
     "execution_count": 94,
     "metadata": {},
     "output_type": "execute_result"
    }
   ],
   "source": [
    "# 반납대여소번호 갯수\n",
    "df['반납대여소번호']"
   ]
  },
  {
   "cell_type": "code",
   "execution_count": 103,
   "id": "0719fdd6",
   "metadata": {},
   "outputs": [],
   "source": [
    "# 반납대여소 번호 처리 (str형으로 변환)\n",
    "df['반납대여소번호'] = df['반납대여소번호'].astype('str')"
   ]
  },
  {
   "cell_type": "code",
   "execution_count": 106,
   "id": "78bfb89a",
   "metadata": {},
   "outputs": [],
   "source": [
    "# 반납대여소 번호 처리 (왼쪽의 '0' 제거)\n",
    "df['반납대여소번호'] = df['반납대여소번호'].str.lstrip('0')"
   ]
  },
  {
   "cell_type": "code",
   "execution_count": 109,
   "id": "30023227",
   "metadata": {},
   "outputs": [],
   "source": [
    "# 반납대여소 번호 처리 (int형으로 변환)\n",
    "df['반납대여소번호'] = df['반납대여소번호'].astype('int')"
   ]
  },
  {
   "cell_type": "code",
   "execution_count": 110,
   "id": "96c55adc",
   "metadata": {},
   "outputs": [],
   "source": [
    "# 반납대여소 번호 처리 (category형으로 변환)\n",
    "df['반납대여소번호'] = df['반납대여소번호'].astype('category')"
   ]
  },
  {
   "cell_type": "code",
   "execution_count": 113,
   "id": "bfd0872e",
   "metadata": {
    "scrolled": true
   },
   "outputs": [
    {
     "data": {
      "text/plain": [
       "0           668\n",
       "1           668\n",
       "2           668\n",
       "3           668\n",
       "4           540\n",
       "           ... \n",
       "3445939     126\n",
       "3445940     437\n",
       "3445941     437\n",
       "3445942    2526\n",
       "3445943    2526\n",
       "Name: 반납대여소번호, Length: 13613604, dtype: category\n",
       "Categories (2493, int64): [3, 5, 10, 101, ..., 9999, 88888, 99997, 99999]"
      ]
     },
     "execution_count": 113,
     "metadata": {},
     "output_type": "execute_result"
    }
   ],
   "source": [
    "df['반납대여소번호']"
   ]
  },
  {
   "cell_type": "markdown",
   "id": "29d28349",
   "metadata": {},
   "source": [
    "## 대여건수가 가장 많은 대여소 best10"
   ]
  },
  {
   "cell_type": "code",
   "execution_count": 120,
   "id": "0835a447",
   "metadata": {
    "scrolled": false
   },
   "outputs": [
    {
     "data": {
      "text/html": [
       "<div>\n",
       "<style scoped>\n",
       "    .dataframe tbody tr th:only-of-type {\n",
       "        vertical-align: middle;\n",
       "    }\n",
       "\n",
       "    .dataframe tbody tr th {\n",
       "        vertical-align: top;\n",
       "    }\n",
       "\n",
       "    .dataframe thead th {\n",
       "        text-align: right;\n",
       "    }\n",
       "</style>\n",
       "<table border=\"1\" class=\"dataframe\">\n",
       "  <thead>\n",
       "    <tr style=\"text-align: right;\">\n",
       "      <th></th>\n",
       "      <th></th>\n",
       "      <th>0</th>\n",
       "    </tr>\n",
       "    <tr>\n",
       "      <th>대여 대여소번호</th>\n",
       "      <th>대여 대여소명</th>\n",
       "      <th></th>\n",
       "    </tr>\n",
       "  </thead>\n",
       "  <tbody>\n",
       "    <tr>\n",
       "      <th>207</th>\n",
       "      <th>여의나루역 1번출구 앞</th>\n",
       "      <td>68994</td>\n",
       "    </tr>\n",
       "    <tr>\n",
       "      <th>502</th>\n",
       "      <th>뚝섬유원지역 1번출구 앞</th>\n",
       "      <td>68588</td>\n",
       "    </tr>\n",
       "    <tr>\n",
       "      <th>152</th>\n",
       "      <th>마포구민체육센터 앞</th>\n",
       "      <td>43535</td>\n",
       "    </tr>\n",
       "    <tr>\n",
       "      <th>2102</th>\n",
       "      <th>봉림교 교통섬</th>\n",
       "      <td>43368</td>\n",
       "    </tr>\n",
       "    <tr>\n",
       "      <th>1210</th>\n",
       "      <th>롯데월드타워(잠실역2번출구 쪽)</th>\n",
       "      <td>37149</td>\n",
       "    </tr>\n",
       "    <tr>\n",
       "      <th>2715</th>\n",
       "      <th>마곡나루역 2번 출구</th>\n",
       "      <td>36988</td>\n",
       "    </tr>\n",
       "    <tr>\n",
       "      <th>2177</th>\n",
       "      <th>신대방역 2번 출구</th>\n",
       "      <td>31971</td>\n",
       "    </tr>\n",
       "    <tr>\n",
       "      <th>272</th>\n",
       "      <th>당산육갑문</th>\n",
       "      <td>31527</td>\n",
       "    </tr>\n",
       "    <tr>\n",
       "      <th>210</th>\n",
       "      <th>IFC몰</th>\n",
       "      <td>31443</td>\n",
       "    </tr>\n",
       "    <tr>\n",
       "      <th>565</th>\n",
       "      <th>옥수역 3번출구</th>\n",
       "      <td>29811</td>\n",
       "    </tr>\n",
       "  </tbody>\n",
       "</table>\n",
       "</div>"
      ],
      "text/plain": [
       "                                0\n",
       "대여 대여소번호 대여 대여소명                 \n",
       "207      여의나루역 1번출구 앞       68994\n",
       "502      뚝섬유원지역 1번출구 앞      68588\n",
       "152      마포구민체육센터 앞         43535\n",
       "2102     봉림교 교통섬            43368\n",
       "1210     롯데월드타워(잠실역2번출구 쪽)  37149\n",
       "2715     마곡나루역 2번 출구        36988\n",
       "2177     신대방역 2번 출구         31971\n",
       "272      당산육갑문              31527\n",
       "210      IFC몰               31443\n",
       "565      옥수역 3번출구           29811"
      ]
     },
     "execution_count": 120,
     "metadata": {},
     "output_type": "execute_result"
    }
   ],
   "source": [
    "# value_counts\n",
    "df[['대여 대여소번호','대여 대여소명']].value_counts()[:10].to_frame()"
   ]
  },
  {
   "cell_type": "markdown",
   "id": "65211f9b",
   "metadata": {},
   "source": [
    "## 반납건수가 가장 많은 대여소 best10"
   ]
  },
  {
   "cell_type": "code",
   "execution_count": 124,
   "id": "d629fea6",
   "metadata": {
    "scrolled": false
   },
   "outputs": [
    {
     "data": {
      "text/html": [
       "<div>\n",
       "<style scoped>\n",
       "    .dataframe tbody tr th:only-of-type {\n",
       "        vertical-align: middle;\n",
       "    }\n",
       "\n",
       "    .dataframe tbody tr th {\n",
       "        vertical-align: top;\n",
       "    }\n",
       "\n",
       "    .dataframe thead th {\n",
       "        text-align: right;\n",
       "    }\n",
       "</style>\n",
       "<table border=\"1\" class=\"dataframe\">\n",
       "  <thead>\n",
       "    <tr style=\"text-align: right;\">\n",
       "      <th></th>\n",
       "      <th></th>\n",
       "      <th>0</th>\n",
       "    </tr>\n",
       "    <tr>\n",
       "      <th>반납대여소번호</th>\n",
       "      <th>반납대여소명</th>\n",
       "      <th></th>\n",
       "    </tr>\n",
       "  </thead>\n",
       "  <tbody>\n",
       "    <tr>\n",
       "      <th>502</th>\n",
       "      <th>뚝섬유원지역 1번출구 앞</th>\n",
       "      <td>78958</td>\n",
       "    </tr>\n",
       "    <tr>\n",
       "      <th>207</th>\n",
       "      <th>여의나루역 1번출구 앞</th>\n",
       "      <td>68966</td>\n",
       "    </tr>\n",
       "    <tr>\n",
       "      <th>152</th>\n",
       "      <th>마포구민체육센터 앞</th>\n",
       "      <td>50607</td>\n",
       "    </tr>\n",
       "    <tr>\n",
       "      <th>2102</th>\n",
       "      <th>봉림교 교통섬</th>\n",
       "      <td>44572</td>\n",
       "    </tr>\n",
       "    <tr>\n",
       "      <th>1210</th>\n",
       "      <th>롯데월드타워(잠실역2번출구 쪽)</th>\n",
       "      <td>37344</td>\n",
       "    </tr>\n",
       "    <tr>\n",
       "      <th>2715</th>\n",
       "      <th>마곡나루역 2번 출구</th>\n",
       "      <td>36876</td>\n",
       "    </tr>\n",
       "    <tr>\n",
       "      <th>272</th>\n",
       "      <th>당산육갑문</th>\n",
       "      <td>34276</td>\n",
       "    </tr>\n",
       "    <tr>\n",
       "      <th>210</th>\n",
       "      <th>IFC몰</th>\n",
       "      <td>33758</td>\n",
       "    </tr>\n",
       "    <tr>\n",
       "      <th>2177</th>\n",
       "      <th>신대방역 2번 출구</th>\n",
       "      <td>33159</td>\n",
       "    </tr>\n",
       "    <tr>\n",
       "      <th>565</th>\n",
       "      <th>옥수역 3번출구</th>\n",
       "      <td>32381</td>\n",
       "    </tr>\n",
       "  </tbody>\n",
       "</table>\n",
       "</div>"
      ],
      "text/plain": [
       "                               0\n",
       "반납대여소번호 반납대여소명                  \n",
       "502     뚝섬유원지역 1번출구 앞      78958\n",
       "207     여의나루역 1번출구 앞       68966\n",
       "152     마포구민체육센터 앞         50607\n",
       "2102    봉림교 교통섬            44572\n",
       "1210    롯데월드타워(잠실역2번출구 쪽)  37344\n",
       "2715    마곡나루역 2번 출구        36876\n",
       "272     당산육갑문              34276\n",
       "210     IFC몰               33758\n",
       "2177    신대방역 2번 출구         33159\n",
       "565     옥수역 3번출구           32381"
      ]
     },
     "execution_count": 124,
     "metadata": {},
     "output_type": "execute_result"
    }
   ],
   "source": [
    "# value_counts\n",
    "df[['반납대여소번호','반납대여소명']].value_counts()[:10].to_frame()"
   ]
  },
  {
   "cell_type": "markdown",
   "id": "cd4dd77f",
   "metadata": {},
   "source": [
    "## 여의나루역 1번출구 앞 대여소 이용현황"
   ]
  },
  {
   "cell_type": "markdown",
   "id": "1361c5fb",
   "metadata": {},
   "source": [
    "### 서브셋 만들기"
   ]
  },
  {
   "cell_type": "code",
   "execution_count": 128,
   "id": "d635995d",
   "metadata": {
    "scrolled": false
   },
   "outputs": [
    {
     "data": {
      "text/html": [
       "<div>\n",
       "<style scoped>\n",
       "    .dataframe tbody tr th:only-of-type {\n",
       "        vertical-align: middle;\n",
       "    }\n",
       "\n",
       "    .dataframe tbody tr th {\n",
       "        vertical-align: top;\n",
       "    }\n",
       "\n",
       "    .dataframe thead th {\n",
       "        text-align: right;\n",
       "    }\n",
       "</style>\n",
       "<table border=\"1\" class=\"dataframe\">\n",
       "  <thead>\n",
       "    <tr style=\"text-align: right;\">\n",
       "      <th></th>\n",
       "      <th>대여일시</th>\n",
       "      <th>대여 대여소번호</th>\n",
       "      <th>대여 대여소명</th>\n",
       "      <th>반납일시</th>\n",
       "      <th>반납대여소번호</th>\n",
       "      <th>반납대여소명</th>\n",
       "      <th>이용시간</th>\n",
       "      <th>이용거리</th>\n",
       "      <th>대여날짜</th>\n",
       "      <th>대여시간</th>\n",
       "      <th>반납시간</th>\n",
       "    </tr>\n",
       "  </thead>\n",
       "  <tbody>\n",
       "    <tr>\n",
       "      <th>45838</th>\n",
       "      <td>2021-01-01 01:05:49</td>\n",
       "      <td>207</td>\n",
       "      <td>여의나루역 1번출구 앞</td>\n",
       "      <td>2021-01-01 01:16:29</td>\n",
       "      <td>201</td>\n",
       "      <td>진미파라곤 앞</td>\n",
       "      <td>10.0</td>\n",
       "      <td>0.0</td>\n",
       "      <td>2021-01-01</td>\n",
       "      <td>1</td>\n",
       "      <td>1</td>\n",
       "    </tr>\n",
       "  </tbody>\n",
       "</table>\n",
       "</div>"
      ],
      "text/plain": [
       "                     대여일시 대여 대여소번호       대여 대여소명                반납일시 반납대여소번호  \\\n",
       "45838 2021-01-01 01:05:49      207  여의나루역 1번출구 앞 2021-01-01 01:16:29     201   \n",
       "\n",
       "        반납대여소명  이용시간  이용거리        대여날짜  대여시간  반납시간  \n",
       "45838  진미파라곤 앞  10.0   0.0  2021-01-01     1     1  "
      ]
     },
     "execution_count": 128,
     "metadata": {},
     "output_type": "execute_result"
    }
   ],
   "source": [
    "df_207 = df[df['대여 대여소번호']==207]\n",
    "df_207.head(1)"
   ]
  },
  {
   "cell_type": "markdown",
   "id": "ceb3f2f2",
   "metadata": {},
   "source": [
    "### 반납 현황"
   ]
  },
  {
   "cell_type": "code",
   "execution_count": 131,
   "id": "09cc102e",
   "metadata": {
    "scrolled": false
   },
   "outputs": [
    {
     "data": {
      "text/html": [
       "<div>\n",
       "<style scoped>\n",
       "    .dataframe tbody tr th:only-of-type {\n",
       "        vertical-align: middle;\n",
       "    }\n",
       "\n",
       "    .dataframe tbody tr th {\n",
       "        vertical-align: top;\n",
       "    }\n",
       "\n",
       "    .dataframe thead th {\n",
       "        text-align: right;\n",
       "    }\n",
       "</style>\n",
       "<table border=\"1\" class=\"dataframe\">\n",
       "  <thead>\n",
       "    <tr style=\"text-align: right;\">\n",
       "      <th></th>\n",
       "      <th></th>\n",
       "      <th>0</th>\n",
       "    </tr>\n",
       "    <tr>\n",
       "      <th>반납대여소번호</th>\n",
       "      <th>반납대여소명</th>\n",
       "      <th></th>\n",
       "    </tr>\n",
       "  </thead>\n",
       "  <tbody>\n",
       "    <tr>\n",
       "      <th>207</th>\n",
       "      <th>여의나루역 1번출구 앞</th>\n",
       "      <td>18347</td>\n",
       "    </tr>\n",
       "    <tr>\n",
       "      <th>202</th>\n",
       "      <th>국민일보 앞</th>\n",
       "      <td>2006</td>\n",
       "    </tr>\n",
       "    <tr>\n",
       "      <th>222</th>\n",
       "      <th>시범아파트버스정류장 옆</th>\n",
       "      <td>1588</td>\n",
       "    </tr>\n",
       "    <tr>\n",
       "      <th>249</th>\n",
       "      <th>여의도중학교 옆</th>\n",
       "      <td>1525</td>\n",
       "    </tr>\n",
       "    <tr>\n",
       "      <th>272</th>\n",
       "      <th>당산육갑문</th>\n",
       "      <td>1269</td>\n",
       "    </tr>\n",
       "    <tr>\n",
       "      <th>...</th>\n",
       "      <th>...</th>\n",
       "      <td>...</td>\n",
       "    </tr>\n",
       "    <tr>\n",
       "      <th>2414</th>\n",
       "      <th>도곡역 아카데미스위트 앞</th>\n",
       "      <td>1</td>\n",
       "    </tr>\n",
       "    <tr>\n",
       "      <th>669</th>\n",
       "      <th>청계한신휴플러스앞 삼거리</th>\n",
       "      <td>1</td>\n",
       "    </tr>\n",
       "    <tr>\n",
       "      <th>1661</th>\n",
       "      <th>당현천근린공원</th>\n",
       "      <td>1</td>\n",
       "    </tr>\n",
       "    <tr>\n",
       "      <th>1670</th>\n",
       "      <th>노원경찰서교차로</th>\n",
       "      <td>1</td>\n",
       "    </tr>\n",
       "    <tr>\n",
       "      <th>966</th>\n",
       "      <th>서울혁신파크1</th>\n",
       "      <td>1</td>\n",
       "    </tr>\n",
       "  </tbody>\n",
       "</table>\n",
       "<p>1413 rows × 1 columns</p>\n",
       "</div>"
      ],
      "text/plain": [
       "                           0\n",
       "반납대여소번호 반납대여소명              \n",
       "207     여의나루역 1번출구 앞   18347\n",
       "202     국민일보 앞          2006\n",
       "222     시범아파트버스정류장 옆    1588\n",
       "249     여의도중학교 옆        1525\n",
       "272     당산육갑문           1269\n",
       "...                      ...\n",
       "2414    도곡역 아카데미스위트 앞      1\n",
       "669     청계한신휴플러스앞 삼거리      1\n",
       "1661    당현천근린공원            1\n",
       "1670    노원경찰서교차로           1\n",
       "966     서울혁신파크1            1\n",
       "\n",
       "[1413 rows x 1 columns]"
      ]
     },
     "execution_count": 131,
     "metadata": {},
     "output_type": "execute_result"
    }
   ],
   "source": [
    "# value_counts\n",
    "df_207[['반납대여소번호','반납대여소명']].value_counts().to_frame()"
   ]
  },
  {
   "cell_type": "markdown",
   "id": "f0317a45",
   "metadata": {},
   "source": [
    "### 요일별 대여현황"
   ]
  },
  {
   "cell_type": "code",
   "execution_count": 134,
   "id": "ad19452b",
   "metadata": {
    "scrolled": false
   },
   "outputs": [
    {
     "name": "stderr",
     "output_type": "stream",
     "text": [
      "<ipython-input-134-00b9249c0567>:2: SettingWithCopyWarning: \n",
      "A value is trying to be set on a copy of a slice from a DataFrame.\n",
      "Try using .loc[row_indexer,col_indexer] = value instead\n",
      "\n",
      "See the caveats in the documentation: https://pandas.pydata.org/pandas-docs/stable/user_guide/indexing.html#returning-a-view-versus-a-copy\n",
      "  df_207['대여요일'] = df_207['대여일시'].dt.strftime('%a')\n"
     ]
    }
   ],
   "source": [
    "#요일컬럼 추가 : strftime('%a')\n",
    "df_207['대여요일'] = df_207['대여일시'].dt.strftime('%a')"
   ]
  },
  {
   "cell_type": "code",
   "execution_count": 136,
   "id": "64a3d65a",
   "metadata": {},
   "outputs": [
    {
     "data": {
      "text/plain": [
       "Sun    14454\n",
       "Sat    10932\n",
       "Wed    10755\n",
       "Fri     9191\n",
       "Mon     8391\n",
       "Thu     8037\n",
       "Tue     7235\n",
       "Name: 대여요일, dtype: int64"
      ]
     },
     "execution_count": 136,
     "metadata": {},
     "output_type": "execute_result"
    }
   ],
   "source": [
    "# value_counts\n",
    "df_207['대여요일'].value_counts()"
   ]
  },
  {
   "cell_type": "markdown",
   "id": "c6e7673e",
   "metadata": {},
   "source": [
    "### 이용시간 통계"
   ]
  },
  {
   "cell_type": "code",
   "execution_count": 138,
   "id": "ca6a256f",
   "metadata": {
    "scrolled": false
   },
   "outputs": [
    {
     "data": {
      "text/plain": [
       "50.28551344300312"
      ]
     },
     "execution_count": 138,
     "metadata": {},
     "output_type": "execute_result"
    }
   ],
   "source": [
    "# 이용시간 평균\n",
    "df_207['이용시간'].mean()"
   ]
  },
  {
   "cell_type": "code",
   "execution_count": 139,
   "id": "77a4cfda",
   "metadata": {
    "scrolled": true
   },
   "outputs": [
    {
     "data": {
      "text/plain": [
       "1268.0"
      ]
     },
     "execution_count": 139,
     "metadata": {},
     "output_type": "execute_result"
    }
   ],
   "source": [
    "# 이용시간 최대\n",
    "df_207['이용시간'].max()"
   ]
  },
  {
   "cell_type": "code",
   "execution_count": 140,
   "id": "5df61103",
   "metadata": {
    "scrolled": true
   },
   "outputs": [
    {
     "data": {
      "text/plain": [
       "1.0"
      ]
     },
     "execution_count": 140,
     "metadata": {},
     "output_type": "execute_result"
    }
   ],
   "source": [
    "# 이용시간 최소\n",
    "df_207['이용시간'].min()"
   ]
  },
  {
   "cell_type": "code",
   "execution_count": 141,
   "id": "902f58af",
   "metadata": {},
   "outputs": [
    {
     "data": {
      "text/plain": [
       "27.27823322905529"
      ]
     },
     "execution_count": 141,
     "metadata": {},
     "output_type": "execute_result"
    }
   ],
   "source": [
    "# 전체데이터 이용시간 평균\n",
    "df['이용시간'].mean()"
   ]
  }
 ],
 "metadata": {
  "kernelspec": {
   "display_name": "Python 3",
   "language": "python",
   "name": "python3"
  },
  "language_info": {
   "codemirror_mode": {
    "name": "ipython",
    "version": 3
   },
   "file_extension": ".py",
   "mimetype": "text/x-python",
   "name": "python",
   "nbconvert_exporter": "python",
   "pygments_lexer": "ipython3",
   "version": "3.8.8"
  },
  "toc": {
   "base_numbering": 1,
   "nav_menu": {},
   "number_sections": true,
   "sideBar": true,
   "skip_h1_title": false,
   "title_cell": "Table of Contents",
   "title_sidebar": "Contents",
   "toc_cell": false,
   "toc_position": {
    "height": "calc(100% - 180px)",
    "left": "10px",
    "top": "150px",
    "width": "307.188px"
   },
   "toc_section_display": true,
   "toc_window_display": true
  }
 },
 "nbformat": 4,
 "nbformat_minor": 5
}
