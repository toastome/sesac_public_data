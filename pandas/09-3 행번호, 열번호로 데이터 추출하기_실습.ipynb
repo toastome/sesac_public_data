{
 "cells": [
  {
   "cell_type": "code",
   "execution_count": null,
   "id": "32708737",
   "metadata": {
    "scrolled": true
   },
   "outputs": [],
   "source": [
    "import pandas as pd\n",
    "df = pd.read_csv('data/scores.csv')\n",
    "#df.index = range(10,310,10)\n",
    "df.index = 'i'+df.index.astype('str')\n",
    "df.head()"
   ]
  },
  {
   "cell_type": "markdown",
   "id": "5c082929",
   "metadata": {},
   "source": [
    "# 행번호로 행 데이터 추출하기(iloc)\n",
    "* 데이터프레임명.**iloc[행번호]**\n",
    "* 데이터프레임명.**iloc[행번호리스트]**\n",
    "* 데이터프레임명.**iloc[행번호슬라이스]**\n",
    "* **음수**를 사용하면 행번호를 뒤에서부터 센다.\n"
   ]
  },
  {
   "cell_type": "code",
   "execution_count": null,
   "id": "340fd328",
   "metadata": {
    "scrolled": true
   },
   "outputs": [],
   "source": [
    "df.head()"
   ]
  },
  {
   "cell_type": "markdown",
   "id": "47e0ca55",
   "metadata": {},
   "source": [
    "## 시리즈 형태로 추출하기"
   ]
  },
  {
   "cell_type": "code",
   "execution_count": null,
   "id": "41769672",
   "metadata": {
    "scrolled": false
   },
   "outputs": [],
   "source": [
    "# 첫번째 행 추출하기"
   ]
  },
  {
   "cell_type": "markdown",
   "id": "f40a0fe4",
   "metadata": {},
   "source": [
    "## 데이터프레임 형태로 추출하기"
   ]
  },
  {
   "cell_type": "code",
   "execution_count": null,
   "id": "21e7b1b3",
   "metadata": {
    "scrolled": true
   },
   "outputs": [],
   "source": [
    "# 1,3,5번 행 추출하기"
   ]
  },
  {
   "cell_type": "code",
   "execution_count": null,
   "id": "79af3c72",
   "metadata": {
    "scrolled": true
   },
   "outputs": [],
   "source": [
    "# 첫번째 행 추출하기(데이터프레임)"
   ]
  },
  {
   "cell_type": "markdown",
   "id": "53e3151f",
   "metadata": {},
   "source": [
    "## 행번호 슬라이스로 추출하기"
   ]
  },
  {
   "cell_type": "code",
   "execution_count": null,
   "id": "29b5ffbe",
   "metadata": {
    "scrolled": false
   },
   "outputs": [],
   "source": [
    "# 1~3행 추출하기"
   ]
  },
  {
   "cell_type": "code",
   "execution_count": null,
   "id": "c94a6f51",
   "metadata": {
    "scrolled": true
   },
   "outputs": [],
   "source": [
    "# 1,3,5행 슬라이스"
   ]
  },
  {
   "cell_type": "code",
   "execution_count": null,
   "id": "78c4ea2b",
   "metadata": {
    "scrolled": true
   },
   "outputs": [],
   "source": [
    "# 1행 추출하기"
   ]
  },
  {
   "cell_type": "code",
   "execution_count": null,
   "id": "062a61da",
   "metadata": {
    "scrolled": false
   },
   "outputs": [],
   "source": [
    "# 짝수 행번호의 데이터 추출하기"
   ]
  },
  {
   "cell_type": "code",
   "execution_count": null,
   "id": "29aad8e8",
   "metadata": {
    "scrolled": true
   },
   "outputs": [],
   "source": [
    "# 홀수 행번호의 데이터 추출하기"
   ]
  },
  {
   "cell_type": "markdown",
   "id": "125f4c60",
   "metadata": {},
   "source": [
    "## 음수 행번호로 추출하기"
   ]
  },
  {
   "cell_type": "code",
   "execution_count": null,
   "id": "5a3366bd",
   "metadata": {
    "scrolled": false
   },
   "outputs": [],
   "source": [
    "# 마지막행 추출하기"
   ]
  },
  {
   "cell_type": "code",
   "execution_count": null,
   "id": "7ef013d6",
   "metadata": {},
   "outputs": [],
   "source": [
    "# 마지막 2개 행 추출하기(리스트)"
   ]
  },
  {
   "cell_type": "code",
   "execution_count": null,
   "id": "71536925",
   "metadata": {
    "scrolled": false
   },
   "outputs": [],
   "source": [
    "# 마지막 2개 행 추출하기(슬라이스)"
   ]
  },
  {
   "cell_type": "markdown",
   "id": "172494e7",
   "metadata": {},
   "source": [
    "# 행번호로 행,열 추출하기"
   ]
  },
  {
   "cell_type": "markdown",
   "id": "e5bec5a6",
   "metadata": {},
   "source": [
    "## iloc[행번호,열번호]"
   ]
  },
  {
   "cell_type": "code",
   "execution_count": null,
   "id": "75f7f43e",
   "metadata": {},
   "outputs": [],
   "source": []
  },
  {
   "cell_type": "code",
   "execution_count": null,
   "id": "36d84eb0",
   "metadata": {},
   "outputs": [],
   "source": [
    "# 0번째 행, 0번째 열"
   ]
  },
  {
   "cell_type": "markdown",
   "id": "b054b1f1",
   "metadata": {},
   "source": [
    "## iloc[행번호,열번호리스트]"
   ]
  },
  {
   "cell_type": "code",
   "execution_count": null,
   "id": "69493f7f",
   "metadata": {},
   "outputs": [],
   "source": [
    "# 0번째 행 kor, eng"
   ]
  },
  {
   "cell_type": "markdown",
   "id": "1da4dab4",
   "metadata": {},
   "source": [
    "## iloc[행번호리스트,열번호]"
   ]
  },
  {
   "cell_type": "code",
   "execution_count": null,
   "id": "6c52ecfe",
   "metadata": {
    "scrolled": true
   },
   "outputs": [],
   "source": [
    "# 1,3,4번째 행 kor"
   ]
  },
  {
   "cell_type": "markdown",
   "id": "743bce1f",
   "metadata": {},
   "source": [
    "## iloc[행번호리스트,열번호리스트]"
   ]
  },
  {
   "cell_type": "code",
   "execution_count": null,
   "id": "814ebb27",
   "metadata": {
    "scrolled": false
   },
   "outputs": [],
   "source": [
    "# 1,3,4번째 행 name, eng"
   ]
  },
  {
   "cell_type": "markdown",
   "id": "4cfafe78",
   "metadata": {},
   "source": [
    "## iloc[행번호슬라이싱, 열번호슬라이싱]\n",
    "* iloc에서는  슬라이싱을 사용할 수 있다.\n",
    "* iloc에서는 음수를 사용할 수 있다."
   ]
  },
  {
   "cell_type": "code",
   "execution_count": null,
   "id": "11abd968",
   "metadata": {},
   "outputs": [],
   "source": []
  },
  {
   "cell_type": "code",
   "execution_count": null,
   "id": "70fca5f5",
   "metadata": {
    "scrolled": false
   },
   "outputs": [],
   "source": [
    "# 0,1번째 행 0,1번째 열 슬라이싱"
   ]
  },
  {
   "cell_type": "code",
   "execution_count": null,
   "id": "fb8b4251",
   "metadata": {},
   "outputs": [],
   "source": [
    "# 1,3,5번째 행 0,2번째 열 슬라이싱"
   ]
  },
  {
   "cell_type": "code",
   "execution_count": null,
   "id": "53ee5c20",
   "metadata": {
    "scrolled": true
   },
   "outputs": [],
   "source": []
  },
  {
   "cell_type": "code",
   "execution_count": null,
   "id": "486c6582",
   "metadata": {
    "scrolled": true
   },
   "outputs": [],
   "source": [
    "# 마지막행 1,3열 슬라이싱"
   ]
  },
  {
   "cell_type": "code",
   "execution_count": null,
   "id": "9112a466",
   "metadata": {
    "scrolled": false
   },
   "outputs": [],
   "source": [
    "# 모든행, 1열 "
   ]
  },
  {
   "cell_type": "code",
   "execution_count": null,
   "id": "54aad67c",
   "metadata": {},
   "outputs": [],
   "source": [
    "# 모든행, 1,2열 "
   ]
  }
 ],
 "metadata": {
  "kernelspec": {
   "display_name": "Python 3",
   "language": "python",
   "name": "python3"
  },
  "language_info": {
   "codemirror_mode": {
    "name": "ipython",
    "version": 3
   },
   "file_extension": ".py",
   "mimetype": "text/x-python",
   "name": "python",
   "nbconvert_exporter": "python",
   "pygments_lexer": "ipython3",
   "version": "3.8.8"
  },
  "toc": {
   "base_numbering": 1,
   "nav_menu": {},
   "number_sections": true,
   "sideBar": true,
   "skip_h1_title": false,
   "title_cell": "Table of Contents",
   "title_sidebar": "Contents",
   "toc_cell": false,
   "toc_position": {
    "height": "calc(100% - 180px)",
    "left": "10px",
    "top": "150px",
    "width": "245.75px"
   },
   "toc_section_display": true,
   "toc_window_display": true
  }
 },
 "nbformat": 4,
 "nbformat_minor": 5
}
