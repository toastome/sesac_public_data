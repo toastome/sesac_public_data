{
 "cells": [
  {
   "cell_type": "code",
   "execution_count": null,
   "id": "a96f7a22",
   "metadata": {
    "scrolled": false
   },
   "outputs": [],
   "source": [
    "import pandas as pd\n",
    "df = pd.read_csv('data/titanic.csv')\n",
    "df = df[['Survived','Pclass','Sex','Age','Embarked']]\n",
    "df = df.dropna()\n",
    "df.head()"
   ]
  },
  {
   "cell_type": "code",
   "execution_count": null,
   "id": "e5205f03",
   "metadata": {},
   "outputs": [],
   "source": [
    "len(df)"
   ]
  },
  {
   "cell_type": "markdown",
   "id": "74a90f92",
   "metadata": {},
   "source": [
    "# 그룹의 통계값 계산하기"
   ]
  },
  {
   "cell_type": "markdown",
   "id": "ba49dbd9",
   "metadata": {},
   "source": [
    "* <b>df.groupby(그룹기준컬럼).통계적용컬럼.통계함수</b>\n",
    "* count() : 누락값을 제외한 데이터 수\n",
    "* size() : 누락값을 포함한 데이터 수\n",
    "* mean() : 평균\n",
    "* sum() : 합계\n",
    "* std() : 표준편차\n",
    "* min() : 최소값\n",
    "* max() : 최대값\n",
    "* sum() : 전체 합"
   ]
  },
  {
   "cell_type": "markdown",
   "id": "0e8a6349",
   "metadata": {},
   "source": [
    "## 객실등급별 생존 통계"
   ]
  },
  {
   "cell_type": "code",
   "execution_count": null,
   "id": "e20bd50e",
   "metadata": {
    "scrolled": true
   },
   "outputs": [],
   "source": [
    "# 객실등급(Pclass)별 승선자 수를 구한 결과를 데이터프레임 df1로 만들기"
   ]
  },
  {
   "cell_type": "code",
   "execution_count": null,
   "id": "8186ce0d",
   "metadata": {
    "scrolled": false
   },
   "outputs": [],
   "source": [
    "# 객실등급(Pclass)별 생존자 수를 구한 결과를 데이터프레임 df2로 만들기"
   ]
  },
  {
   "cell_type": "code",
   "execution_count": null,
   "id": "dd2b69f3",
   "metadata": {
    "scrolled": true
   },
   "outputs": [],
   "source": [
    "# 객실등급(Pclass)별 생존율 구한 결과를 데이터프레임 df3으로 만들기"
   ]
  },
  {
   "cell_type": "code",
   "execution_count": null,
   "id": "d88a54db",
   "metadata": {
    "scrolled": true
   },
   "outputs": [],
   "source": [
    "# 객실등급(Pclass)별 탑승자수, 생존자수, 생존율 데이터프레임을 df4로 만들기"
   ]
  },
  {
   "cell_type": "markdown",
   "id": "211afe7b",
   "metadata": {},
   "source": [
    "## 성별 생존 통계"
   ]
  },
  {
   "cell_type": "code",
   "execution_count": null,
   "id": "172167b1",
   "metadata": {
    "scrolled": true
   },
   "outputs": [],
   "source": [
    "# 성별 승선자 수 데이터프레임을 df5로 만들기"
   ]
  },
  {
   "cell_type": "code",
   "execution_count": null,
   "id": "ac6bc533",
   "metadata": {
    "scrolled": true
   },
   "outputs": [],
   "source": [
    "# 성별 생존자 수 데이터프레임을 df6으로 만들기"
   ]
  },
  {
   "cell_type": "code",
   "execution_count": null,
   "id": "8aedaf64",
   "metadata": {
    "scrolled": false
   },
   "outputs": [],
   "source": [
    "# 성별 생존율 데이터프레임을 df7로 만들기"
   ]
  },
  {
   "cell_type": "code",
   "execution_count": null,
   "id": "89eaf0cb",
   "metadata": {},
   "outputs": [],
   "source": [
    "# 성별 탑승자수, 생존자수, 생존율 데이터프레임을 df8로 만들기"
   ]
  },
  {
   "cell_type": "markdown",
   "id": "7e3a879b",
   "metadata": {},
   "source": [
    "## 성별, 객실등급별 생존 통계"
   ]
  },
  {
   "cell_type": "code",
   "execution_count": null,
   "id": "ef01bc7c",
   "metadata": {
    "scrolled": true
   },
   "outputs": [],
   "source": [
    "# 성별, 객실등급별 생존율"
   ]
  },
  {
   "cell_type": "markdown",
   "id": "44872dd7",
   "metadata": {},
   "source": [
    "# 그룹에 사용자정의함수 적용하기\n",
    "* df.groupby(그룹기준컬럼).통계적용컬럼.<b>agg(사용자정의함수,매개변수들)</b>"
   ]
  },
  {
   "cell_type": "code",
   "execution_count": null,
   "id": "f00e8d00",
   "metadata": {},
   "outputs": [],
   "source": [
    "def my_mean(values):\n",
    "    return sum(values)/len(values)"
   ]
  },
  {
   "cell_type": "code",
   "execution_count": null,
   "id": "e9e16ba9",
   "metadata": {},
   "outputs": [],
   "source": [
    "df.groupby(['Sex','Pclass']).Survived.agg(my_mean)"
   ]
  },
  {
   "cell_type": "markdown",
   "id": "7232e49c",
   "metadata": {},
   "source": [
    "# 그룹 오브젝트 출력하기\n",
    "* 데이터프레임.groupby(그룹기준컬럼).<b>groups</b> --> 그룹별 인덱스:[데이터리스트] 출력<br> \n",
    "* 데이터프레임.groupby(그룹기준컬럼).<b>get_group(그룹인덱스)</b> --> 그룹별 인덱스에 해당하는 데이터프레임 출력<br> \n"
   ]
  },
  {
   "cell_type": "code",
   "execution_count": null,
   "id": "1d05f9bb",
   "metadata": {
    "scrolled": false
   },
   "outputs": [],
   "source": []
  },
  {
   "cell_type": "code",
   "execution_count": null,
   "id": "22f7b6b5",
   "metadata": {},
   "outputs": [],
   "source": []
  },
  {
   "cell_type": "code",
   "execution_count": null,
   "id": "772555ab",
   "metadata": {},
   "outputs": [],
   "source": [
    "# Pclass 그룹별 인덱스"
   ]
  },
  {
   "cell_type": "code",
   "execution_count": null,
   "id": "821a625f",
   "metadata": {
    "scrolled": true
   },
   "outputs": [],
   "source": [
    "# Pclass 그룹 출력(1등석)"
   ]
  },
  {
   "cell_type": "code",
   "execution_count": null,
   "id": "af80ef70",
   "metadata": {
    "scrolled": true
   },
   "outputs": [],
   "source": [
    "# Pclass 그룹 출력(2등석)"
   ]
  },
  {
   "cell_type": "code",
   "execution_count": null,
   "id": "5849d0ad",
   "metadata": {},
   "outputs": [],
   "source": [
    "# Pclass 그룹 출력(3등석)"
   ]
  }
 ],
 "metadata": {
  "kernelspec": {
   "display_name": "Python 3",
   "language": "python",
   "name": "python3"
  },
  "language_info": {
   "codemirror_mode": {
    "name": "ipython",
    "version": 3
   },
   "file_extension": ".py",
   "mimetype": "text/x-python",
   "name": "python",
   "nbconvert_exporter": "python",
   "pygments_lexer": "ipython3",
   "version": "3.8.8"
  },
  "toc": {
   "base_numbering": 1,
   "nav_menu": {},
   "number_sections": true,
   "sideBar": true,
   "skip_h1_title": false,
   "title_cell": "Table of Contents",
   "title_sidebar": "Contents",
   "toc_cell": false,
   "toc_position": {},
   "toc_section_display": true,
   "toc_window_display": true
  }
 },
 "nbformat": 4,
 "nbformat_minor": 5
}
