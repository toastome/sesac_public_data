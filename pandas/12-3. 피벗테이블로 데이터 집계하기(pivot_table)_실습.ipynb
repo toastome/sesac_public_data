{
 "cells": [
  {
   "cell_type": "markdown",
   "id": "e343fe81",
   "metadata": {},
   "source": [
    "# 피벗테이블로 데이터 집계하기\n",
    "* 피벗테이블은 표의 데이터를 요약하는 통계표이다.\n",
    "* pd.**pivot_table**(데이터프레임, index=인덱스, columns=컬럼, values=집계할데이터, aggfunc=통계함수)\n",
    "* aggrunc의 디폴트는 mean"
   ]
  },
  {
   "cell_type": "code",
   "execution_count": null,
   "id": "6936b3b8",
   "metadata": {},
   "outputs": [],
   "source": [
    "import pandas as pd"
   ]
  },
  {
   "cell_type": "code",
   "execution_count": null,
   "id": "21879c9c",
   "metadata": {},
   "outputs": [],
   "source": [
    "# 샘플데이터\n",
    "df = pd.DataFrame({\"item\": [\"shirts\", \"shirts\", \"shirts\", \"shirts\", \"shirts\",\n",
    "                          \"pants\", \"pants\", \"pants\", \"pants\"],\n",
    "                    \"color\": [\"white\", \"white\", \"white\", \"black\", \"black\",\n",
    "                          \"white\", \"white\", \"black\", \"black\"],\n",
    "                   \"size\": [\"small\", \"large\", \"large\", \"small\",\n",
    "                          \"small\", \"large\", \"small\", \"small\",\n",
    "                         \"large\"],\n",
    "                   \"sale\": [1, 2, 2, 3, 3, 4, 5, 6, 7],\n",
    "                   \"inventory\": [2, 4, 5, 5, 6, 6, 8, 9, 9]})"
   ]
  },
  {
   "cell_type": "code",
   "execution_count": null,
   "id": "db4fe0c8",
   "metadata": {
    "scrolled": true
   },
   "outputs": [],
   "source": [
    "df"
   ]
  },
  {
   "cell_type": "code",
   "execution_count": null,
   "id": "0bb1e587",
   "metadata": {},
   "outputs": [],
   "source": [
    "# item, size별 재고 합계"
   ]
  },
  {
   "cell_type": "code",
   "execution_count": null,
   "id": "99c5eed5",
   "metadata": {
    "scrolled": true
   },
   "outputs": [],
   "source": [
    "# [item,color], size별 재고 합계"
   ]
  },
  {
   "cell_type": "code",
   "execution_count": null,
   "id": "8e83d691",
   "metadata": {
    "scrolled": true
   },
   "outputs": [],
   "source": [
    "# null값은 0으로 처리"
   ]
  },
  {
   "cell_type": "code",
   "execution_count": null,
   "id": "56fa6a56",
   "metadata": {
    "scrolled": true
   },
   "outputs": [],
   "source": [
    "# [item,color], size별 판매,재고 합계"
   ]
  },
  {
   "cell_type": "markdown",
   "id": "693bedf4",
   "metadata": {},
   "source": [
    "# 타이타닉호 성별, 객실등급별 생존분석"
   ]
  },
  {
   "cell_type": "code",
   "execution_count": null,
   "id": "2d84a669",
   "metadata": {
    "scrolled": false
   },
   "outputs": [],
   "source": [
    "import pandas as pd\n",
    "df = pd.read_csv('data/titanic.csv')\n",
    "df_titanic = df[['Survived','Pclass','Sex','Age','Embarked']]\n",
    "df_titanic = df_titanic.dropna()\n",
    "df_titanic.head()"
   ]
  },
  {
   "cell_type": "code",
   "execution_count": null,
   "id": "c5947de1",
   "metadata": {},
   "outputs": [],
   "source": [
    "len(df_titanic)"
   ]
  },
  {
   "cell_type": "markdown",
   "id": "af4f6ca4",
   "metadata": {},
   "source": [
    "## 성별,객실등급별 승선자 수\n",
    "* count"
   ]
  },
  {
   "cell_type": "code",
   "execution_count": null,
   "id": "bab578ce",
   "metadata": {
    "scrolled": true
   },
   "outputs": [],
   "source": []
  },
  {
   "cell_type": "markdown",
   "id": "245c05e7",
   "metadata": {},
   "source": [
    "## 성별,객실등급별 생존자 수 \n",
    "* sum"
   ]
  },
  {
   "cell_type": "code",
   "execution_count": null,
   "id": "8421e2de",
   "metadata": {
    "scrolled": true
   },
   "outputs": [],
   "source": []
  },
  {
   "cell_type": "markdown",
   "id": "a9e1f277",
   "metadata": {},
   "source": [
    "## 성별, 객실등급별 생존율\n",
    "* mean(default)"
   ]
  },
  {
   "cell_type": "code",
   "execution_count": null,
   "id": "bb42688e",
   "metadata": {
    "scrolled": true
   },
   "outputs": [],
   "source": []
  },
  {
   "cell_type": "code",
   "execution_count": null,
   "id": "8ef31317",
   "metadata": {},
   "outputs": [],
   "source": []
  }
 ],
 "metadata": {
  "kernelspec": {
   "display_name": "Python 3",
   "language": "python",
   "name": "python3"
  },
  "language_info": {
   "codemirror_mode": {
    "name": "ipython",
    "version": 3
   },
   "file_extension": ".py",
   "mimetype": "text/x-python",
   "name": "python",
   "nbconvert_exporter": "python",
   "pygments_lexer": "ipython3",
   "version": "3.8.8"
  },
  "toc": {
   "base_numbering": 1,
   "nav_menu": {},
   "number_sections": true,
   "sideBar": true,
   "skip_h1_title": false,
   "title_cell": "Table of Contents",
   "title_sidebar": "Contents",
   "toc_cell": false,
   "toc_position": {
    "height": "calc(100% - 180px)",
    "left": "10px",
    "top": "150px",
    "width": "303.837px"
   },
   "toc_section_display": true,
   "toc_window_display": true
  }
 },
 "nbformat": 4,
 "nbformat_minor": 5
}
