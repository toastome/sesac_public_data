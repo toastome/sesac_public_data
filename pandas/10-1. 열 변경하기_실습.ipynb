{
 "cells": [
  {
   "cell_type": "code",
   "execution_count": null,
   "id": "0996d0ce",
   "metadata": {
    "scrolled": true
   },
   "outputs": [],
   "source": [
    "import pandas as pd\n",
    "df = pd.read_csv('data/scores.csv')\n",
    "df.head()"
   ]
  },
  {
   "cell_type": "markdown",
   "id": "9d589241",
   "metadata": {},
   "source": [
    "# 열 추가/수정하기\n",
    "* **데이터프레임[컬럼] = 추가할데이터**  \n",
    "* **데이터프레임[컬럼] = 수정할데이터**  \n",
    "컬럼이 존재하면 추가, 존재하지 않으면 수정된다."
   ]
  },
  {
   "cell_type": "markdown",
   "id": "9d5b63f7",
   "metadata": {},
   "source": [
    "## 열 추가하기"
   ]
  },
  {
   "cell_type": "code",
   "execution_count": null,
   "id": "d6d1c8ad",
   "metadata": {},
   "outputs": [],
   "source": []
  },
  {
   "cell_type": "code",
   "execution_count": null,
   "id": "761598ff",
   "metadata": {},
   "outputs": [],
   "source": [
    "# 학생 번호 추가하기 (1부터 시작하여 1씩 증가)"
   ]
  },
  {
   "cell_type": "code",
   "execution_count": null,
   "id": "7065b9fb",
   "metadata": {
    "scrolled": false
   },
   "outputs": [],
   "source": []
  },
  {
   "cell_type": "code",
   "execution_count": null,
   "id": "4198f568",
   "metadata": {},
   "outputs": [],
   "source": [
    "# sum 추가"
   ]
  },
  {
   "cell_type": "code",
   "execution_count": null,
   "id": "d34e95df",
   "metadata": {},
   "outputs": [],
   "source": []
  },
  {
   "cell_type": "markdown",
   "id": "a9c8776a",
   "metadata": {},
   "source": [
    "## 열 수정하기"
   ]
  },
  {
   "cell_type": "code",
   "execution_count": null,
   "id": "da6848d9",
   "metadata": {},
   "outputs": [],
   "source": [
    "# 학생 번호 수정하기 (100부터 시작하여 1씩 증가)"
   ]
  },
  {
   "cell_type": "code",
   "execution_count": null,
   "id": "8a5c6ac7",
   "metadata": {
    "scrolled": false
   },
   "outputs": [],
   "source": []
  },
  {
   "cell_type": "markdown",
   "id": "607746f0",
   "metadata": {},
   "source": [
    "# 열 삭제하기\n",
    "* 데이터프레임.**drop**(columns=삭제할컬럼리스트, inplace=True)\n",
    "* 존재하지 않는 열은 삭제할 수 없다."
   ]
  },
  {
   "cell_type": "code",
   "execution_count": null,
   "id": "f1116909",
   "metadata": {},
   "outputs": [],
   "source": [
    "# no, sum 컬럼 삭제하기"
   ]
  },
  {
   "cell_type": "code",
   "execution_count": null,
   "id": "43a4fdbc",
   "metadata": {
    "scrolled": false
   },
   "outputs": [],
   "source": []
  },
  {
   "cell_type": "markdown",
   "id": "218143dc",
   "metadata": {},
   "source": [
    "# 컬럼명 바꾸기"
   ]
  },
  {
   "cell_type": "markdown",
   "id": "80ebafd5",
   "metadata": {},
   "source": [
    "## 컬럼명 한번에 바꾸기\n",
    "* 데이터프레임.**columns**  = 컬럼명리스트           \n",
    "  컬럼명리스트의 항목 수는 컬럼 수와 동일해야한다."
   ]
  },
  {
   "cell_type": "code",
   "execution_count": null,
   "id": "311e34cf",
   "metadata": {},
   "outputs": [],
   "source": []
  },
  {
   "cell_type": "code",
   "execution_count": null,
   "id": "84d685e0",
   "metadata": {},
   "outputs": [],
   "source": [
    "#'이름','국어','영어','수학'"
   ]
  },
  {
   "cell_type": "code",
   "execution_count": null,
   "id": "fcbb2ccc",
   "metadata": {},
   "outputs": [],
   "source": []
  },
  {
   "cell_type": "code",
   "execution_count": null,
   "id": "d1be8f13",
   "metadata": {},
   "outputs": [],
   "source": [
    "# 전체컬럼수와 컬럼명 리스트의 항목 수가 다르면 error"
   ]
  },
  {
   "cell_type": "markdown",
   "id": "2a99b30f",
   "metadata": {},
   "source": [
    "## 특정 컬럼명 바꾸기\n",
    "* 데이터프레임.**rename**(columns={'현재컬럼명1':'바꿀컬럼명1','현재컬럼명2':'바꿀컬럼명2',...})"
   ]
  },
  {
   "cell_type": "code",
   "execution_count": null,
   "id": "ff35526b",
   "metadata": {},
   "outputs": [],
   "source": [
    "# 이름-->성명"
   ]
  },
  {
   "cell_type": "code",
   "execution_count": null,
   "id": "04e18923",
   "metadata": {
    "scrolled": true
   },
   "outputs": [],
   "source": []
  }
 ],
 "metadata": {
  "kernelspec": {
   "display_name": "Python 3",
   "language": "python",
   "name": "python3"
  },
  "language_info": {
   "codemirror_mode": {
    "name": "ipython",
    "version": 3
   },
   "file_extension": ".py",
   "mimetype": "text/x-python",
   "name": "python",
   "nbconvert_exporter": "python",
   "pygments_lexer": "ipython3",
   "version": "3.8.8"
  },
  "toc": {
   "base_numbering": 1,
   "nav_menu": {},
   "number_sections": true,
   "sideBar": true,
   "skip_h1_title": false,
   "title_cell": "Table of Contents",
   "title_sidebar": "Contents",
   "toc_cell": false,
   "toc_position": {
    "height": "calc(100% - 180px)",
    "left": "10px",
    "top": "150px",
    "width": "303.837px"
   },
   "toc_section_display": true,
   "toc_window_display": true
  }
 },
 "nbformat": 4,
 "nbformat_minor": 5
}
