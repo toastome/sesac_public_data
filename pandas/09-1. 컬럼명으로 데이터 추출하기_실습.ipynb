{
 "cells": [
  {
   "cell_type": "code",
   "execution_count": null,
   "id": "7eb21b20",
   "metadata": {
    "scrolled": false
   },
   "outputs": [],
   "source": [
    "import pandas as pd\n",
    "df = pd.read_csv('data/scores.csv')\n",
    "df.head(3)"
   ]
  },
  {
   "cell_type": "markdown",
   "id": "d953198b",
   "metadata": {},
   "source": [
    "# 컬럼명으로 데이터 추출하기"
   ]
  },
  {
   "cell_type": "markdown",
   "id": "216c2616",
   "metadata": {},
   "source": [
    "## 시리즈 형태로 추출하기\n",
    "* **데이터프레임명['컬럼명']  / 데이터프레임명[\"컬럼명\"]**         \n",
    ": 컬럼명은 1개만 지정할 수 있으며 대괄호 1개를 사용한다.\n",
    "* **데이터프레임명.컬럼명**     \n",
    ": 컬럼명에 공백이나 특수문자가 섞여있을 때는 사용할 수 없다."
   ]
  },
  {
   "cell_type": "code",
   "execution_count": null,
   "id": "13bde5b8",
   "metadata": {
    "scrolled": false
   },
   "outputs": [],
   "source": [
    "# 'name'컬럼 추출하기"
   ]
  },
  {
   "cell_type": "code",
   "execution_count": null,
   "id": "2276423b",
   "metadata": {},
   "outputs": [],
   "source": [
    "# type"
   ]
  },
  {
   "cell_type": "code",
   "execution_count": null,
   "id": "d26862bb",
   "metadata": {
    "scrolled": true
   },
   "outputs": [],
   "source": [
    "# index"
   ]
  },
  {
   "cell_type": "code",
   "execution_count": null,
   "id": "131df7c4",
   "metadata": {
    "scrolled": false
   },
   "outputs": [],
   "source": [
    "# values"
   ]
  },
  {
   "cell_type": "code",
   "execution_count": null,
   "id": "ba309d87",
   "metadata": {},
   "outputs": [],
   "source": [
    "# shape"
   ]
  },
  {
   "cell_type": "code",
   "execution_count": null,
   "id": "ad5497a0",
   "metadata": {
    "scrolled": false
   },
   "outputs": [],
   "source": [
    "# 'eng'컬럼 추출하기"
   ]
  },
  {
   "cell_type": "code",
   "execution_count": null,
   "id": "12fef64d",
   "metadata": {},
   "outputs": [],
   "source": [
    "# 'matn'컬럼 추출하기"
   ]
  },
  {
   "cell_type": "markdown",
   "id": "18cdd204",
   "metadata": {},
   "source": [
    "## 데이터프레임 형태로 추출하기\n",
    "* 데이터프레임명[**컬럼명리스트**]\n",
    "* 대괄호안에 컬럼리스트가 들어간다.(**대괄호 2개**로 표현되어야한다.)"
   ]
  },
  {
   "cell_type": "code",
   "execution_count": null,
   "id": "f274f636",
   "metadata": {
    "scrolled": false
   },
   "outputs": [],
   "source": [
    "# 'name','kor' 컬럼 데이터 추출하기"
   ]
  },
  {
   "cell_type": "code",
   "execution_count": null,
   "id": "279be5c0",
   "metadata": {
    "scrolled": false
   },
   "outputs": [],
   "source": [
    "# 'math' 컬럼을 데이터프레임 형태로 추출하기"
   ]
  },
  {
   "cell_type": "code",
   "execution_count": null,
   "id": "544af38a",
   "metadata": {
    "scrolled": true
   },
   "outputs": [],
   "source": [
    "# type"
   ]
  },
  {
   "cell_type": "markdown",
   "id": "37742f3a",
   "metadata": {},
   "source": [
    "## 조건에 따라 데이터 추출하기"
   ]
  },
  {
   "cell_type": "markdown",
   "id": "a50d58f2",
   "metadata": {},
   "source": [
    "### 조건의 결과에 따른 불린인덱스 추출\n",
    "* 조건식의 결과에 따른 결과가 불린인덱스로 만들어진다."
   ]
  },
  {
   "cell_type": "code",
   "execution_count": null,
   "id": "4ffa8725",
   "metadata": {},
   "outputs": [],
   "source": [
    "# kor 점수가 100점인 데이터 불린인덱스"
   ]
  },
  {
   "cell_type": "markdown",
   "id": "df4e6a3c",
   "metadata": {},
   "source": [
    "### 불린인덱스로 데이터 추출\n",
    "* 불린인덱스를 **데이터프레임명[ ]**으로 감싸주면 True인 데이터만 추출된다."
   ]
  },
  {
   "cell_type": "code",
   "execution_count": null,
   "id": "e3b0cc49",
   "metadata": {},
   "outputs": [],
   "source": [
    "# kor 점수가 100점인 데이터 추출"
   ]
  },
  {
   "cell_type": "markdown",
   "id": "5bd8f9af",
   "metadata": {},
   "source": [
    "### 여러 조건\n",
    "* 논리연산자는 **'&' , '|' ,'~', '^'** 기호를 사용한다.\n",
    "* 논리연산자를 사용할 때에는 **각 조건을 ()로 감싼다.**"
   ]
  },
  {
   "cell_type": "code",
   "execution_count": null,
   "id": "d3fe6dac",
   "metadata": {
    "scrolled": false
   },
   "outputs": [],
   "source": [
    "# 한 과목이라도 100을 받은 학생 추출"
   ]
  },
  {
   "cell_type": "code",
   "execution_count": null,
   "id": "e0f40875",
   "metadata": {
    "scrolled": false
   },
   "outputs": [],
   "source": [
    "# kor의 값이 60~90인 학생의 name, kor 추출"
   ]
  },
  {
   "cell_type": "markdown",
   "id": "13ce0223",
   "metadata": {},
   "source": [
    "### 특정 값을 가진 데이터만 추출\n",
    "* 컬럼.isin(값리스트)"
   ]
  },
  {
   "cell_type": "code",
   "execution_count": null,
   "id": "ba98a975",
   "metadata": {
    "scrolled": true
   },
   "outputs": [],
   "source": [
    "# 이름이 Amy인 데이터 추출"
   ]
  },
  {
   "cell_type": "code",
   "execution_count": null,
   "id": "0a63306b",
   "metadata": {
    "scrolled": true
   },
   "outputs": [],
   "source": [
    "# 이름이 Amy, Rose인 데이터 추출"
   ]
  },
  {
   "cell_type": "code",
   "execution_count": null,
   "id": "b41f2c64",
   "metadata": {
    "scrolled": true
   },
   "outputs": [],
   "source": [
    "# kor이 50,100 데이터 추출"
   ]
  },
  {
   "cell_type": "markdown",
   "id": "3ff97017",
   "metadata": {},
   "source": [
    "### null 여부에 따른 데이터 추출\n",
    "* 컬럼.isnull()   --> 해당 컬럼의 값이 null인 데이터 추출\n",
    "* 컬럼.notnull()  --> 해당 컬럼의 값이 null이 아닌 데이터 추출"
   ]
  },
  {
   "cell_type": "code",
   "execution_count": null,
   "id": "c7e37fd2",
   "metadata": {
    "scrolled": true
   },
   "outputs": [],
   "source": [
    "# kor이 null인 데이터 추출"
   ]
  },
  {
   "cell_type": "code",
   "execution_count": null,
   "id": "76f6950a",
   "metadata": {},
   "outputs": [],
   "source": [
    "# kor이 null이 아닌 데이터 추출"
   ]
  }
 ],
 "metadata": {
  "kernelspec": {
   "display_name": "Python 3",
   "language": "python",
   "name": "python3"
  },
  "language_info": {
   "codemirror_mode": {
    "name": "ipython",
    "version": 3
   },
   "file_extension": ".py",
   "mimetype": "text/x-python",
   "name": "python",
   "nbconvert_exporter": "python",
   "pygments_lexer": "ipython3",
   "version": "3.8.8"
  },
  "toc": {
   "base_numbering": 1,
   "nav_menu": {},
   "number_sections": true,
   "sideBar": true,
   "skip_h1_title": false,
   "title_cell": "Table of Contents",
   "title_sidebar": "Contents",
   "toc_cell": false,
   "toc_position": {
    "height": "calc(100% - 180px)",
    "left": "10px",
    "top": "150px",
    "width": "245.75px"
   },
   "toc_section_display": true,
   "toc_window_display": true
  }
 },
 "nbformat": 4,
 "nbformat_minor": 5
}
