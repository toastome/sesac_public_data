{
 "cells": [
  {
   "cell_type": "code",
   "execution_count": null,
   "id": "507a12e4",
   "metadata": {
    "scrolled": true
   },
   "outputs": [],
   "source": [
    "import pandas as pd\n",
    "df = pd.read_csv('data/scores.csv')\n",
    "df.index = 'i'+df.index.astype('str')\n",
    "df.head()"
   ]
  },
  {
   "cell_type": "markdown",
   "id": "def34ffc",
   "metadata": {},
   "source": [
    "# 인덱스로 행 데이터 추출하기\n",
    "* 데이터프레임명.**loc[인덱스]**       \n",
    ": 시리즈 형태로 추출한다. 하나의 인덱스만 사용 가능하다.\n",
    "* 데이터프레임명.**loc[인덱스리스트]**    \n",
    ": 데이터프레임 형태로 추출한다. 한개 이상의 인덱스를 사용할 수 있다."
   ]
  },
  {
   "cell_type": "markdown",
   "id": "d1432c89",
   "metadata": {},
   "source": [
    "## 시리즈 형태로 추출하기"
   ]
  },
  {
   "cell_type": "code",
   "execution_count": null,
   "id": "20359e03",
   "metadata": {
    "scrolled": true
   },
   "outputs": [],
   "source": [
    "# 인덱스가 i3인 행 추출하여 s1에 담기"
   ]
  },
  {
   "cell_type": "code",
   "execution_count": null,
   "id": "02ca1203",
   "metadata": {
    "scrolled": false
   },
   "outputs": [],
   "source": [
    "# s1 type"
   ]
  },
  {
   "cell_type": "code",
   "execution_count": null,
   "id": "f50c5caa",
   "metadata": {},
   "outputs": [],
   "source": [
    "# s1 index"
   ]
  },
  {
   "cell_type": "code",
   "execution_count": null,
   "id": "f9126935",
   "metadata": {},
   "outputs": [],
   "source": [
    "# s1 value"
   ]
  },
  {
   "cell_type": "markdown",
   "id": "1162b0bb",
   "metadata": {},
   "source": [
    "## 데이터프레임 형태로 추출하기"
   ]
  },
  {
   "cell_type": "code",
   "execution_count": null,
   "id": "5aeeb165",
   "metadata": {},
   "outputs": [],
   "source": [
    "# 인덱스가 i1,i3,i5인 행 추출하기"
   ]
  },
  {
   "cell_type": "code",
   "execution_count": null,
   "id": "18ebfcd3",
   "metadata": {
    "scrolled": true
   },
   "outputs": [],
   "source": [
    "# 인덱스가 i3인 행을 데이터프레임 형태로 추출하기"
   ]
  },
  {
   "cell_type": "code",
   "execution_count": null,
   "id": "431f49ef",
   "metadata": {},
   "outputs": [],
   "source": [
    "# 인덱스에 없는 값을 사용하면 error"
   ]
  },
  {
   "cell_type": "markdown",
   "id": "7acac252",
   "metadata": {},
   "source": [
    "# 인덱스로 행,열 추출하기"
   ]
  },
  {
   "cell_type": "markdown",
   "id": "8f3c5258",
   "metadata": {},
   "source": [
    "## 인덱스, 컬럼에 해당하는 한개의 데이터 뽑아오기\n",
    "* **loc[인덱스, 컬럼명]**"
   ]
  },
  {
   "cell_type": "code",
   "execution_count": null,
   "id": "cdf07f33",
   "metadata": {},
   "outputs": [],
   "source": []
  },
  {
   "cell_type": "code",
   "execution_count": null,
   "id": "d01d4ef5",
   "metadata": {},
   "outputs": [],
   "source": [
    "# 인덱스 i1의 kor점수"
   ]
  },
  {
   "cell_type": "code",
   "execution_count": null,
   "id": "8741016b",
   "metadata": {
    "scrolled": true
   },
   "outputs": [],
   "source": [
    "# type"
   ]
  },
  {
   "cell_type": "markdown",
   "id": "da7c2ebf",
   "metadata": {},
   "source": [
    "## 특정 인덱스의 여러 컬럼 데이터 추출하기\n",
    "* **loc[인덱스, 컬럼명리스트]**"
   ]
  },
  {
   "cell_type": "code",
   "execution_count": null,
   "id": "34db157b",
   "metadata": {},
   "outputs": [],
   "source": [
    "# 인덱스 i1 name, kor"
   ]
  },
  {
   "cell_type": "code",
   "execution_count": null,
   "id": "250f59b4",
   "metadata": {
    "scrolled": true
   },
   "outputs": [],
   "source": [
    "# type"
   ]
  },
  {
   "cell_type": "markdown",
   "id": "bfcf172c",
   "metadata": {},
   "source": [
    "## 여러 인덱스의 특정 컬럼 데이터 추출하기\n",
    "* **loc[인덱스리스트,컬럼명]**"
   ]
  },
  {
   "cell_type": "code",
   "execution_count": null,
   "id": "943bf82f",
   "metadata": {
    "scrolled": true
   },
   "outputs": [],
   "source": [
    "# 인덱스 i1,i3,i5의 name"
   ]
  },
  {
   "cell_type": "code",
   "execution_count": null,
   "id": "2d13aea9",
   "metadata": {
    "scrolled": true
   },
   "outputs": [],
   "source": [
    "# type"
   ]
  },
  {
   "cell_type": "markdown",
   "id": "e433a878",
   "metadata": {},
   "source": [
    "## 여러 인덱스의 여러 컬럼 가져오기\n",
    "* **loc[인덱스리스트, 컬럼명리스트]**"
   ]
  },
  {
   "cell_type": "code",
   "execution_count": null,
   "id": "793db884",
   "metadata": {
    "scrolled": false
   },
   "outputs": [],
   "source": [
    "# 인덱스 i1,i3,i5의 name, kor"
   ]
  },
  {
   "cell_type": "markdown",
   "id": "18e65e07",
   "metadata": {},
   "source": [
    "## 모든 행에서 특정 열 가져오기\n",
    "* loc[:,컬럼명] \n",
    "* loc[:,컬럼명리스트]  "
   ]
  },
  {
   "cell_type": "code",
   "execution_count": null,
   "id": "26f98832",
   "metadata": {},
   "outputs": [],
   "source": [
    "# 모든 행에서 'name' 가져오기"
   ]
  },
  {
   "cell_type": "code",
   "execution_count": null,
   "id": "d8507404",
   "metadata": {
    "scrolled": false
   },
   "outputs": [],
   "source": [
    "# 모든 행에서 'name','math' 가져오기"
   ]
  },
  {
   "cell_type": "code",
   "execution_count": null,
   "id": "fe07bbee",
   "metadata": {
    "scrolled": false
   },
   "outputs": [],
   "source": [
    "# 모든 행에서 'name' 가져오기(데이터프레임)"
   ]
  }
 ],
 "metadata": {
  "kernelspec": {
   "display_name": "Python 3",
   "language": "python",
   "name": "python3"
  },
  "language_info": {
   "codemirror_mode": {
    "name": "ipython",
    "version": 3
   },
   "file_extension": ".py",
   "mimetype": "text/x-python",
   "name": "python",
   "nbconvert_exporter": "python",
   "pygments_lexer": "ipython3",
   "version": "3.8.8"
  },
  "toc": {
   "base_numbering": 1,
   "nav_menu": {},
   "number_sections": true,
   "sideBar": true,
   "skip_h1_title": false,
   "title_cell": "Table of Contents",
   "title_sidebar": "Contents",
   "toc_cell": false,
   "toc_position": {
    "height": "545.6px",
    "left": "61px",
    "top": "111.113px",
    "width": "245.75px"
   },
   "toc_section_display": true,
   "toc_window_display": true
  }
 },
 "nbformat": 4,
 "nbformat_minor": 5
}
