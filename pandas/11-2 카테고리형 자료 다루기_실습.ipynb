{
 "cells": [
  {
   "cell_type": "markdown",
   "id": "fbb8d94a",
   "metadata": {},
   "source": [
    "# 데이터 준비/확인\n",
    "* 평균점수에 따른 등급을 카테고리형 자료로 다루기 위해 평균점수에 따른 등급 컬럼 추가하기"
   ]
  },
  {
   "cell_type": "code",
   "execution_count": null,
   "id": "ceb84b9a",
   "metadata": {
    "scrolled": false
   },
   "outputs": [],
   "source": [
    "import pandas as pd\n",
    "df = pd.read_csv('data/scores.csv')\n",
    "df.head(3)"
   ]
  },
  {
   "cell_type": "markdown",
   "id": "d9a5850a",
   "metadata": {},
   "source": [
    "## 결측치 확인/처리하기\n",
    "* 결측치는 0으로 대치"
   ]
  },
  {
   "cell_type": "code",
   "execution_count": null,
   "id": "ceb7fe3a",
   "metadata": {
    "scrolled": true
   },
   "outputs": [],
   "source": [
    "# 결측치 확인하기 (info)"
   ]
  },
  {
   "cell_type": "code",
   "execution_count": null,
   "id": "27aaee19",
   "metadata": {},
   "outputs": [],
   "source": [
    "# 결측치가 있는 행 삭제하기"
   ]
  },
  {
   "cell_type": "code",
   "execution_count": null,
   "id": "47245bd0",
   "metadata": {},
   "outputs": [],
   "source": [
    "# 결측치 확인(isnull)"
   ]
  },
  {
   "cell_type": "markdown",
   "id": "963a1d5a",
   "metadata": {},
   "source": [
    "##  평균 점수 컬럼 추가하기\n",
    "* 등급을 매기기 위한 평균점수 컬럼 추가"
   ]
  },
  {
   "cell_type": "code",
   "execution_count": null,
   "id": "99040ffc",
   "metadata": {
    "scrolled": true
   },
   "outputs": [],
   "source": []
  },
  {
   "cell_type": "markdown",
   "id": "4a0a6c27",
   "metadata": {},
   "source": [
    "## 평균점수에 따른 등급 컬럼 추가\n",
    "* 컬럼.apply(함수)"
   ]
  },
  {
   "cell_type": "code",
   "execution_count": null,
   "id": "a87efe20",
   "metadata": {
    "scrolled": true
   },
   "outputs": [],
   "source": [
    "def get_grade(x):\n",
    "    if x>=90:\n",
    "        return 1\n",
    "    elif x>=80:\n",
    "        return 2\n",
    "    elif x>=70:\n",
    "        return 3\n",
    "    elif x>=60:\n",
    "        return 4\n",
    "    else:\n",
    "        return 5\n"
   ]
  },
  {
   "cell_type": "markdown",
   "id": "953867f0",
   "metadata": {},
   "source": [
    "# 카테고리형으로 변환하기\n",
    "* 등급컬럼(grade)을 카테고리형 자료형으로 변환하기"
   ]
  },
  {
   "cell_type": "code",
   "execution_count": null,
   "id": "adf1b342",
   "metadata": {
    "scrolled": true
   },
   "outputs": [],
   "source": [
    "# 자료형 확인하기"
   ]
  },
  {
   "cell_type": "code",
   "execution_count": null,
   "id": "1ebb9989",
   "metadata": {
    "scrolled": false
   },
   "outputs": [],
   "source": [
    "# 자료형 변환하기"
   ]
  },
  {
   "cell_type": "code",
   "execution_count": null,
   "id": "3c18e365",
   "metadata": {
    "scrolled": false
   },
   "outputs": [],
   "source": []
  },
  {
   "cell_type": "code",
   "execution_count": null,
   "id": "359bc7cf",
   "metadata": {},
   "outputs": [],
   "source": []
  },
  {
   "cell_type": "markdown",
   "id": "2f6a613f",
   "metadata": {},
   "source": [
    "# 카테고리 이름 바꾸기\n",
    "* 컬럼.**cat.categories** = 카테고리리스트"
   ]
  },
  {
   "cell_type": "code",
   "execution_count": null,
   "id": "d8dbfbd7",
   "metadata": {
    "scrolled": false
   },
   "outputs": [],
   "source": []
  },
  {
   "cell_type": "markdown",
   "id": "8ee69c65",
   "metadata": {},
   "source": [
    "# 누락된 카테고리 추가\n",
    "* 컬럼.<b>cat.set_categories</b>(카테고리리스트)"
   ]
  },
  {
   "cell_type": "code",
   "execution_count": null,
   "id": "f23bc602",
   "metadata": {
    "scrolled": true
   },
   "outputs": [],
   "source": []
  },
  {
   "cell_type": "markdown",
   "id": "17ce647c",
   "metadata": {},
   "source": [
    "# 데이터 용량 확인하기\n",
    "* titanic 데이터에서 카테고리형으로 관리할 수 있는 자료형을 카테고리형으로 변환하여 데이터 용량 비교하기"
   ]
  },
  {
   "cell_type": "markdown",
   "id": "37748774",
   "metadata": {},
   "source": [
    "## 데이터 준비하고 확인하기"
   ]
  },
  {
   "cell_type": "code",
   "execution_count": null,
   "id": "b3042363",
   "metadata": {
    "scrolled": false
   },
   "outputs": [],
   "source": [
    "df_titanic = pd.read_csv('data/titanic.csv')\n",
    "df_titanic.head(1)"
   ]
  },
  {
   "cell_type": "code",
   "execution_count": null,
   "id": "557e14b7",
   "metadata": {},
   "outputs": [],
   "source": [
    "df_titanic['Survived'].unique()"
   ]
  },
  {
   "cell_type": "code",
   "execution_count": null,
   "id": "ced9550d",
   "metadata": {},
   "outputs": [],
   "source": [
    "df_titanic['Pclass'].unique()"
   ]
  },
  {
   "cell_type": "code",
   "execution_count": null,
   "id": "2d8cd793",
   "metadata": {},
   "outputs": [],
   "source": [
    "df_titanic['Sex'].unique()"
   ]
  },
  {
   "cell_type": "code",
   "execution_count": null,
   "id": "602f061f",
   "metadata": {},
   "outputs": [],
   "source": [
    "df_titanic['Embarked'].unique()"
   ]
  },
  {
   "cell_type": "code",
   "execution_count": null,
   "id": "53678dba",
   "metadata": {
    "scrolled": false
   },
   "outputs": [],
   "source": [
    "# 데이터 타입"
   ]
  },
  {
   "cell_type": "code",
   "execution_count": null,
   "id": "b4aaf890",
   "metadata": {
    "scrolled": false
   },
   "outputs": [],
   "source": [
    "# 용량 확인하기"
   ]
  },
  {
   "cell_type": "markdown",
   "id": "c9c15b0b",
   "metadata": {},
   "source": [
    "## 카테고리형으로 바꾸기\n",
    "* 컬럼.astype('category')"
   ]
  },
  {
   "cell_type": "code",
   "execution_count": null,
   "id": "1e14499c",
   "metadata": {},
   "outputs": [],
   "source": [
    "# 카테고리형으로 바꾸기 (Survived, Pclass, Sex, Embarked)"
   ]
  },
  {
   "cell_type": "code",
   "execution_count": null,
   "id": "364b7bb5",
   "metadata": {
    "scrolled": false
   },
   "outputs": [],
   "source": [
    "# 데이터타입"
   ]
  },
  {
   "cell_type": "code",
   "execution_count": null,
   "id": "d9bb9386",
   "metadata": {
    "scrolled": true
   },
   "outputs": [],
   "source": [
    "# 용량"
   ]
  }
 ],
 "metadata": {
  "kernelspec": {
   "display_name": "Python 3",
   "language": "python",
   "name": "python3"
  },
  "language_info": {
   "codemirror_mode": {
    "name": "ipython",
    "version": 3
   },
   "file_extension": ".py",
   "mimetype": "text/x-python",
   "name": "python",
   "nbconvert_exporter": "python",
   "pygments_lexer": "ipython3",
   "version": "3.8.8"
  },
  "toc": {
   "base_numbering": 1,
   "nav_menu": {},
   "number_sections": true,
   "sideBar": true,
   "skip_h1_title": false,
   "title_cell": "Table of Contents",
   "title_sidebar": "Contents",
   "toc_cell": false,
   "toc_position": {
    "height": "calc(100% - 180px)",
    "left": "10px",
    "top": "150px",
    "width": "303.837px"
   },
   "toc_section_display": true,
   "toc_window_display": true
  }
 },
 "nbformat": 4,
 "nbformat_minor": 5
}
