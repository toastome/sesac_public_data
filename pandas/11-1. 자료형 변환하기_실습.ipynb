{
 "cells": [
  {
   "cell_type": "code",
   "execution_count": null,
   "id": "31897472",
   "metadata": {},
   "outputs": [],
   "source": [
    "import pandas as pd"
   ]
  },
  {
   "cell_type": "markdown",
   "id": "a0d48dbe",
   "metadata": {},
   "source": [
    "# 자료형 확인\n",
    "* **데이터프레임.dtyes**\n",
    "* **시리즈.dtype**\n",
    "* 한 시리즈에 문자열과 숫자, 문자열과 부울 등으로 데이터타입이 혼합되어 있으면 object형으로 결정된다.\n",
    "* 한 시리즈에 정수와 실수가 혼합되어 있으면 float64으로 결정된다."
   ]
  },
  {
   "cell_type": "code",
   "execution_count": null,
   "id": "250a316f",
   "metadata": {},
   "outputs": [],
   "source": [
    "# 샘플데이터\n",
    "df = pd.DataFrame({'float': [1.0, 2.0],\n",
    "                    'int': [1,2],\n",
    "                    'datetime': [pd.Timestamp('20200101'),pd.Timestamp('20210101')],\n",
    "                    'string': ['a','b'],\n",
    "                    'bool':[True,False],\n",
    "                    'object':[1,'-'],\n",
    "                    'float2' : [1.0, 2]})"
   ]
  },
  {
   "cell_type": "code",
   "execution_count": null,
   "id": "12829bf1",
   "metadata": {
    "scrolled": true
   },
   "outputs": [],
   "source": [
    "df"
   ]
  },
  {
   "cell_type": "markdown",
   "id": "10392c7e",
   "metadata": {},
   "source": [
    "## 데이터프레임의 자료형 확인"
   ]
  },
  {
   "cell_type": "code",
   "execution_count": null,
   "id": "4bf69029",
   "metadata": {
    "scrolled": true
   },
   "outputs": [],
   "source": [
    "# 데이터프레임의 자료형 확인"
   ]
  },
  {
   "cell_type": "markdown",
   "id": "9c20a48f",
   "metadata": {},
   "source": [
    "## 시리즈의 자료형 확인"
   ]
  },
  {
   "cell_type": "code",
   "execution_count": null,
   "id": "907997ad",
   "metadata": {
    "scrolled": true
   },
   "outputs": [],
   "source": [
    "# int 컬럼의 자료형 확인"
   ]
  },
  {
   "cell_type": "markdown",
   "id": "a19b9011",
   "metadata": {},
   "source": [
    "## 자료형이 혼합된 컬럼의 자료형 확인"
   ]
  },
  {
   "cell_type": "code",
   "execution_count": null,
   "id": "e1909eab",
   "metadata": {
    "scrolled": false
   },
   "outputs": [],
   "source": [
    "# 숫자형과 문자형이 혼합되어 있는 경우 각 데이터의 자료형 확인"
   ]
  },
  {
   "cell_type": "code",
   "execution_count": null,
   "id": "cd590882",
   "metadata": {
    "scrolled": true
   },
   "outputs": [],
   "source": []
  },
  {
   "cell_type": "markdown",
   "id": "65a9aad7",
   "metadata": {},
   "source": [
    "# 자료형 변환\n",
    "* 데이터프레임.**astype**('자료형')\n",
    "* 시리즈.**astype**('자료형')"
   ]
  },
  {
   "cell_type": "code",
   "execution_count": null,
   "id": "6544d8e4",
   "metadata": {
    "scrolled": false
   },
   "outputs": [],
   "source": [
    "# 샘플 데이터\n",
    "df = pd.DataFrame({'col1': [1, 2], 'col2': [3, 4]})\n",
    "df"
   ]
  },
  {
   "cell_type": "code",
   "execution_count": null,
   "id": "f0ede824",
   "metadata": {},
   "outputs": [],
   "source": []
  },
  {
   "cell_type": "markdown",
   "id": "1430d202",
   "metadata": {},
   "source": [
    "## 데이터프레임 전체 자료형 변환"
   ]
  },
  {
   "cell_type": "code",
   "execution_count": null,
   "id": "08cb4159",
   "metadata": {
    "scrolled": false
   },
   "outputs": [],
   "source": [
    "# 실수형으로 변환"
   ]
  },
  {
   "cell_type": "code",
   "execution_count": null,
   "id": "26d5b990",
   "metadata": {},
   "outputs": [],
   "source": []
  },
  {
   "cell_type": "code",
   "execution_count": null,
   "id": "03a16ab5",
   "metadata": {
    "scrolled": true
   },
   "outputs": [],
   "source": [
    "# 문자열로 변환"
   ]
  },
  {
   "cell_type": "code",
   "execution_count": null,
   "id": "3aee8ba4",
   "metadata": {
    "scrolled": false
   },
   "outputs": [],
   "source": []
  },
  {
   "cell_type": "code",
   "execution_count": null,
   "id": "393dbe47",
   "metadata": {
    "scrolled": false
   },
   "outputs": [],
   "source": [
    "# 정수형으로 변환"
   ]
  },
  {
   "cell_type": "markdown",
   "id": "712b0db9",
   "metadata": {},
   "source": [
    "## 컬럼의 자료형 변환"
   ]
  },
  {
   "cell_type": "code",
   "execution_count": null,
   "id": "886c1150",
   "metadata": {},
   "outputs": [],
   "source": []
  },
  {
   "cell_type": "code",
   "execution_count": null,
   "id": "cb4de142",
   "metadata": {},
   "outputs": [],
   "source": [
    "# col2의 자료형만 str로 변환"
   ]
  },
  {
   "cell_type": "code",
   "execution_count": null,
   "id": "31deb662",
   "metadata": {
    "scrolled": false
   },
   "outputs": [],
   "source": [
    "# col2의 자료형만 float로변환"
   ]
  },
  {
   "cell_type": "code",
   "execution_count": null,
   "id": "f5d665b0",
   "metadata": {},
   "outputs": [],
   "source": [
    "# col2의 자료형만 int로변환"
   ]
  },
  {
   "cell_type": "markdown",
   "id": "9a480502",
   "metadata": {},
   "source": [
    "## 자료형이 혼합된 컬럼의 자료형 변환"
   ]
  },
  {
   "cell_type": "code",
   "execution_count": null,
   "id": "025fa854",
   "metadata": {
    "scrolled": true
   },
   "outputs": [],
   "source": [
    "# 샘플 데이터\n",
    "df = pd.DataFrame({'col1': [1, 2], 'col2': [3, 4],'col3':[5,'-']})\n",
    "df"
   ]
  },
  {
   "cell_type": "code",
   "execution_count": null,
   "id": "ba334ded",
   "metadata": {
    "scrolled": false
   },
   "outputs": [],
   "source": []
  },
  {
   "cell_type": "code",
   "execution_count": null,
   "id": "4ba9ac7f",
   "metadata": {},
   "outputs": [],
   "source": [
    "# col3 컬럼을 str형으로 변환"
   ]
  },
  {
   "cell_type": "code",
   "execution_count": null,
   "id": "64404e65",
   "metadata": {},
   "outputs": [],
   "source": [
    "# 변경할 수 없는 자료가 섞여있으면 error"
   ]
  },
  {
   "cell_type": "markdown",
   "id": "1dae6662",
   "metadata": {},
   "source": [
    "# 자료형이 혼합된 컬럼을 숫자형으로 변경\n",
    "* pd.to_numeric(컬럼, **errors='ignore'**) : 숫자로 변경할 수 없는 값이 있으면 작업하지 않음\n",
    "* pd.to_numeric(컬럼, **errors='coerce'**) : 숫자로 변경할 수 없는 값이 NaN으로 설정\n",
    "* pd.to_numeric(컬럼, **errors='raise'**) :  숫자로 변경할 수 없는 값이 있으면 에러발생(default)"
   ]
  },
  {
   "cell_type": "markdown",
   "id": "0bfb51f5",
   "metadata": {},
   "source": [
    "## astype으로 변환"
   ]
  },
  {
   "cell_type": "code",
   "execution_count": null,
   "id": "b39d0807",
   "metadata": {
    "scrolled": false
   },
   "outputs": [],
   "source": [
    "# 모든 값을 숫자로 변경할 수 있음\n",
    "s1 = pd.Series(['1.0', '2', -3])\n",
    "s1.astype('float')"
   ]
  },
  {
   "cell_type": "code",
   "execution_count": null,
   "id": "2ba1f78b",
   "metadata": {},
   "outputs": [],
   "source": [
    "# 숫자로 변경할 수 없는 데이터가 섞여있음\n",
    "s2 = pd.Series(['1.0', '2', -3, 'a'])\n",
    "s2.astype('float')"
   ]
  },
  {
   "cell_type": "markdown",
   "id": "5c338746",
   "metadata": {},
   "source": [
    "## to_numeric으로 변환"
   ]
  },
  {
   "cell_type": "code",
   "execution_count": null,
   "id": "61d8c8d2",
   "metadata": {
    "scrolled": true
   },
   "outputs": [],
   "source": [
    "# ignore:숫자료 변경할 수 없는 데이터가 있으면 작업하지 않음"
   ]
  },
  {
   "cell_type": "code",
   "execution_count": null,
   "id": "35d7d256",
   "metadata": {
    "scrolled": true
   },
   "outputs": [],
   "source": [
    "# coerce:숫자로 변경할 수 없는 값이 NaN으로 설정"
   ]
  },
  {
   "cell_type": "code",
   "execution_count": null,
   "id": "75bc17e9",
   "metadata": {
    "scrolled": false
   },
   "outputs": [],
   "source": [
    "# raise : 숫자로 변경할 수 없는 값이 있으면 에러발생(default)"
   ]
  },
  {
   "cell_type": "markdown",
   "id": "caed853c",
   "metadata": {},
   "source": [
    "# 시계열 데이터로 변경\n",
    "* pd.to_datetime(컬럼)"
   ]
  },
  {
   "cell_type": "code",
   "execution_count": null,
   "id": "a5feb6f9",
   "metadata": {
    "scrolled": true
   },
   "outputs": [],
   "source": [
    "df = pd.read_csv('data/birth_die.csv')\n",
    "df.head()"
   ]
  },
  {
   "cell_type": "code",
   "execution_count": null,
   "id": "a90f6b76",
   "metadata": {
    "scrolled": true
   },
   "outputs": [],
   "source": [
    "df.dtypes"
   ]
  },
  {
   "cell_type": "markdown",
   "id": "880005be",
   "metadata": {},
   "source": [
    "## astype으로 변환"
   ]
  },
  {
   "cell_type": "code",
   "execution_count": null,
   "id": "c0ffd6cc",
   "metadata": {
    "scrolled": true
   },
   "outputs": [],
   "source": [
    "# 출생"
   ]
  },
  {
   "cell_type": "code",
   "execution_count": null,
   "id": "dd188c51",
   "metadata": {
    "scrolled": true
   },
   "outputs": [],
   "source": []
  },
  {
   "cell_type": "markdown",
   "id": "9dce8372",
   "metadata": {},
   "source": [
    "## to_datetime으로 변환"
   ]
  },
  {
   "cell_type": "code",
   "execution_count": null,
   "id": "7dec9dec",
   "metadata": {},
   "outputs": [],
   "source": [
    "# 사망"
   ]
  },
  {
   "cell_type": "code",
   "execution_count": null,
   "id": "8d3eced2",
   "metadata": {
    "scrolled": true
   },
   "outputs": [],
   "source": []
  }
 ],
 "metadata": {
  "kernelspec": {
   "display_name": "Python 3",
   "language": "python",
   "name": "python3"
  },
  "language_info": {
   "codemirror_mode": {
    "name": "ipython",
    "version": 3
   },
   "file_extension": ".py",
   "mimetype": "text/x-python",
   "name": "python",
   "nbconvert_exporter": "python",
   "pygments_lexer": "ipython3",
   "version": "3.8.8"
  },
  "toc": {
   "base_numbering": 1,
   "nav_menu": {},
   "number_sections": true,
   "sideBar": true,
   "skip_h1_title": false,
   "title_cell": "Table of Contents",
   "title_sidebar": "Contents",
   "toc_cell": false,
   "toc_position": {
    "height": "calc(100% - 180px)",
    "left": "10px",
    "top": "150px",
    "width": "245.75px"
   },
   "toc_section_display": true,
   "toc_window_display": true
  }
 },
 "nbformat": 4,
 "nbformat_minor": 5
}
