{
 "cells": [
  {
   "cell_type": "markdown",
   "id": "be3c080e",
   "metadata": {},
   "source": [
    "# 행을 열로 보내기(melt)\n",
    "* 데이터프레임.**melt()**\n",
    "* pd.melt(데이터프레임)"
   ]
  },
  {
   "cell_type": "code",
   "execution_count": null,
   "id": "2d84a669",
   "metadata": {
    "scrolled": true
   },
   "outputs": [],
   "source": [
    "import pandas as pd\n",
    "df = pd.read_csv('data/scores.csv')\n",
    "df = df.head(2)\n",
    "df"
   ]
  },
  {
   "cell_type": "markdown",
   "id": "137d2218",
   "metadata": {},
   "source": [
    "## 모든 열 melt\n",
    "* df.melt( )\n",
    "* pd.melt(df)"
   ]
  },
  {
   "cell_type": "code",
   "execution_count": null,
   "id": "ba7030d0",
   "metadata": {
    "scrolled": false
   },
   "outputs": [],
   "source": []
  },
  {
   "cell_type": "markdown",
   "id": "4477edf6",
   "metadata": {},
   "source": [
    "## 고정할 컬럼 지정하여 melt\n",
    "* <b>id_vars=[열이름리스트]</b> --> 위치를 그대로 유지할 열 이름<br>"
   ]
  },
  {
   "cell_type": "code",
   "execution_count": null,
   "id": "0dd79b9e",
   "metadata": {},
   "outputs": [],
   "source": []
  },
  {
   "cell_type": "code",
   "execution_count": null,
   "id": "c74e730f",
   "metadata": {
    "scrolled": true
   },
   "outputs": [],
   "source": [
    "# name 고정"
   ]
  },
  {
   "cell_type": "code",
   "execution_count": null,
   "id": "504569ec",
   "metadata": {},
   "outputs": [],
   "source": [
    "# name, kor 고정"
   ]
  },
  {
   "cell_type": "markdown",
   "id": "c2a9d7e9",
   "metadata": {},
   "source": [
    "## 행으로 위치를 변경할 열 지정\n",
    "\n",
    "* <b>value_vars=[열이름리스트]</b>"
   ]
  },
  {
   "cell_type": "code",
   "execution_count": null,
   "id": "ef38859b",
   "metadata": {
    "scrolled": true
   },
   "outputs": [],
   "source": [
    "# kor"
   ]
  },
  {
   "cell_type": "code",
   "execution_count": null,
   "id": "cdcef7ce",
   "metadata": {
    "scrolled": true
   },
   "outputs": [],
   "source": [
    "# kor, eng"
   ]
  },
  {
   "cell_type": "markdown",
   "id": "d292eae9",
   "metadata": {},
   "source": [
    "## 컬럼명 변경하기\n",
    "\n",
    "* <b>var_name=컬럼명</b> --> value_vars로 위치를 변경한 열 이름<br>\n",
    "* <b>value_name=var_name</b>으로 위치를 변경한 열의 데이터를 저장한 열 이름"
   ]
  },
  {
   "cell_type": "code",
   "execution_count": null,
   "id": "f5ac889d",
   "metadata": {
    "scrolled": true
   },
   "outputs": [],
   "source": [
    "# subject, score"
   ]
  },
  {
   "cell_type": "markdown",
   "id": "2b95b788",
   "metadata": {},
   "source": [
    "# 열을 행으로 보내기(pivot)"
   ]
  },
  {
   "cell_type": "code",
   "execution_count": null,
   "id": "6ac09f01",
   "metadata": {
    "scrolled": false
   },
   "outputs": [],
   "source": [
    "# 샘플데이터\n",
    "df = pd.read_csv('data/scores.csv')\n",
    "df = df.head(2)\n",
    "df = df.melt(id_vars = 'name', var_name='subject',value_name='score')\n",
    "\n",
    "def get_grade(x):\n",
    "    if x>=90: grade='A'\n",
    "    elif x>=80: grade='B'\n",
    "    elif x>=70: grade='C'\n",
    "    elif x>=60: grade='D'\n",
    "    else: grade='F'\n",
    "    return grade\n",
    "\n",
    "df['grade'] = df['score'].apply(get_grade)\n",
    "df = df.sort_values('name')\n",
    "df"
   ]
  },
  {
   "cell_type": "markdown",
   "id": "ac73b891",
   "metadata": {},
   "source": [
    "* 데이터프레임.pivot( index=인덱스로 사용할 컬럼, columns=컬럼으로 사용할 컬럼, values=값으로 사용할 컬럼 )"
   ]
  },
  {
   "cell_type": "code",
   "execution_count": null,
   "id": "c885b17b",
   "metadata": {
    "scrolled": false
   },
   "outputs": [],
   "source": [
    "# name, subject, score"
   ]
  },
  {
   "cell_type": "code",
   "execution_count": null,
   "id": "502c0d7a",
   "metadata": {
    "scrolled": true
   },
   "outputs": [],
   "source": [
    "# name, subject, grade"
   ]
  },
  {
   "cell_type": "code",
   "execution_count": null,
   "id": "cbb85fbe",
   "metadata": {
    "scrolled": true
   },
   "outputs": [],
   "source": [
    "# name, subject, [grade,score]"
   ]
  },
  {
   "cell_type": "code",
   "execution_count": null,
   "id": "52a61da9",
   "metadata": {
    "scrolled": false
   },
   "outputs": [],
   "source": [
    "# name, subject"
   ]
  },
  {
   "cell_type": "markdown",
   "id": "4eef3497",
   "metadata": {},
   "source": [
    "# 행과 열 바꾸기\n",
    "* 데이터프레임.transpose()"
   ]
  },
  {
   "cell_type": "code",
   "execution_count": null,
   "id": "52ca91b4",
   "metadata": {},
   "outputs": [],
   "source": []
  },
  {
   "cell_type": "code",
   "execution_count": null,
   "id": "a7145580",
   "metadata": {
    "scrolled": true
   },
   "outputs": [],
   "source": []
  }
 ],
 "metadata": {
  "kernelspec": {
   "display_name": "Python 3",
   "language": "python",
   "name": "python3"
  },
  "language_info": {
   "codemirror_mode": {
    "name": "ipython",
    "version": 3
   },
   "file_extension": ".py",
   "mimetype": "text/x-python",
   "name": "python",
   "nbconvert_exporter": "python",
   "pygments_lexer": "ipython3",
   "version": "3.8.8"
  },
  "toc": {
   "base_numbering": 1,
   "nav_menu": {},
   "number_sections": true,
   "sideBar": true,
   "skip_h1_title": false,
   "title_cell": "Table of Contents",
   "title_sidebar": "Contents",
   "toc_cell": false,
   "toc_position": {
    "height": "calc(100% - 180px)",
    "left": "10px",
    "top": "150px",
    "width": "245.76px"
   },
   "toc_section_display": true,
   "toc_window_display": true
  }
 },
 "nbformat": 4,
 "nbformat_minor": 5
}
