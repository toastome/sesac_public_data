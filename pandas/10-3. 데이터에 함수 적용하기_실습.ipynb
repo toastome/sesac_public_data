{
 "cells": [
  {
   "cell_type": "code",
   "execution_count": null,
   "id": "b661595a",
   "metadata": {},
   "outputs": [],
   "source": [
    "import pandas as pd"
   ]
  },
  {
   "cell_type": "markdown",
   "id": "8fd48a7a",
   "metadata": {},
   "source": [
    "# 데이터 준비하기"
   ]
  },
  {
   "cell_type": "code",
   "execution_count": null,
   "id": "271dd101",
   "metadata": {
    "scrolled": true
   },
   "outputs": [],
   "source": [
    "df = pd.read_csv('data/scores.csv')\n",
    "df = df.head()\n",
    "df_copy = df.copy()"
   ]
  },
  {
   "cell_type": "code",
   "execution_count": null,
   "id": "5b3b9444",
   "metadata": {
    "scrolled": true
   },
   "outputs": [],
   "source": [
    "df.head()"
   ]
  },
  {
   "cell_type": "code",
   "execution_count": null,
   "id": "067575ea",
   "metadata": {},
   "outputs": [],
   "source": [
    "df_copy.head()"
   ]
  },
  {
   "cell_type": "markdown",
   "id": "28ea34fd",
   "metadata": {},
   "source": [
    "# 함수로 컬럼의 데이터 변경하기\n",
    "* 컬럼.**apply(함수명)**\n",
    "\n",
    "* 컬럼.**apply(함수명, 매개변수명=매개변수값)**  \n",
    "매개변수명을 명시해주어야 한다.\n",
    "* 적용할 함수가 미리 정의되어 있어야 한다."
   ]
  },
  {
   "cell_type": "code",
   "execution_count": null,
   "id": "d7497354",
   "metadata": {},
   "outputs": [],
   "source": [
    "#df['math']의 모든점수에 5점 더하기.(--> 105점?)"
   ]
  },
  {
   "cell_type": "code",
   "execution_count": null,
   "id": "d2d2be57",
   "metadata": {},
   "outputs": [],
   "source": [
    "#df['math']의 모든점수에 5점 더하기. 100점이 넘을 수 없다."
   ]
  },
  {
   "cell_type": "code",
   "execution_count": null,
   "id": "6ade11b1",
   "metadata": {
    "scrolled": true
   },
   "outputs": [],
   "source": [
    "# df['eng']의 모든 점수에 1점 더하기. 100점이 넘을 수 없다."
   ]
  },
  {
   "cell_type": "code",
   "execution_count": null,
   "id": "01dfedb4",
   "metadata": {},
   "outputs": [],
   "source": []
  },
  {
   "cell_type": "markdown",
   "id": "cf83049f",
   "metadata": {},
   "source": [
    "# 함수로 행/열의 데이터 집계하기\n",
    "* 데이터프레임.apply(함수명, axis=0) : 열단위로 함수가 적용된다.\n",
    "* 데이터프레임.apply(함수명, axis=1) : 행단위로 함수가 적용된다."
   ]
  },
  {
   "cell_type": "code",
   "execution_count": null,
   "id": "2ad62bef",
   "metadata": {},
   "outputs": [],
   "source": [
    "df = pd.read_csv('data/scores.csv')\n",
    "df = df.head()\n",
    "df.index = df.name\n",
    "df.drop(columns=['name'], inplace=True)\n",
    "df_copy = df.copy()"
   ]
  },
  {
   "cell_type": "code",
   "execution_count": null,
   "id": "35f2b605",
   "metadata": {
    "scrolled": true
   },
   "outputs": [],
   "source": [
    "df.head()"
   ]
  },
  {
   "cell_type": "code",
   "execution_count": null,
   "id": "2f9a5727",
   "metadata": {},
   "outputs": [],
   "source": [
    "df_copy.head()"
   ]
  },
  {
   "cell_type": "code",
   "execution_count": null,
   "id": "b2137f1d",
   "metadata": {},
   "outputs": [],
   "source": [
    "# 행단위 데이터 출력"
   ]
  },
  {
   "cell_type": "code",
   "execution_count": null,
   "id": "d5993b41",
   "metadata": {},
   "outputs": [],
   "source": [
    "# 합계 구하기\n",
    "def get_sum(x):\n",
    "    return x.sum()"
   ]
  },
  {
   "cell_type": "code",
   "execution_count": null,
   "id": "86d759a3",
   "metadata": {},
   "outputs": [],
   "source": [
    "# 학생 별 점수 합계"
   ]
  },
  {
   "cell_type": "code",
   "execution_count": null,
   "id": "ebf9b7b7",
   "metadata": {},
   "outputs": [],
   "source": []
  },
  {
   "cell_type": "code",
   "execution_count": null,
   "id": "760bc9db",
   "metadata": {},
   "outputs": [],
   "source": [
    "# 과목 별 점수 합계"
   ]
  },
  {
   "cell_type": "code",
   "execution_count": null,
   "id": "2f0980bf",
   "metadata": {},
   "outputs": [],
   "source": []
  }
 ],
 "metadata": {
  "kernelspec": {
   "display_name": "Python 3",
   "language": "python",
   "name": "python3"
  },
  "language_info": {
   "codemirror_mode": {
    "name": "ipython",
    "version": 3
   },
   "file_extension": ".py",
   "mimetype": "text/x-python",
   "name": "python",
   "nbconvert_exporter": "python",
   "pygments_lexer": "ipython3",
   "version": "3.8.8"
  },
  "toc": {
   "base_numbering": 1,
   "nav_menu": {},
   "number_sections": true,
   "sideBar": true,
   "skip_h1_title": false,
   "title_cell": "Table of Contents",
   "title_sidebar": "Contents",
   "toc_cell": false,
   "toc_position": {},
   "toc_section_display": true,
   "toc_window_display": true
  }
 },
 "nbformat": 4,
 "nbformat_minor": 5
}
