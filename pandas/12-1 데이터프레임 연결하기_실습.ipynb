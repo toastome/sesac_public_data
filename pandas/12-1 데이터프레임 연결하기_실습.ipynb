{
 "cells": [
  {
   "cell_type": "code",
   "execution_count": null,
   "id": "d9eae1ae",
   "metadata": {},
   "outputs": [],
   "source": [
    "import pandas as pd"
   ]
  },
  {
   "cell_type": "markdown",
   "id": "0a2d2d6a",
   "metadata": {},
   "source": [
    "# 데이터프레임 연결하기(concat)\n",
    "* pd.**concat(데이터프레임리스트)**     \n",
    "데이터프레임이 **동일한 컬럼명 기준으로** 행으로 연결된다.   \n",
    "<br>\n",
    "* pd.concat(데이터프레임리스트, <b>axis=1</b>)\n",
    "<br>\n",
    "데이터프레임이 <b>동일한 인덱스 기준으로</b> 열로 연결된다.  "
   ]
  },
  {
   "cell_type": "markdown",
   "id": "fce1fbbf",
   "metadata": {},
   "source": [
    "## 행으로 연결하기"
   ]
  },
  {
   "cell_type": "code",
   "execution_count": null,
   "id": "e080de52",
   "metadata": {},
   "outputs": [],
   "source": [
    "# 샘플 데이터\n",
    "df1 = pd.DataFrame([['a', 1], ['b', 2]], columns=['letter', 'number'])\n",
    "df2 = pd.DataFrame([['c', 3], ['d', 4]], columns=['letter', 'number'])\n",
    "df3 = pd.DataFrame([['e', 5, '!'], ['f', 6, '@']], columns=['letter', 'number', 'etc'])"
   ]
  },
  {
   "cell_type": "code",
   "execution_count": null,
   "id": "a786ef11",
   "metadata": {
    "scrolled": true
   },
   "outputs": [],
   "source": [
    "df1"
   ]
  },
  {
   "cell_type": "code",
   "execution_count": null,
   "id": "9da1b500",
   "metadata": {
    "scrolled": true
   },
   "outputs": [],
   "source": [
    "df2"
   ]
  },
  {
   "cell_type": "code",
   "execution_count": null,
   "id": "f9ab964a",
   "metadata": {},
   "outputs": [],
   "source": [
    "df3"
   ]
  },
  {
   "cell_type": "markdown",
   "id": "9249a733",
   "metadata": {},
   "source": [
    "### 컬럼명 기준으로 연결하기"
   ]
  },
  {
   "cell_type": "code",
   "execution_count": null,
   "id": "1e88e803",
   "metadata": {},
   "outputs": [],
   "source": []
  },
  {
   "cell_type": "markdown",
   "id": "5295026d",
   "metadata": {},
   "source": [
    "### 공통된 컬럼만 남기기\n",
    "* <b>join='inner'</b> "
   ]
  },
  {
   "cell_type": "code",
   "execution_count": null,
   "id": "ab08ba84",
   "metadata": {
    "scrolled": true
   },
   "outputs": [],
   "source": []
  },
  {
   "cell_type": "code",
   "execution_count": null,
   "id": "fb50d9fa",
   "metadata": {},
   "outputs": [],
   "source": []
  },
  {
   "cell_type": "markdown",
   "id": "24eccc92",
   "metadata": {},
   "source": [
    "### 인덱스 재지정\n",
    "* **ignore_index=True** "
   ]
  },
  {
   "cell_type": "code",
   "execution_count": null,
   "id": "ad2fa818",
   "metadata": {},
   "outputs": [],
   "source": []
  },
  {
   "cell_type": "markdown",
   "id": "e61255cd",
   "metadata": {},
   "source": [
    "## 열로 연결하기"
   ]
  },
  {
   "cell_type": "code",
   "execution_count": null,
   "id": "5358f395",
   "metadata": {
    "scrolled": true
   },
   "outputs": [],
   "source": [
    "# 샘플 데이터\n",
    "df4 = pd.DataFrame({'age':[20,21,22]},index = ['amy','james','david'])\n",
    "df5 = pd.DataFrame({'phone':['010-111-1111','010-222-2222','010-333-3333']},index = ['amy','james','david']\n",
    ")\n",
    "df6 = pd.DataFrame({'job':['student','programmer','ceo','designer']},index = ['amy','james','david','J']\n",
    ")"
   ]
  },
  {
   "cell_type": "code",
   "execution_count": null,
   "id": "9249165a",
   "metadata": {},
   "outputs": [],
   "source": []
  },
  {
   "cell_type": "code",
   "execution_count": null,
   "id": "a199d8ab",
   "metadata": {},
   "outputs": [],
   "source": []
  },
  {
   "cell_type": "code",
   "execution_count": null,
   "id": "ac6465db",
   "metadata": {
    "scrolled": true
   },
   "outputs": [],
   "source": []
  },
  {
   "cell_type": "markdown",
   "id": "5622f118",
   "metadata": {},
   "source": [
    "### 인덱스를 기준으로 연결하기"
   ]
  },
  {
   "cell_type": "code",
   "execution_count": null,
   "id": "adc5f806",
   "metadata": {
    "scrolled": false
   },
   "outputs": [],
   "source": []
  },
  {
   "cell_type": "markdown",
   "id": "2a3e3dd3",
   "metadata": {},
   "source": [
    "### 공통된 인덱스만 남기기"
   ]
  },
  {
   "cell_type": "code",
   "execution_count": null,
   "id": "82041772",
   "metadata": {
    "scrolled": true
   },
   "outputs": [],
   "source": []
  },
  {
   "cell_type": "markdown",
   "id": "53639b90",
   "metadata": {},
   "source": [
    "# 공통된 열을 기준으로 연결하기(merge)\n",
    "\n",
    "* pd.**merge**(left,right,on=기준컬럼,how=연결방법)\n",
    "* 2개의 데이터프레임을 연결한다."
   ]
  },
  {
   "cell_type": "code",
   "execution_count": null,
   "id": "dfbead04",
   "metadata": {},
   "outputs": [],
   "source": [
    "df = pd.read_csv('data/scores.csv')\n",
    "df7 = df.loc[[1,2,3]][['name','eng']]\n",
    "df8 = df.loc[[1,2,4]][['name','math']]"
   ]
  },
  {
   "cell_type": "code",
   "execution_count": null,
   "id": "68016107",
   "metadata": {
    "scrolled": false
   },
   "outputs": [],
   "source": [
    "df7"
   ]
  },
  {
   "cell_type": "code",
   "execution_count": null,
   "id": "34b56140",
   "metadata": {
    "scrolled": true
   },
   "outputs": [],
   "source": [
    "df8"
   ]
  },
  {
   "cell_type": "markdown",
   "id": "2a5261c0",
   "metadata": {},
   "source": [
    "## 공통 데이터만으로 연결\n",
    "* how='inner'(default)"
   ]
  },
  {
   "cell_type": "code",
   "execution_count": null,
   "id": "d9800718",
   "metadata": {
    "scrolled": true
   },
   "outputs": [],
   "source": []
  },
  {
   "cell_type": "code",
   "execution_count": null,
   "id": "4cbafe76",
   "metadata": {
    "scrolled": true
   },
   "outputs": [],
   "source": []
  },
  {
   "cell_type": "markdown",
   "id": "5f12e998",
   "metadata": {},
   "source": [
    "## 모든 행 연결\n",
    "* how='outer'"
   ]
  },
  {
   "cell_type": "code",
   "execution_count": null,
   "id": "bec8645a",
   "metadata": {},
   "outputs": [],
   "source": []
  },
  {
   "cell_type": "markdown",
   "id": "a2d0f5ef",
   "metadata": {},
   "source": [
    "## 왼쪽 데이터프레임 기준으로 연결"
   ]
  },
  {
   "cell_type": "code",
   "execution_count": null,
   "id": "5ef6561a",
   "metadata": {
    "scrolled": false
   },
   "outputs": [],
   "source": []
  },
  {
   "cell_type": "markdown",
   "id": "7f2ad049",
   "metadata": {},
   "source": [
    "## 오른쪽 데이터프레임 기준으로 연결"
   ]
  },
  {
   "cell_type": "code",
   "execution_count": null,
   "id": "620b1980",
   "metadata": {},
   "outputs": [],
   "source": []
  }
 ],
 "metadata": {
  "kernelspec": {
   "display_name": "Python 3",
   "language": "python",
   "name": "python3"
  },
  "language_info": {
   "codemirror_mode": {
    "name": "ipython",
    "version": 3
   },
   "file_extension": ".py",
   "mimetype": "text/x-python",
   "name": "python",
   "nbconvert_exporter": "python",
   "pygments_lexer": "ipython3",
   "version": "3.8.8"
  },
  "toc": {
   "base_numbering": 1,
   "nav_menu": {},
   "number_sections": true,
   "sideBar": true,
   "skip_h1_title": false,
   "title_cell": "Table of Contents",
   "title_sidebar": "Contents",
   "toc_cell": false,
   "toc_position": {
    "height": "calc(100% - 180px)",
    "left": "10px",
    "top": "150px",
    "width": "245.75px"
   },
   "toc_section_display": true,
   "toc_window_display": true
  }
 },
 "nbformat": 4,
 "nbformat_minor": 5
}
