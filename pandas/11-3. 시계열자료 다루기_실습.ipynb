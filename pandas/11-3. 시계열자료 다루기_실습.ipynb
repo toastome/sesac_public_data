{
 "cells": [
  {
   "cell_type": "code",
   "execution_count": null,
   "id": "5103ef61",
   "metadata": {
    "scrolled": true
   },
   "outputs": [],
   "source": [
    "import pandas as pd\n",
    "df = pd.read_csv('data/birth_die.csv')\n",
    "df"
   ]
  },
  {
   "cell_type": "code",
   "execution_count": null,
   "id": "1167d5f7",
   "metadata": {
    "scrolled": false
   },
   "outputs": [],
   "source": [
    "df.dtypes"
   ]
  },
  {
   "cell_type": "markdown",
   "id": "6be210ab",
   "metadata": {},
   "source": [
    "# 컬럼을 datetime 자료형으로 변경하기\n",
    "* pd.**to_datetime**(컬럼)"
   ]
  },
  {
   "cell_type": "code",
   "execution_count": null,
   "id": "bfaea2e3",
   "metadata": {
    "scrolled": false
   },
   "outputs": [],
   "source": [
    "# 출생, 사망 컬럼을 datetime 자료형으로 변경하기"
   ]
  },
  {
   "cell_type": "code",
   "execution_count": null,
   "id": "84603f85",
   "metadata": {
    "scrolled": true
   },
   "outputs": [],
   "source": []
  },
  {
   "cell_type": "code",
   "execution_count": null,
   "id": "2463dea8",
   "metadata": {},
   "outputs": [],
   "source": []
  },
  {
   "cell_type": "markdown",
   "id": "2c144d58",
   "metadata": {},
   "source": [
    "# 연, 월, 일, 분기 추출하기"
   ]
  },
  {
   "cell_type": "markdown",
   "id": "69bfe922",
   "metadata": {},
   "source": [
    "* 컬럼.dt.year\n",
    "* 컬럼.dt.month\n",
    "* 컬럼.dt.day\n",
    "* 컬럼.dt.quarter"
   ]
  },
  {
   "cell_type": "code",
   "execution_count": null,
   "id": "12adf36b",
   "metadata": {
    "scrolled": true
   },
   "outputs": [],
   "source": [
    "# 출생 컬럼 0번 인덱스의 연도"
   ]
  },
  {
   "cell_type": "code",
   "execution_count": null,
   "id": "d48fcf02",
   "metadata": {
    "scrolled": false
   },
   "outputs": [],
   "source": [
    "# 출생 컬럼의 연도"
   ]
  },
  {
   "cell_type": "code",
   "execution_count": null,
   "id": "00b5e8bf",
   "metadata": {
    "scrolled": true
   },
   "outputs": [],
   "source": []
  },
  {
   "cell_type": "code",
   "execution_count": null,
   "id": "08e3d27b",
   "metadata": {},
   "outputs": [],
   "source": []
  },
  {
   "cell_type": "code",
   "execution_count": null,
   "id": "2e9efbb2",
   "metadata": {
    "scrolled": true
   },
   "outputs": [],
   "source": [
    "# 분기 컬럼 만들기"
   ]
  },
  {
   "cell_type": "markdown",
   "id": "c82f3e0a",
   "metadata": {},
   "source": [
    "# 날짜 계산하기"
   ]
  },
  {
   "cell_type": "code",
   "execution_count": null,
   "id": "b7cff692",
   "metadata": {},
   "outputs": [],
   "source": [
    "# 생존일수 컬럼 만들기"
   ]
  },
  {
   "cell_type": "code",
   "execution_count": null,
   "id": "fd6cec83",
   "metadata": {
    "scrolled": true
   },
   "outputs": [],
   "source": [
    "# 생존기간 컬럼 만들기"
   ]
  },
  {
   "cell_type": "code",
   "execution_count": null,
   "id": "7674d2c4",
   "metadata": {},
   "outputs": [],
   "source": []
  },
  {
   "cell_type": "markdown",
   "id": "fc37fb40",
   "metadata": {},
   "source": [
    "# 요일, 월이름 추출하기\n",
    "* 컬럼.dt.strftime('%a') : 요약된 요일이름\n",
    "* 컬럼.dt.strftime('%A') : 긴 요일이름\n",
    "* 컬럼.dt.strftime('%w') : 숫자요일(0:일요일)\n",
    "* 컬럼.dt.strgtime('%b') : 요약된 월이름\n",
    "* 컬럼.dt.strftime('%B') : 긴 월이름\n"
   ]
  },
  {
   "cell_type": "code",
   "execution_count": null,
   "id": "435d0a7f",
   "metadata": {},
   "outputs": [],
   "source": []
  },
  {
   "cell_type": "code",
   "execution_count": null,
   "id": "3161661d",
   "metadata": {
    "scrolled": true
   },
   "outputs": [],
   "source": [
    "# 출생요일 컬럼 "
   ]
  },
  {
   "cell_type": "code",
   "execution_count": null,
   "id": "07f6cae4",
   "metadata": {},
   "outputs": [],
   "source": [
    "# 출생월 컬럼 추가하기"
   ]
  },
  {
   "cell_type": "markdown",
   "id": "041eabb9",
   "metadata": {},
   "source": [
    "# datetime 자료형을 인덱스로 만들어 사용하기"
   ]
  },
  {
   "cell_type": "code",
   "execution_count": null,
   "id": "4c538e24",
   "metadata": {
    "scrolled": false
   },
   "outputs": [],
   "source": [
    "# 출생 컬럼을 인덱스로 만들기"
   ]
  },
  {
   "cell_type": "code",
   "execution_count": null,
   "id": "a95917df",
   "metadata": {
    "scrolled": false
   },
   "outputs": [],
   "source": [
    "# 1955년 출생한 데이터 추출하기"
   ]
  },
  {
   "cell_type": "code",
   "execution_count": null,
   "id": "7e46349e",
   "metadata": {
    "scrolled": true
   },
   "outputs": [],
   "source": [
    "# 1955년 2월 출생한 데이터 추출하기"
   ]
  }
 ],
 "metadata": {
  "kernelspec": {
   "display_name": "Python 3",
   "language": "python",
   "name": "python3"
  },
  "language_info": {
   "codemirror_mode": {
    "name": "ipython",
    "version": 3
   },
   "file_extension": ".py",
   "mimetype": "text/x-python",
   "name": "python",
   "nbconvert_exporter": "python",
   "pygments_lexer": "ipython3",
   "version": "3.8.8"
  },
  "toc": {
   "base_numbering": 1,
   "nav_menu": {},
   "number_sections": true,
   "sideBar": true,
   "skip_h1_title": false,
   "title_cell": "Table of Contents",
   "title_sidebar": "Contents",
   "toc_cell": false,
   "toc_position": {
    "height": "calc(100% - 180px)",
    "left": "10px",
    "top": "150px",
    "width": "333px"
   },
   "toc_section_display": true,
   "toc_window_display": true
  }
 },
 "nbformat": 4,
 "nbformat_minor": 5
}
