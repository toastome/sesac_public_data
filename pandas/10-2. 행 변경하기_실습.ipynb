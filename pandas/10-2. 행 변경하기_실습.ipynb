{
 "cells": [
  {
   "cell_type": "code",
   "execution_count": null,
   "id": "0fa81ff7",
   "metadata": {
    "scrolled": false
   },
   "outputs": [],
   "source": [
    "import pandas as pd\n",
    "df = pd.read_csv('data/scores.csv')\n",
    "df.index = range(100,3100,100)\n",
    "df.head(3)"
   ]
  },
  {
   "cell_type": "markdown",
   "id": "67fd73a1",
   "metadata": {},
   "source": [
    "# 마지막에 행 추가하고 인덱스 다시 지정하기\n",
    "* 데이터프레임.**append**(추가할데이터, **ignore_index=True**)\n",
    "* 추가할 데이터는 딕셔너리 형태로 전달 : **{컬럼1:값1, 컬럼2:값2,...}**\n",
    "* 데이터프레임의 끝에 행 추가\n",
    "* 기존 인덱스는 무시하고, 인덱스가 새롭게 생성된다."
   ]
  },
  {
   "cell_type": "code",
   "execution_count": null,
   "id": "7821720f",
   "metadata": {
    "scrolled": false
   },
   "outputs": [],
   "source": [
    "new_value = {'name':'Python','kor':80,'eng':90,'math':100}"
   ]
  },
  {
   "cell_type": "code",
   "execution_count": null,
   "id": "df0467ab",
   "metadata": {
    "scrolled": true
   },
   "outputs": [],
   "source": []
  },
  {
   "cell_type": "markdown",
   "id": "98cf43fc",
   "metadata": {},
   "source": [
    "# 인덱스 지정하여 추가/수정하기\n",
    "* 데이터프레임.**loc[인덱스] = 추가할데이터**\n",
    "* 데이터프레임.**loc[인덱스] = 수정할데이터**\n",
    "* 인덱스가 존재하면 해당 인덱스의 데이터가 수정된다.\n",
    "* 인덱스가 존재하지 않으면 데이터프레임의 끝에 데이터가 추가된다."
   ]
  },
  {
   "cell_type": "code",
   "execution_count": null,
   "id": "1d41a4f8",
   "metadata": {},
   "outputs": [],
   "source": [
    "# 인덱스 35에 추가"
   ]
  },
  {
   "cell_type": "code",
   "execution_count": null,
   "id": "26c37ed5",
   "metadata": {},
   "outputs": [],
   "source": [
    "# 인덱스 34에 추가"
   ]
  },
  {
   "cell_type": "code",
   "execution_count": null,
   "id": "9dfd0af5",
   "metadata": {
    "scrolled": true
   },
   "outputs": [],
   "source": []
  },
  {
   "cell_type": "code",
   "execution_count": null,
   "id": "39d8f18f",
   "metadata": {},
   "outputs": [],
   "source": [
    "# 인덱스 30"
   ]
  },
  {
   "cell_type": "code",
   "execution_count": null,
   "id": "13d74011",
   "metadata": {
    "scrolled": false
   },
   "outputs": [],
   "source": []
  },
  {
   "cell_type": "markdown",
   "id": "4f940476",
   "metadata": {},
   "source": [
    "# 행 삭제하기\n",
    "* 데이터프레임.**drop**(index=[삭제할인덱스리스트], inplace=True)"
   ]
  },
  {
   "cell_type": "code",
   "execution_count": null,
   "id": "7e418b3a",
   "metadata": {},
   "outputs": [],
   "source": [
    "# 30,34,35 삭제"
   ]
  },
  {
   "cell_type": "code",
   "execution_count": null,
   "id": "7e7821c4",
   "metadata": {
    "scrolled": true
   },
   "outputs": [],
   "source": []
  },
  {
   "cell_type": "markdown",
   "id": "f66d6ec1",
   "metadata": {},
   "source": [
    "# 인덱스 변경하기"
   ]
  },
  {
   "cell_type": "markdown",
   "id": "246c13ff",
   "metadata": {},
   "source": [
    "## 전체 인덱스명 변경하기\n",
    "* 데이터프레임.**index** = 인덱스명리스트           \n",
    "  인덱스명리스트의 항목 수는 인덱스 수와 동일해야한다."
   ]
  },
  {
   "cell_type": "code",
   "execution_count": null,
   "id": "9e6b5f8f",
   "metadata": {},
   "outputs": [],
   "source": [
    "# range(100,3100,100)"
   ]
  },
  {
   "cell_type": "code",
   "execution_count": null,
   "id": "1d95e5f6",
   "metadata": {},
   "outputs": [],
   "source": []
  },
  {
   "cell_type": "markdown",
   "id": "64c89146",
   "metadata": {},
   "source": [
    "## 특정 인덱스명 변경하기\n",
    "* 데이터프레임.rename(index={'현재인덱스명1':'바꿀인덱스명1','현재인덱스명2':'바꿀인덱스명2',...})"
   ]
  },
  {
   "cell_type": "code",
   "execution_count": null,
   "id": "f692fc65",
   "metadata": {},
   "outputs": [],
   "source": [
    "# 100-->'a', 200-->'b'"
   ]
  },
  {
   "cell_type": "code",
   "execution_count": null,
   "id": "0ec94262",
   "metadata": {},
   "outputs": [],
   "source": []
  }
 ],
 "metadata": {
  "kernelspec": {
   "display_name": "Python 3",
   "language": "python",
   "name": "python3"
  },
  "language_info": {
   "codemirror_mode": {
    "name": "ipython",
    "version": 3
   },
   "file_extension": ".py",
   "mimetype": "text/x-python",
   "name": "python",
   "nbconvert_exporter": "python",
   "pygments_lexer": "ipython3",
   "version": "3.8.8"
  },
  "toc": {
   "base_numbering": 1,
   "nav_menu": {},
   "number_sections": true,
   "sideBar": true,
   "skip_h1_title": false,
   "title_cell": "Table of Contents",
   "title_sidebar": "Contents",
   "toc_cell": false,
   "toc_position": {},
   "toc_section_display": true,
   "toc_window_display": true
  }
 },
 "nbformat": 4,
 "nbformat_minor": 5
}
