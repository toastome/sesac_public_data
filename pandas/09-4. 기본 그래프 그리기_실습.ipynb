{
 "cells": [
  {
   "cell_type": "code",
   "execution_count": null,
   "id": "b814082b",
   "metadata": {},
   "outputs": [],
   "source": [
    "import pandas as pd"
   ]
  },
  {
   "cell_type": "markdown",
   "id": "ec4e7f5f",
   "metadata": {},
   "source": [
    "# 멧플롯립 라이브러리 임포트"
   ]
  },
  {
   "cell_type": "code",
   "execution_count": null,
   "id": "0ea1a75d",
   "metadata": {},
   "outputs": [],
   "source": []
  },
  {
   "cell_type": "markdown",
   "id": "9811a5fc",
   "metadata": {},
   "source": [
    "# x축 y축 데이터 준비"
   ]
  },
  {
   "cell_type": "code",
   "execution_count": null,
   "id": "567fd4be",
   "metadata": {
    "scrolled": true
   },
   "outputs": [],
   "source": [
    "x = ['a','b','c','d','e']\n",
    "y = [1,3,2,10,7]"
   ]
  },
  {
   "cell_type": "markdown",
   "id": "19411787",
   "metadata": {},
   "source": [
    "# 그래프 그리기"
   ]
  },
  {
   "cell_type": "markdown",
   "id": "3f18d126",
   "metadata": {},
   "source": [
    "## 선그래프"
   ]
  },
  {
   "cell_type": "code",
   "execution_count": null,
   "id": "bad64566",
   "metadata": {
    "scrolled": true
   },
   "outputs": [],
   "source": []
  },
  {
   "cell_type": "markdown",
   "id": "df397a58",
   "metadata": {},
   "source": [
    "## 막대그래프"
   ]
  },
  {
   "cell_type": "code",
   "execution_count": null,
   "id": "39cc2855",
   "metadata": {
    "scrolled": false
   },
   "outputs": [],
   "source": []
  },
  {
   "cell_type": "markdown",
   "id": "e07fb376",
   "metadata": {},
   "source": [
    "## 가로 막대그래프"
   ]
  },
  {
   "cell_type": "code",
   "execution_count": null,
   "id": "708d752d",
   "metadata": {},
   "outputs": [],
   "source": []
  },
  {
   "cell_type": "markdown",
   "id": "8b03ad3a",
   "metadata": {},
   "source": [
    "## 산점도"
   ]
  },
  {
   "cell_type": "code",
   "execution_count": null,
   "id": "ba4394e1",
   "metadata": {
    "scrolled": true
   },
   "outputs": [],
   "source": []
  },
  {
   "cell_type": "markdown",
   "id": "49c6d5a1",
   "metadata": {},
   "source": [
    "## 세가지 그래프를 한번에 그리고 옵션 추가하기"
   ]
  },
  {
   "cell_type": "code",
   "execution_count": null,
   "id": "d1722c61",
   "metadata": {},
   "outputs": [],
   "source": []
  },
  {
   "cell_type": "markdown",
   "id": "1e3f8321",
   "metadata": {},
   "source": [
    "# kor을 막대그래프로 비교하기"
   ]
  },
  {
   "cell_type": "code",
   "execution_count": null,
   "id": "e1a033d6",
   "metadata": {
    "scrolled": true
   },
   "outputs": [],
   "source": [
    "df = pd.read_csv('data/scores.csv')"
   ]
  },
  {
   "cell_type": "code",
   "execution_count": null,
   "id": "a6cb959a",
   "metadata": {},
   "outputs": [],
   "source": []
  }
 ],
 "metadata": {
  "kernelspec": {
   "display_name": "Python 3",
   "language": "python",
   "name": "python3"
  },
  "language_info": {
   "codemirror_mode": {
    "name": "ipython",
    "version": 3
   },
   "file_extension": ".py",
   "mimetype": "text/x-python",
   "name": "python",
   "nbconvert_exporter": "python",
   "pygments_lexer": "ipython3",
   "version": "3.8.8"
  },
  "toc": {
   "base_numbering": 1,
   "nav_menu": {},
   "number_sections": true,
   "sideBar": true,
   "skip_h1_title": false,
   "title_cell": "Table of Contents",
   "title_sidebar": "Contents",
   "toc_cell": false,
   "toc_position": {
    "height": "calc(100% - 180px)",
    "left": "10px",
    "top": "150px",
    "width": "242px"
   },
   "toc_section_display": true,
   "toc_window_display": true
  }
 },
 "nbformat": 4,
 "nbformat_minor": 5
}
