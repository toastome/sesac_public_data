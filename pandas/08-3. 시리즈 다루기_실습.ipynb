{
 "cells": [
  {
   "cell_type": "code",
   "execution_count": null,
   "id": "f1c95e69",
   "metadata": {},
   "outputs": [],
   "source": [
    "import pandas as pd"
   ]
  },
  {
   "cell_type": "markdown",
   "id": "189d60dc",
   "metadata": {},
   "source": [
    "# 시리즈 만들기\n",
    "* pd.Series(리스트)\n",
    "*시리즈 : 엑셀시트의 열 1개를 의미한다.(1차원 리스트형태)"
   ]
  },
  {
   "cell_type": "code",
   "execution_count": null,
   "id": "0e0abcc8",
   "metadata": {},
   "outputs": [],
   "source": [
    "# 시리즈 만들기\n",
    "['amy',170,240]"
   ]
  },
  {
   "cell_type": "code",
   "execution_count": null,
   "id": "ab5d0a0c",
   "metadata": {},
   "outputs": [],
   "source": [
    "# 타입 확인하기"
   ]
  },
  {
   "cell_type": "markdown",
   "id": "fc7fd74a",
   "metadata": {},
   "source": [
    "# 시리즈의 index와 value 가져오기\n",
    "* 시리즈에는 index와 value가 있다.\n",
    "* 시리즈의 index 가져오기 : **시리즈.index**\n",
    "* 시리즈의 value 가져오기 : **시리즈.values**\n",
    "* 시리즈의 인덱스는 리스트의 인덱스와 다른 개념이다.       \n",
    "시리즌의 인덱스는 데이터의 이름이고, 행번호는 따로 있다.\n"
   ]
  },
  {
   "cell_type": "code",
   "execution_count": null,
   "id": "624e4140",
   "metadata": {
    "scrolled": true
   },
   "outputs": [],
   "source": [
    "# 시리즈 인덱스 가져오기"
   ]
  },
  {
   "cell_type": "code",
   "execution_count": null,
   "id": "541a9f97",
   "metadata": {
    "scrolled": false
   },
   "outputs": [],
   "source": [
    "# 시리즈 데이터 가져오기"
   ]
  },
  {
   "cell_type": "markdown",
   "id": "5c6a6866",
   "metadata": {},
   "source": [
    "# 시리즈의 index 지정하기\n",
    "* 시리즈.index = 인덱스리스트\n",
    "* 시리즈의 인덱는 숫자, 문자열 모두 가능하다."
   ]
  },
  {
   "cell_type": "code",
   "execution_count": null,
   "id": "6f2b6398",
   "metadata": {
    "scrolled": true
   },
   "outputs": [],
   "source": [
    "# 시리즈 인덱스 지정하기"
   ]
  },
  {
   "cell_type": "code",
   "execution_count": null,
   "id": "53b0175e",
   "metadata": {
    "scrolled": true
   },
   "outputs": [],
   "source": [
    "# 시리즈 출력하기"
   ]
  },
  {
   "cell_type": "code",
   "execution_count": null,
   "id": "2b41c59f",
   "metadata": {
    "scrolled": true
   },
   "outputs": [],
   "source": [
    "# 인덱스 확인하기"
   ]
  },
  {
   "cell_type": "code",
   "execution_count": null,
   "id": "38127566",
   "metadata": {},
   "outputs": [],
   "source": [
    "# 데이터 확인하기"
   ]
  },
  {
   "cell_type": "markdown",
   "id": "b0d3c221",
   "metadata": {},
   "source": [
    "# 시리즈의 통계값 사용하기\n",
    "* 평균 : 시리즈.mean()\n",
    "* 최소값 : 시리즈.min()\n",
    "* 최대값 : 시리즈.max()\n",
    "* 중간값 : 시리즈.median()\n",
    "* 표준편차 : 시리즈.std()\n",
    "* 시리즈의 통계값은 시리즈의 value가 모두 숫자형일 때 사용할 수 있다."
   ]
  },
  {
   "cell_type": "code",
   "execution_count": null,
   "id": "49a49e82",
   "metadata": {},
   "outputs": [],
   "source": [
    "s2 = pd.Series([10,20,30,40,50])"
   ]
  },
  {
   "cell_type": "code",
   "execution_count": null,
   "id": "f6fe27ee",
   "metadata": {
    "scrolled": false
   },
   "outputs": [],
   "source": [
    "print('평균:',)\n",
    "print('최소값:',)\n",
    "print('최대값:',)\n",
    "print('중간값:',)\n",
    "print('표준편차:',)"
   ]
  },
  {
   "cell_type": "markdown",
   "id": "f73d1671",
   "metadata": {},
   "source": [
    "* 요약통계 : 시리즈.describe()"
   ]
  },
  {
   "cell_type": "code",
   "execution_count": null,
   "id": "082ee32b",
   "metadata": {},
   "outputs": [],
   "source": []
  },
  {
   "cell_type": "markdown",
   "id": "475dbc01",
   "metadata": {},
   "source": [
    "# 시리즈 주요 메서드\n",
    "* 값 정렬 : 시리즈.**sort_values( )**\n",
    "* 인덱스 정렬 : 시리즈.**sort_index( )**\n",
    "* 인덱스 리셋 : 시리즈.**reset_index( )**  --> 행번호로 인덱스 재지정\n",
    "* 특정 값을 가진 시리즈 값을 교체 : **replace(찾을값, 교체할값)**\n",
    "* 시리즈를 데이터프레임으로 변환 : **시리즈.to_frame( )**"
   ]
  },
  {
   "cell_type": "code",
   "execution_count": null,
   "id": "47cc9675",
   "metadata": {},
   "outputs": [],
   "source": [
    "s3 = pd.Series([1,3,2,4,10])"
   ]
  },
  {
   "cell_type": "code",
   "execution_count": null,
   "id": "5df6c461",
   "metadata": {},
   "outputs": [],
   "source": [
    "# s3의 value 중 10을 5로 교체"
   ]
  },
  {
   "cell_type": "code",
   "execution_count": null,
   "id": "67824533",
   "metadata": {
    "scrolled": false
   },
   "outputs": [],
   "source": [
    "# s3 정렬 (디폴트는 오름차순 : ascending=True)"
   ]
  },
  {
   "cell_type": "code",
   "execution_count": null,
   "id": "4461c804",
   "metadata": {},
   "outputs": [],
   "source": []
  },
  {
   "cell_type": "code",
   "execution_count": null,
   "id": "5ba22937",
   "metadata": {
    "scrolled": false
   },
   "outputs": [],
   "source": [
    "# s3을 데이터프레임으로 만들기"
   ]
  },
  {
   "cell_type": "code",
   "execution_count": null,
   "id": "014349ee",
   "metadata": {},
   "outputs": [],
   "source": [
    "# 시리즈 인덱스 새로 만들기"
   ]
  }
 ],
 "metadata": {
  "kernelspec": {
   "display_name": "Python 3",
   "language": "python",
   "name": "python3"
  },
  "language_info": {
   "codemirror_mode": {
    "name": "ipython",
    "version": 3
   },
   "file_extension": ".py",
   "mimetype": "text/x-python",
   "name": "python",
   "nbconvert_exporter": "python",
   "pygments_lexer": "ipython3",
   "version": "3.8.8"
  },
  "toc": {
   "base_numbering": 1,
   "nav_menu": {},
   "number_sections": true,
   "sideBar": true,
   "skip_h1_title": false,
   "title_cell": "Table of Contents",
   "title_sidebar": "Contents",
   "toc_cell": false,
   "toc_position": {},
   "toc_section_display": true,
   "toc_window_display": true
  }
 },
 "nbformat": 4,
 "nbformat_minor": 5
}
